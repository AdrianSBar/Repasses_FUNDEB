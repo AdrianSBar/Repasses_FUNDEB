{
 "cells": [
  {
   "cell_type": "markdown",
   "metadata": {},
   "source": [
    "# **IMPORTS/COMFIGIRAÇÕES**"
   ]
  },
  {
   "cell_type": "code",
   "execution_count": 2,
   "metadata": {},
   "outputs": [],
   "source": [
    "# Bibliotecas para manipulação de dados\n",
    "import math\n",
    "import numpy as np  # Manipulação de matrizes\n",
    "import pandas as pd  # Manipulação de dados tabulares\n",
    "import datetime  # Manipulação de data e hora\n",
    "# Bibliotecs de visualização gráfica\n",
    "import plotly.express as px\n",
    "# Biblioiteca de deploy\n",
    "import streamlit as st\n",
    "# Bibliotecas próprias\n",
    "from biblioteca.data_extraction import *  # Biblioteca própria para extração dos dados\n",
    "from biblioteca.data_transform import *  # Biblioteca própria para transformação dos dados\n",
    "# Biblioteca de Ml\n",
    "from pycaret.time_series import *\n",
    "# Biblioteca de filtro de notificações\n",
    "import warnings\n",
    "\n",
    "\n",
    "\n",
    "warnings.filterwarnings(action='ignore')\n",
    "pd.options.display.max_rows = None\n",
    "pd.options.display.max_columns = None\n",
    "pd.options.display.max_colwidth = None\n",
    "pd.options.display.float_format = lambda x: f'{x:,.2f}'\n",
    "px.defaults.template = 'plotly_dark'"
   ]
  },
  {
   "cell_type": "markdown",
   "metadata": {},
   "source": [
    "# **LOAD**"
   ]
  },
  {
   "cell_type": "code",
   "execution_count": 3,
   "metadata": {},
   "outputs": [
    {
     "data": {
      "text/html": [
       "<div>\n",
       "<style scoped>\n",
       "    .dataframe tbody tr th:only-of-type {\n",
       "        vertical-align: middle;\n",
       "    }\n",
       "\n",
       "    .dataframe tbody tr th {\n",
       "        vertical-align: top;\n",
       "    }\n",
       "\n",
       "    .dataframe thead th {\n",
       "        text-align: right;\n",
       "    }\n",
       "</style>\n",
       "<table border=\"1\" class=\"dataframe\">\n",
       "  <thead>\n",
       "    <tr style=\"text-align: right;\">\n",
       "      <th></th>\n",
       "      <th>ESFERA</th>\n",
       "      <th>UF</th>\n",
       "      <th>REPASSE</th>\n",
       "      <th>TOTAL AJUSTE</th>\n",
       "      <th>TOTAL LIQUIDO</th>\n",
       "      <th>CATEGORIA</th>\n",
       "    </tr>\n",
       "    <tr>\n",
       "      <th>COMPETÊNCIA</th>\n",
       "      <th></th>\n",
       "      <th></th>\n",
       "      <th></th>\n",
       "      <th></th>\n",
       "      <th></th>\n",
       "      <th></th>\n",
       "    </tr>\n",
       "  </thead>\n",
       "  <tbody>\n",
       "    <tr>\n",
       "      <th>2019-06-01</th>\n",
       "      <td>Estadual</td>\n",
       "      <td>MS</td>\n",
       "      <td>COUN_VAAF</td>\n",
       "      <td>0.00</td>\n",
       "      <td>0.00</td>\n",
       "      <td>Complementação VAAF</td>\n",
       "    </tr>\n",
       "    <tr>\n",
       "      <th>2016-04-01</th>\n",
       "      <td>Estadual</td>\n",
       "      <td>RO</td>\n",
       "      <td>FPE</td>\n",
       "      <td>0.00</td>\n",
       "      <td>19,020,039.17</td>\n",
       "      <td>FPE</td>\n",
       "    </tr>\n",
       "    <tr>\n",
       "      <th>2021-11-01</th>\n",
       "      <td>Estadual</td>\n",
       "      <td>PA</td>\n",
       "      <td>AFE_EC123</td>\n",
       "      <td>0.00</td>\n",
       "      <td>0.00</td>\n",
       "      <td>Outros</td>\n",
       "    </tr>\n",
       "    <tr>\n",
       "      <th>2021-11-01</th>\n",
       "      <td>Estadual</td>\n",
       "      <td>BA</td>\n",
       "      <td>AFE_EC123</td>\n",
       "      <td>0.00</td>\n",
       "      <td>0.00</td>\n",
       "      <td>Outros</td>\n",
       "    </tr>\n",
       "    <tr>\n",
       "      <th>2021-02-01</th>\n",
       "      <td>Estadual</td>\n",
       "      <td>AP</td>\n",
       "      <td>IPVA</td>\n",
       "      <td>0.00</td>\n",
       "      <td>869,048.86</td>\n",
       "      <td>IPVA</td>\n",
       "    </tr>\n",
       "  </tbody>\n",
       "</table>\n",
       "</div>"
      ],
      "text/plain": [
       "               ESFERA  UF    REPASSE  TOTAL AJUSTE  TOTAL LIQUIDO  \\\n",
       "COMPETÊNCIA                                                         \n",
       "2019-06-01   Estadual  MS  COUN_VAAF          0.00           0.00   \n",
       "2016-04-01   Estadual  RO        FPE          0.00  19,020,039.17   \n",
       "2021-11-01   Estadual  PA  AFE_EC123          0.00           0.00   \n",
       "2021-11-01   Estadual  BA  AFE_EC123          0.00           0.00   \n",
       "2021-02-01   Estadual  AP       IPVA          0.00     869,048.86   \n",
       "\n",
       "                       CATEGORIA  \n",
       "COMPETÊNCIA                       \n",
       "2019-06-01   Complementação VAAF  \n",
       "2016-04-01                   FPE  \n",
       "2021-11-01                Outros  \n",
       "2021-11-01                Outros  \n",
       "2021-02-01                  IPVA  "
      ]
     },
     "metadata": {},
     "output_type": "display_data"
    }
   ],
   "source": [
    "def load(path):\n",
    "    df = pd.read_csv(path, parse_dates=['COMPETÊNCIA'], index_col='COMPETÊNCIA')\n",
    "    df_e = df[df.ESFERA == 'Estadual']\n",
    "    df_m = df[df.ESFERA == 'Municipal']\n",
    "    return df_e, df_m\n",
    "\n",
    "df_e, df_m = load('./data.csv')\n",
    "display(df_e.sample(5))"
   ]
  },
  {
   "cell_type": "code",
   "execution_count": 4,
   "metadata": {},
   "outputs": [
    {
     "data": {
      "text/html": [
       "<div>\n",
       "<style scoped>\n",
       "    .dataframe tbody tr th:only-of-type {\n",
       "        vertical-align: middle;\n",
       "    }\n",
       "\n",
       "    .dataframe tbody tr th {\n",
       "        vertical-align: top;\n",
       "    }\n",
       "\n",
       "    .dataframe thead th {\n",
       "        text-align: right;\n",
       "    }\n",
       "</style>\n",
       "<table border=\"1\" class=\"dataframe\">\n",
       "  <thead>\n",
       "    <tr style=\"text-align: right;\">\n",
       "      <th>UF</th>\n",
       "      <th>AC</th>\n",
       "      <th>AL</th>\n",
       "      <th>AM</th>\n",
       "      <th>AP</th>\n",
       "      <th>BA</th>\n",
       "      <th>CE</th>\n",
       "      <th>DF</th>\n",
       "      <th>ES</th>\n",
       "      <th>GO</th>\n",
       "      <th>MA</th>\n",
       "      <th>MG</th>\n",
       "      <th>MS</th>\n",
       "      <th>MT</th>\n",
       "      <th>PA</th>\n",
       "      <th>PB</th>\n",
       "      <th>PE</th>\n",
       "      <th>PI</th>\n",
       "      <th>PR</th>\n",
       "      <th>RJ</th>\n",
       "      <th>RN</th>\n",
       "      <th>RO</th>\n",
       "      <th>RR</th>\n",
       "      <th>RS</th>\n",
       "      <th>SC</th>\n",
       "      <th>SE</th>\n",
       "      <th>SP</th>\n",
       "      <th>TO</th>\n",
       "    </tr>\n",
       "    <tr>\n",
       "      <th>COMPETÊNCIA</th>\n",
       "      <th></th>\n",
       "      <th></th>\n",
       "      <th></th>\n",
       "      <th></th>\n",
       "      <th></th>\n",
       "      <th></th>\n",
       "      <th></th>\n",
       "      <th></th>\n",
       "      <th></th>\n",
       "      <th></th>\n",
       "      <th></th>\n",
       "      <th></th>\n",
       "      <th></th>\n",
       "      <th></th>\n",
       "      <th></th>\n",
       "      <th></th>\n",
       "      <th></th>\n",
       "      <th></th>\n",
       "      <th></th>\n",
       "      <th></th>\n",
       "      <th></th>\n",
       "      <th></th>\n",
       "      <th></th>\n",
       "      <th></th>\n",
       "      <th></th>\n",
       "      <th></th>\n",
       "      <th></th>\n",
       "    </tr>\n",
       "  </thead>\n",
       "  <tbody>\n",
       "    <tr>\n",
       "      <th>2007-01-01</th>\n",
       "      <td>14,412,989.93</td>\n",
       "      <td>10,256,521.49</td>\n",
       "      <td>27,943,538.46</td>\n",
       "      <td>16,311,777.23</td>\n",
       "      <td>36,042,237.72</td>\n",
       "      <td>14,047,735.13</td>\n",
       "      <td>4,119,975.11</td>\n",
       "      <td>27,378,954.14</td>\n",
       "      <td>52,854,486.08</td>\n",
       "      <td>14,365,535.24</td>\n",
       "      <td>171,622,071.48</td>\n",
       "      <td>20,957,464.96</td>\n",
       "      <td>29,914,439.53</td>\n",
       "      <td>19,519,590.38</td>\n",
       "      <td>21,924,173.82</td>\n",
       "      <td>42,204,491.65</td>\n",
       "      <td>11,191,635.49</td>\n",
       "      <td>90,383,629.57</td>\n",
       "      <td>64,999,520.74</td>\n",
       "      <td>22,701,880.35</td>\n",
       "      <td>17,562,090.39</td>\n",
       "      <td>11,999,428.43</td>\n",
       "      <td>123,815,064.83</td>\n",
       "      <td>58,206,262.12</td>\n",
       "      <td>16,421,156.48</td>\n",
       "      <td>525,149,806.34</td>\n",
       "      <td>16,331,573.81</td>\n",
       "    </tr>\n",
       "    <tr>\n",
       "      <th>2007-02-01</th>\n",
       "      <td>14,895,257.97</td>\n",
       "      <td>12,372,527.84</td>\n",
       "      <td>26,074,852.23</td>\n",
       "      <td>14,264,167.26</td>\n",
       "      <td>37,708,281.85</td>\n",
       "      <td>12,246,894.26</td>\n",
       "      <td>4,405,280.19</td>\n",
       "      <td>25,905,547.03</td>\n",
       "      <td>50,274,278.17</td>\n",
       "      <td>15,315,952.18</td>\n",
       "      <td>167,815,142.32</td>\n",
       "      <td>26,552,684.41</td>\n",
       "      <td>30,148,986.12</td>\n",
       "      <td>25,482,789.10</td>\n",
       "      <td>23,527,859.40</td>\n",
       "      <td>40,442,860.29</td>\n",
       "      <td>11,030,537.14</td>\n",
       "      <td>82,507,363.97</td>\n",
       "      <td>57,226,412.94</td>\n",
       "      <td>19,036,464.72</td>\n",
       "      <td>15,352,611.26</td>\n",
       "      <td>14,331,052.38</td>\n",
       "      <td>83,224,524.59</td>\n",
       "      <td>57,328,063.26</td>\n",
       "      <td>14,789,985.46</td>\n",
       "      <td>434,965,363.38</td>\n",
       "      <td>20,864,891.72</td>\n",
       "    </tr>\n",
       "    <tr>\n",
       "      <th>2007-03-01</th>\n",
       "      <td>14,225,224.33</td>\n",
       "      <td>16,250,129.21</td>\n",
       "      <td>27,911,816.02</td>\n",
       "      <td>15,180,756.22</td>\n",
       "      <td>61,975,698.68</td>\n",
       "      <td>28,426,188.24</td>\n",
       "      <td>4,061,415.32</td>\n",
       "      <td>27,856,321.06</td>\n",
       "      <td>45,710,034.82</td>\n",
       "      <td>28,928,186.30</td>\n",
       "      <td>186,752,113.83</td>\n",
       "      <td>26,855,001.99</td>\n",
       "      <td>33,733,511.47</td>\n",
       "      <td>38,411,227.09</td>\n",
       "      <td>23,378,471.74</td>\n",
       "      <td>46,362,054.88</td>\n",
       "      <td>16,608,286.96</td>\n",
       "      <td>95,838,035.11</td>\n",
       "      <td>74,956,450.10</td>\n",
       "      <td>22,295,037.15</td>\n",
       "      <td>18,997,014.14</td>\n",
       "      <td>12,917,484.11</td>\n",
       "      <td>113,189,147.54</td>\n",
       "      <td>62,453,074.28</td>\n",
       "      <td>15,703,289.80</td>\n",
       "      <td>508,425,560.22</td>\n",
       "      <td>19,749,986.59</td>\n",
       "    </tr>\n",
       "    <tr>\n",
       "      <th>2007-04-01</th>\n",
       "      <td>20,285,084.39</td>\n",
       "      <td>21,717,712.66</td>\n",
       "      <td>29,786,641.18</td>\n",
       "      <td>25,168,447.00</td>\n",
       "      <td>99,615,476.46</td>\n",
       "      <td>45,660,527.87</td>\n",
       "      <td>6,231,685.34</td>\n",
       "      <td>30,356,776.68</td>\n",
       "      <td>61,246,992.20</td>\n",
       "      <td>38,933,913.36</td>\n",
       "      <td>302,345,363.00</td>\n",
       "      <td>39,414,890.22</td>\n",
       "      <td>41,955,776.15</td>\n",
       "      <td>53,063,167.90</td>\n",
       "      <td>32,123,412.83</td>\n",
       "      <td>69,724,630.53</td>\n",
       "      <td>26,536,990.40</td>\n",
       "      <td>136,847,785.67</td>\n",
       "      <td>107,367,593.10</td>\n",
       "      <td>33,171,021.46</td>\n",
       "      <td>25,535,205.37</td>\n",
       "      <td>17,568,022.79</td>\n",
       "      <td>163,349,996.28</td>\n",
       "      <td>89,411,902.60</td>\n",
       "      <td>22,967,045.93</td>\n",
       "      <td>766,287,139.15</td>\n",
       "      <td>30,075,396.07</td>\n",
       "    </tr>\n",
       "    <tr>\n",
       "      <th>2007-05-01</th>\n",
       "      <td>17,085,455.69</td>\n",
       "      <td>19,906,997.44</td>\n",
       "      <td>45,030,962.51</td>\n",
       "      <td>19,161,892.14</td>\n",
       "      <td>76,415,254.62</td>\n",
       "      <td>31,338,354.51</td>\n",
       "      <td>5,209,085.47</td>\n",
       "      <td>35,417,356.79</td>\n",
       "      <td>48,829,044.86</td>\n",
       "      <td>37,097,936.09</td>\n",
       "      <td>211,118,055.86</td>\n",
       "      <td>32,006,864.98</td>\n",
       "      <td>36,333,072.55</td>\n",
       "      <td>43,936,551.48</td>\n",
       "      <td>31,375,641.96</td>\n",
       "      <td>58,046,093.80</td>\n",
       "      <td>19,670,804.95</td>\n",
       "      <td>108,451,531.06</td>\n",
       "      <td>83,545,085.17</td>\n",
       "      <td>28,737,192.39</td>\n",
       "      <td>34,476,939.13</td>\n",
       "      <td>17,152,502.52</td>\n",
       "      <td>123,376,673.63</td>\n",
       "      <td>71,886,420.93</td>\n",
       "      <td>19,790,261.17</td>\n",
       "      <td>614,216,307.11</td>\n",
       "      <td>25,433,631.94</td>\n",
       "    </tr>\n",
       "  </tbody>\n",
       "</table>\n",
       "</div>"
      ],
      "text/plain": [
       "UF                     AC            AL            AM            AP  \\\n",
       "COMPETÊNCIA                                                           \n",
       "2007-01-01  14,412,989.93 10,256,521.49 27,943,538.46 16,311,777.23   \n",
       "2007-02-01  14,895,257.97 12,372,527.84 26,074,852.23 14,264,167.26   \n",
       "2007-03-01  14,225,224.33 16,250,129.21 27,911,816.02 15,180,756.22   \n",
       "2007-04-01  20,285,084.39 21,717,712.66 29,786,641.18 25,168,447.00   \n",
       "2007-05-01  17,085,455.69 19,906,997.44 45,030,962.51 19,161,892.14   \n",
       "\n",
       "UF                     BA            CE           DF            ES  \\\n",
       "COMPETÊNCIA                                                          \n",
       "2007-01-01  36,042,237.72 14,047,735.13 4,119,975.11 27,378,954.14   \n",
       "2007-02-01  37,708,281.85 12,246,894.26 4,405,280.19 25,905,547.03   \n",
       "2007-03-01  61,975,698.68 28,426,188.24 4,061,415.32 27,856,321.06   \n",
       "2007-04-01  99,615,476.46 45,660,527.87 6,231,685.34 30,356,776.68   \n",
       "2007-05-01  76,415,254.62 31,338,354.51 5,209,085.47 35,417,356.79   \n",
       "\n",
       "UF                     GO            MA             MG            MS  \\\n",
       "COMPETÊNCIA                                                            \n",
       "2007-01-01  52,854,486.08 14,365,535.24 171,622,071.48 20,957,464.96   \n",
       "2007-02-01  50,274,278.17 15,315,952.18 167,815,142.32 26,552,684.41   \n",
       "2007-03-01  45,710,034.82 28,928,186.30 186,752,113.83 26,855,001.99   \n",
       "2007-04-01  61,246,992.20 38,933,913.36 302,345,363.00 39,414,890.22   \n",
       "2007-05-01  48,829,044.86 37,097,936.09 211,118,055.86 32,006,864.98   \n",
       "\n",
       "UF                     MT            PA            PB            PE  \\\n",
       "COMPETÊNCIA                                                           \n",
       "2007-01-01  29,914,439.53 19,519,590.38 21,924,173.82 42,204,491.65   \n",
       "2007-02-01  30,148,986.12 25,482,789.10 23,527,859.40 40,442,860.29   \n",
       "2007-03-01  33,733,511.47 38,411,227.09 23,378,471.74 46,362,054.88   \n",
       "2007-04-01  41,955,776.15 53,063,167.90 32,123,412.83 69,724,630.53   \n",
       "2007-05-01  36,333,072.55 43,936,551.48 31,375,641.96 58,046,093.80   \n",
       "\n",
       "UF                     PI             PR             RJ            RN  \\\n",
       "COMPETÊNCIA                                                             \n",
       "2007-01-01  11,191,635.49  90,383,629.57  64,999,520.74 22,701,880.35   \n",
       "2007-02-01  11,030,537.14  82,507,363.97  57,226,412.94 19,036,464.72   \n",
       "2007-03-01  16,608,286.96  95,838,035.11  74,956,450.10 22,295,037.15   \n",
       "2007-04-01  26,536,990.40 136,847,785.67 107,367,593.10 33,171,021.46   \n",
       "2007-05-01  19,670,804.95 108,451,531.06  83,545,085.17 28,737,192.39   \n",
       "\n",
       "UF                     RO            RR             RS            SC  \\\n",
       "COMPETÊNCIA                                                            \n",
       "2007-01-01  17,562,090.39 11,999,428.43 123,815,064.83 58,206,262.12   \n",
       "2007-02-01  15,352,611.26 14,331,052.38  83,224,524.59 57,328,063.26   \n",
       "2007-03-01  18,997,014.14 12,917,484.11 113,189,147.54 62,453,074.28   \n",
       "2007-04-01  25,535,205.37 17,568,022.79 163,349,996.28 89,411,902.60   \n",
       "2007-05-01  34,476,939.13 17,152,502.52 123,376,673.63 71,886,420.93   \n",
       "\n",
       "UF                     SE             SP            TO  \n",
       "COMPETÊNCIA                                             \n",
       "2007-01-01  16,421,156.48 525,149,806.34 16,331,573.81  \n",
       "2007-02-01  14,789,985.46 434,965,363.38 20,864,891.72  \n",
       "2007-03-01  15,703,289.80 508,425,560.22 19,749,986.59  \n",
       "2007-04-01  22,967,045.93 766,287,139.15 30,075,396.07  \n",
       "2007-05-01  19,790,261.17 614,216,307.11 25,433,631.94  "
      ]
     },
     "metadata": {},
     "output_type": "display_data"
    }
   ],
   "source": [
    "y = df_e.pivot_table(values='TOTAL LIQUIDO', index=df_e.index, columns='UF', aggfunc='sum')\n",
    "# y['TOTAL'] = y.sum(axis='columns')\n",
    "display(y.head())"
   ]
  },
  {
   "cell_type": "code",
   "execution_count": 24,
   "metadata": {},
   "outputs": [
    {
     "data": {
      "text/plain": [
       "(204, 28)"
      ]
     },
     "execution_count": 24,
     "metadata": {},
     "output_type": "execute_result"
    }
   ],
   "source": [
    "y.shape"
   ]
  },
  {
   "cell_type": "markdown",
   "metadata": {},
   "source": [
    "# **ANÁLISE PREDITIVA**"
   ]
  },
  {
   "cell_type": "code",
   "execution_count": 5,
   "metadata": {},
   "outputs": [
    {
     "data": {
      "text/plain": [
       "COMPETÊNCIA\n",
       "2023-07-01   81,646,350.50\n",
       "2023-08-01   68,821,655.09\n",
       "2023-09-01   62,534,438.50\n",
       "2023-10-01   64,892,671.59\n",
       "2023-11-01   87,170,101.56\n",
       "Name: AP, dtype: float64"
      ]
     },
     "execution_count": 5,
     "metadata": {},
     "output_type": "execute_result"
    }
   ],
   "source": [
    "Y = y['AP'][0:203]\n",
    "Y.tail()"
   ]
  },
  {
   "cell_type": "code",
   "execution_count": 7,
   "metadata": {},
   "outputs": [
    {
     "data": {
      "text/html": [
       "<style type=\"text/css\">\n",
       "#T_fd853_row25_col1 {\n",
       "  background-color: lightgreen;\n",
       "}\n",
       "</style>\n",
       "<table id=\"T_fd853\">\n",
       "  <thead>\n",
       "    <tr>\n",
       "      <th class=\"blank level0\" >&nbsp;</th>\n",
       "      <th id=\"T_fd853_level0_col0\" class=\"col_heading level0 col0\" >Description</th>\n",
       "      <th id=\"T_fd853_level0_col1\" class=\"col_heading level0 col1\" >Value</th>\n",
       "    </tr>\n",
       "  </thead>\n",
       "  <tbody>\n",
       "    <tr>\n",
       "      <th id=\"T_fd853_level0_row0\" class=\"row_heading level0 row0\" >0</th>\n",
       "      <td id=\"T_fd853_row0_col0\" class=\"data row0 col0\" >session_id</td>\n",
       "      <td id=\"T_fd853_row0_col1\" class=\"data row0 col1\" >1</td>\n",
       "    </tr>\n",
       "    <tr>\n",
       "      <th id=\"T_fd853_level0_row1\" class=\"row_heading level0 row1\" >1</th>\n",
       "      <td id=\"T_fd853_row1_col0\" class=\"data row1 col0\" >Target</td>\n",
       "      <td id=\"T_fd853_row1_col1\" class=\"data row1 col1\" >AP</td>\n",
       "    </tr>\n",
       "    <tr>\n",
       "      <th id=\"T_fd853_level0_row2\" class=\"row_heading level0 row2\" >2</th>\n",
       "      <td id=\"T_fd853_row2_col0\" class=\"data row2 col0\" >Approach</td>\n",
       "      <td id=\"T_fd853_row2_col1\" class=\"data row2 col1\" >Univariate</td>\n",
       "    </tr>\n",
       "    <tr>\n",
       "      <th id=\"T_fd853_level0_row3\" class=\"row_heading level0 row3\" >3</th>\n",
       "      <td id=\"T_fd853_row3_col0\" class=\"data row3 col0\" >Exogenous Variables</td>\n",
       "      <td id=\"T_fd853_row3_col1\" class=\"data row3 col1\" >Not Present</td>\n",
       "    </tr>\n",
       "    <tr>\n",
       "      <th id=\"T_fd853_level0_row4\" class=\"row_heading level0 row4\" >4</th>\n",
       "      <td id=\"T_fd853_row4_col0\" class=\"data row4 col0\" >Original data shape</td>\n",
       "      <td id=\"T_fd853_row4_col1\" class=\"data row4 col1\" >(203, 1)</td>\n",
       "    </tr>\n",
       "    <tr>\n",
       "      <th id=\"T_fd853_level0_row5\" class=\"row_heading level0 row5\" >5</th>\n",
       "      <td id=\"T_fd853_row5_col0\" class=\"data row5 col0\" >Transformed data shape</td>\n",
       "      <td id=\"T_fd853_row5_col1\" class=\"data row5 col1\" >(203, 1)</td>\n",
       "    </tr>\n",
       "    <tr>\n",
       "      <th id=\"T_fd853_level0_row6\" class=\"row_heading level0 row6\" >6</th>\n",
       "      <td id=\"T_fd853_row6_col0\" class=\"data row6 col0\" >Transformed train set shape</td>\n",
       "      <td id=\"T_fd853_row6_col1\" class=\"data row6 col1\" >(191, 1)</td>\n",
       "    </tr>\n",
       "    <tr>\n",
       "      <th id=\"T_fd853_level0_row7\" class=\"row_heading level0 row7\" >7</th>\n",
       "      <td id=\"T_fd853_row7_col0\" class=\"data row7 col0\" >Transformed test set shape</td>\n",
       "      <td id=\"T_fd853_row7_col1\" class=\"data row7 col1\" >(12, 1)</td>\n",
       "    </tr>\n",
       "    <tr>\n",
       "      <th id=\"T_fd853_level0_row8\" class=\"row_heading level0 row8\" >8</th>\n",
       "      <td id=\"T_fd853_row8_col0\" class=\"data row8 col0\" >Rows with missing values</td>\n",
       "      <td id=\"T_fd853_row8_col1\" class=\"data row8 col1\" >0.0%</td>\n",
       "    </tr>\n",
       "    <tr>\n",
       "      <th id=\"T_fd853_level0_row9\" class=\"row_heading level0 row9\" >9</th>\n",
       "      <td id=\"T_fd853_row9_col0\" class=\"data row9 col0\" >Fold Generator</td>\n",
       "      <td id=\"T_fd853_row9_col1\" class=\"data row9 col1\" >ExpandingWindowSplitter</td>\n",
       "    </tr>\n",
       "    <tr>\n",
       "      <th id=\"T_fd853_level0_row10\" class=\"row_heading level0 row10\" >10</th>\n",
       "      <td id=\"T_fd853_row10_col0\" class=\"data row10 col0\" >Fold Number</td>\n",
       "      <td id=\"T_fd853_row10_col1\" class=\"data row10 col1\" >5</td>\n",
       "    </tr>\n",
       "    <tr>\n",
       "      <th id=\"T_fd853_level0_row11\" class=\"row_heading level0 row11\" >11</th>\n",
       "      <td id=\"T_fd853_row11_col0\" class=\"data row11 col0\" >Enforce Prediction Interval</td>\n",
       "      <td id=\"T_fd853_row11_col1\" class=\"data row11 col1\" >False</td>\n",
       "    </tr>\n",
       "    <tr>\n",
       "      <th id=\"T_fd853_level0_row12\" class=\"row_heading level0 row12\" >12</th>\n",
       "      <td id=\"T_fd853_row12_col0\" class=\"data row12 col0\" >Splits used for hyperparameters</td>\n",
       "      <td id=\"T_fd853_row12_col1\" class=\"data row12 col1\" >all</td>\n",
       "    </tr>\n",
       "    <tr>\n",
       "      <th id=\"T_fd853_level0_row13\" class=\"row_heading level0 row13\" >13</th>\n",
       "      <td id=\"T_fd853_row13_col0\" class=\"data row13 col0\" >User Defined Seasonal Period(s)</td>\n",
       "      <td id=\"T_fd853_row13_col1\" class=\"data row13 col1\" >None</td>\n",
       "    </tr>\n",
       "    <tr>\n",
       "      <th id=\"T_fd853_level0_row14\" class=\"row_heading level0 row14\" >14</th>\n",
       "      <td id=\"T_fd853_row14_col0\" class=\"data row14 col0\" >Ignore Seasonality Test</td>\n",
       "      <td id=\"T_fd853_row14_col1\" class=\"data row14 col1\" >False</td>\n",
       "    </tr>\n",
       "    <tr>\n",
       "      <th id=\"T_fd853_level0_row15\" class=\"row_heading level0 row15\" >15</th>\n",
       "      <td id=\"T_fd853_row15_col0\" class=\"data row15 col0\" >Seasonality Detection Algo</td>\n",
       "      <td id=\"T_fd853_row15_col1\" class=\"data row15 col1\" >auto</td>\n",
       "    </tr>\n",
       "    <tr>\n",
       "      <th id=\"T_fd853_level0_row16\" class=\"row_heading level0 row16\" >16</th>\n",
       "      <td id=\"T_fd853_row16_col0\" class=\"data row16 col0\" >Max Period to Consider</td>\n",
       "      <td id=\"T_fd853_row16_col1\" class=\"data row16 col1\" >60</td>\n",
       "    </tr>\n",
       "    <tr>\n",
       "      <th id=\"T_fd853_level0_row17\" class=\"row_heading level0 row17\" >17</th>\n",
       "      <td id=\"T_fd853_row17_col0\" class=\"data row17 col0\" >Seasonal Period(s) Tested</td>\n",
       "      <td id=\"T_fd853_row17_col1\" class=\"data row17 col1\" >[12, 6, 24, 36, 3, 18, 48, 60]</td>\n",
       "    </tr>\n",
       "    <tr>\n",
       "      <th id=\"T_fd853_level0_row18\" class=\"row_heading level0 row18\" >18</th>\n",
       "      <td id=\"T_fd853_row18_col0\" class=\"data row18 col0\" >Significant Seasonal Period(s)</td>\n",
       "      <td id=\"T_fd853_row18_col1\" class=\"data row18 col1\" >[12, 6, 24, 36, 3, 18, 48, 60]</td>\n",
       "    </tr>\n",
       "    <tr>\n",
       "      <th id=\"T_fd853_level0_row19\" class=\"row_heading level0 row19\" >19</th>\n",
       "      <td id=\"T_fd853_row19_col0\" class=\"data row19 col0\" >Significant Seasonal Period(s) without Harmonics</td>\n",
       "      <td id=\"T_fd853_row19_col1\" class=\"data row19 col1\" >[60, 48, 36]</td>\n",
       "    </tr>\n",
       "    <tr>\n",
       "      <th id=\"T_fd853_level0_row20\" class=\"row_heading level0 row20\" >20</th>\n",
       "      <td id=\"T_fd853_row20_col0\" class=\"data row20 col0\" >Remove Harmonics</td>\n",
       "      <td id=\"T_fd853_row20_col1\" class=\"data row20 col1\" >False</td>\n",
       "    </tr>\n",
       "    <tr>\n",
       "      <th id=\"T_fd853_level0_row21\" class=\"row_heading level0 row21\" >21</th>\n",
       "      <td id=\"T_fd853_row21_col0\" class=\"data row21 col0\" >Harmonics Order Method</td>\n",
       "      <td id=\"T_fd853_row21_col1\" class=\"data row21 col1\" >harmonic_max</td>\n",
       "    </tr>\n",
       "    <tr>\n",
       "      <th id=\"T_fd853_level0_row22\" class=\"row_heading level0 row22\" >22</th>\n",
       "      <td id=\"T_fd853_row22_col0\" class=\"data row22 col0\" >Num Seasonalities to Use</td>\n",
       "      <td id=\"T_fd853_row22_col1\" class=\"data row22 col1\" >1</td>\n",
       "    </tr>\n",
       "    <tr>\n",
       "      <th id=\"T_fd853_level0_row23\" class=\"row_heading level0 row23\" >23</th>\n",
       "      <td id=\"T_fd853_row23_col0\" class=\"data row23 col0\" >All Seasonalities to Use</td>\n",
       "      <td id=\"T_fd853_row23_col1\" class=\"data row23 col1\" >[12]</td>\n",
       "    </tr>\n",
       "    <tr>\n",
       "      <th id=\"T_fd853_level0_row24\" class=\"row_heading level0 row24\" >24</th>\n",
       "      <td id=\"T_fd853_row24_col0\" class=\"data row24 col0\" >Primary Seasonality</td>\n",
       "      <td id=\"T_fd853_row24_col1\" class=\"data row24 col1\" >12</td>\n",
       "    </tr>\n",
       "    <tr>\n",
       "      <th id=\"T_fd853_level0_row25\" class=\"row_heading level0 row25\" >25</th>\n",
       "      <td id=\"T_fd853_row25_col0\" class=\"data row25 col0\" >Seasonality Present</td>\n",
       "      <td id=\"T_fd853_row25_col1\" class=\"data row25 col1\" >True</td>\n",
       "    </tr>\n",
       "    <tr>\n",
       "      <th id=\"T_fd853_level0_row26\" class=\"row_heading level0 row26\" >26</th>\n",
       "      <td id=\"T_fd853_row26_col0\" class=\"data row26 col0\" >Seasonality Type</td>\n",
       "      <td id=\"T_fd853_row26_col1\" class=\"data row26 col1\" >mul</td>\n",
       "    </tr>\n",
       "    <tr>\n",
       "      <th id=\"T_fd853_level0_row27\" class=\"row_heading level0 row27\" >27</th>\n",
       "      <td id=\"T_fd853_row27_col0\" class=\"data row27 col0\" >Target Strictly Positive</td>\n",
       "      <td id=\"T_fd853_row27_col1\" class=\"data row27 col1\" >True</td>\n",
       "    </tr>\n",
       "    <tr>\n",
       "      <th id=\"T_fd853_level0_row28\" class=\"row_heading level0 row28\" >28</th>\n",
       "      <td id=\"T_fd853_row28_col0\" class=\"data row28 col0\" >Target White Noise</td>\n",
       "      <td id=\"T_fd853_row28_col1\" class=\"data row28 col1\" >No</td>\n",
       "    </tr>\n",
       "    <tr>\n",
       "      <th id=\"T_fd853_level0_row29\" class=\"row_heading level0 row29\" >29</th>\n",
       "      <td id=\"T_fd853_row29_col0\" class=\"data row29 col0\" >Recommended d</td>\n",
       "      <td id=\"T_fd853_row29_col1\" class=\"data row29 col1\" >1</td>\n",
       "    </tr>\n",
       "    <tr>\n",
       "      <th id=\"T_fd853_level0_row30\" class=\"row_heading level0 row30\" >30</th>\n",
       "      <td id=\"T_fd853_row30_col0\" class=\"data row30 col0\" >Recommended Seasonal D</td>\n",
       "      <td id=\"T_fd853_row30_col1\" class=\"data row30 col1\" >0</td>\n",
       "    </tr>\n",
       "    <tr>\n",
       "      <th id=\"T_fd853_level0_row31\" class=\"row_heading level0 row31\" >31</th>\n",
       "      <td id=\"T_fd853_row31_col0\" class=\"data row31 col0\" >Preprocess</td>\n",
       "      <td id=\"T_fd853_row31_col1\" class=\"data row31 col1\" >False</td>\n",
       "    </tr>\n",
       "    <tr>\n",
       "      <th id=\"T_fd853_level0_row32\" class=\"row_heading level0 row32\" >32</th>\n",
       "      <td id=\"T_fd853_row32_col0\" class=\"data row32 col0\" >CPU Jobs</td>\n",
       "      <td id=\"T_fd853_row32_col1\" class=\"data row32 col1\" >-1</td>\n",
       "    </tr>\n",
       "    <tr>\n",
       "      <th id=\"T_fd853_level0_row33\" class=\"row_heading level0 row33\" >33</th>\n",
       "      <td id=\"T_fd853_row33_col0\" class=\"data row33 col0\" >Use GPU</td>\n",
       "      <td id=\"T_fd853_row33_col1\" class=\"data row33 col1\" >False</td>\n",
       "    </tr>\n",
       "    <tr>\n",
       "      <th id=\"T_fd853_level0_row34\" class=\"row_heading level0 row34\" >34</th>\n",
       "      <td id=\"T_fd853_row34_col0\" class=\"data row34 col0\" >Log Experiment</td>\n",
       "      <td id=\"T_fd853_row34_col1\" class=\"data row34 col1\" >False</td>\n",
       "    </tr>\n",
       "    <tr>\n",
       "      <th id=\"T_fd853_level0_row35\" class=\"row_heading level0 row35\" >35</th>\n",
       "      <td id=\"T_fd853_row35_col0\" class=\"data row35 col0\" >Experiment Name</td>\n",
       "      <td id=\"T_fd853_row35_col1\" class=\"data row35 col1\" >ts-default-name</td>\n",
       "    </tr>\n",
       "    <tr>\n",
       "      <th id=\"T_fd853_level0_row36\" class=\"row_heading level0 row36\" >36</th>\n",
       "      <td id=\"T_fd853_row36_col0\" class=\"data row36 col0\" >USI</td>\n",
       "      <td id=\"T_fd853_row36_col1\" class=\"data row36 col1\" >839b</td>\n",
       "    </tr>\n",
       "  </tbody>\n",
       "</table>\n"
      ],
      "text/plain": [
       "<pandas.io.formats.style.Styler at 0x26c3b2cf4d0>"
      ]
     },
     "metadata": {},
     "output_type": "display_data"
    }
   ],
   "source": [
    "fh = math.ceil((datetime.datetime(year=datetime.datetime.today().year, month=12, day=31)-datetime.datetime.today()).days/30)\n",
    "\n",
    "s = setup(data=Y, fold=5, fh=fh, session_id=1)"
   ]
  },
  {
   "cell_type": "code",
   "execution_count": 8,
   "metadata": {},
   "outputs": [
    {
     "data": {
      "text/html": [],
      "text/plain": [
       "<IPython.core.display.HTML object>"
      ]
     },
     "metadata": {},
     "output_type": "display_data"
    },
    {
     "data": {
      "text/html": [
       "<style type=\"text/css\">\n",
       "#T_28f50 th {\n",
       "  text-align: left;\n",
       "}\n",
       "#T_28f50_row0_col0, #T_28f50_row1_col0, #T_28f50_row1_col1, #T_28f50_row1_col2, #T_28f50_row1_col3, #T_28f50_row1_col4, #T_28f50_row1_col5, #T_28f50_row1_col6, #T_28f50_row1_col7, #T_28f50_row2_col0, #T_28f50_row2_col1, #T_28f50_row2_col2, #T_28f50_row2_col3, #T_28f50_row2_col4, #T_28f50_row2_col5, #T_28f50_row2_col6, #T_28f50_row2_col7, #T_28f50_row3_col0, #T_28f50_row3_col1, #T_28f50_row3_col2, #T_28f50_row3_col3, #T_28f50_row3_col4, #T_28f50_row3_col5, #T_28f50_row3_col6, #T_28f50_row3_col7, #T_28f50_row4_col0, #T_28f50_row4_col1, #T_28f50_row4_col2, #T_28f50_row4_col3, #T_28f50_row4_col4, #T_28f50_row4_col5, #T_28f50_row4_col6, #T_28f50_row4_col7, #T_28f50_row5_col0, #T_28f50_row5_col1, #T_28f50_row5_col2, #T_28f50_row5_col3, #T_28f50_row5_col4, #T_28f50_row5_col5, #T_28f50_row5_col6, #T_28f50_row5_col7, #T_28f50_row6_col0, #T_28f50_row6_col1, #T_28f50_row6_col2, #T_28f50_row6_col3, #T_28f50_row6_col4, #T_28f50_row6_col5, #T_28f50_row6_col6, #T_28f50_row6_col7, #T_28f50_row7_col0, #T_28f50_row7_col1, #T_28f50_row7_col2, #T_28f50_row7_col3, #T_28f50_row7_col4, #T_28f50_row7_col5, #T_28f50_row7_col6, #T_28f50_row7_col7, #T_28f50_row8_col0, #T_28f50_row8_col1, #T_28f50_row8_col2, #T_28f50_row8_col3, #T_28f50_row8_col4, #T_28f50_row8_col5, #T_28f50_row8_col6, #T_28f50_row8_col7, #T_28f50_row9_col0, #T_28f50_row9_col1, #T_28f50_row9_col2, #T_28f50_row9_col3, #T_28f50_row9_col4, #T_28f50_row9_col5, #T_28f50_row9_col6, #T_28f50_row9_col7, #T_28f50_row10_col0, #T_28f50_row10_col1, #T_28f50_row10_col2, #T_28f50_row10_col3, #T_28f50_row10_col4, #T_28f50_row10_col5, #T_28f50_row10_col6, #T_28f50_row10_col7, #T_28f50_row11_col0, #T_28f50_row11_col1, #T_28f50_row11_col2, #T_28f50_row11_col3, #T_28f50_row11_col4, #T_28f50_row11_col5, #T_28f50_row11_col6, #T_28f50_row11_col7, #T_28f50_row12_col0, #T_28f50_row12_col1, #T_28f50_row12_col2, #T_28f50_row12_col3, #T_28f50_row12_col4, #T_28f50_row12_col5, #T_28f50_row12_col6, #T_28f50_row12_col7, #T_28f50_row13_col0, #T_28f50_row13_col1, #T_28f50_row13_col2, #T_28f50_row13_col3, #T_28f50_row13_col4, #T_28f50_row13_col5, #T_28f50_row13_col6, #T_28f50_row13_col7, #T_28f50_row14_col0, #T_28f50_row14_col1, #T_28f50_row14_col2, #T_28f50_row14_col3, #T_28f50_row14_col4, #T_28f50_row14_col5, #T_28f50_row14_col6, #T_28f50_row14_col7, #T_28f50_row15_col0, #T_28f50_row15_col1, #T_28f50_row15_col2, #T_28f50_row15_col3, #T_28f50_row15_col4, #T_28f50_row15_col5, #T_28f50_row15_col6, #T_28f50_row15_col7, #T_28f50_row16_col0, #T_28f50_row16_col1, #T_28f50_row16_col2, #T_28f50_row16_col3, #T_28f50_row16_col4, #T_28f50_row16_col5, #T_28f50_row16_col6, #T_28f50_row16_col7, #T_28f50_row17_col0, #T_28f50_row17_col1, #T_28f50_row17_col2, #T_28f50_row17_col3, #T_28f50_row17_col4, #T_28f50_row17_col5, #T_28f50_row17_col6, #T_28f50_row17_col7, #T_28f50_row18_col0, #T_28f50_row18_col1, #T_28f50_row18_col2, #T_28f50_row18_col3, #T_28f50_row18_col4, #T_28f50_row18_col5, #T_28f50_row18_col6, #T_28f50_row18_col7, #T_28f50_row19_col0, #T_28f50_row19_col1, #T_28f50_row19_col2, #T_28f50_row19_col3, #T_28f50_row19_col4, #T_28f50_row19_col5, #T_28f50_row19_col6, #T_28f50_row19_col7, #T_28f50_row20_col0, #T_28f50_row20_col1, #T_28f50_row20_col2, #T_28f50_row20_col3, #T_28f50_row20_col4, #T_28f50_row20_col5, #T_28f50_row20_col6, #T_28f50_row20_col7, #T_28f50_row21_col0, #T_28f50_row21_col1, #T_28f50_row21_col2, #T_28f50_row21_col3, #T_28f50_row21_col4, #T_28f50_row21_col5, #T_28f50_row21_col6, #T_28f50_row21_col7, #T_28f50_row22_col0, #T_28f50_row22_col1, #T_28f50_row22_col2, #T_28f50_row22_col3, #T_28f50_row22_col4, #T_28f50_row22_col5, #T_28f50_row22_col6, #T_28f50_row22_col7, #T_28f50_row23_col0, #T_28f50_row23_col1, #T_28f50_row23_col2, #T_28f50_row23_col3, #T_28f50_row23_col4, #T_28f50_row23_col5, #T_28f50_row23_col6, #T_28f50_row23_col7, #T_28f50_row24_col0, #T_28f50_row24_col1, #T_28f50_row24_col2, #T_28f50_row24_col3, #T_28f50_row24_col4, #T_28f50_row24_col5, #T_28f50_row24_col6, #T_28f50_row24_col7, #T_28f50_row25_col0, #T_28f50_row25_col1, #T_28f50_row25_col2, #T_28f50_row25_col3, #T_28f50_row25_col4, #T_28f50_row25_col5, #T_28f50_row25_col6, #T_28f50_row25_col7 {\n",
       "  text-align: left;\n",
       "}\n",
       "#T_28f50_row0_col1, #T_28f50_row0_col2, #T_28f50_row0_col3, #T_28f50_row0_col4, #T_28f50_row0_col5, #T_28f50_row0_col6, #T_28f50_row0_col7 {\n",
       "  text-align: left;\n",
       "  background-color: yellow;\n",
       "}\n",
       "#T_28f50_row0_col8, #T_28f50_row1_col8, #T_28f50_row2_col8, #T_28f50_row3_col8, #T_28f50_row4_col8, #T_28f50_row5_col8, #T_28f50_row6_col8, #T_28f50_row7_col8, #T_28f50_row8_col8, #T_28f50_row9_col8, #T_28f50_row10_col8, #T_28f50_row11_col8, #T_28f50_row12_col8, #T_28f50_row13_col8, #T_28f50_row14_col8, #T_28f50_row15_col8, #T_28f50_row16_col8, #T_28f50_row17_col8, #T_28f50_row18_col8, #T_28f50_row19_col8, #T_28f50_row20_col8, #T_28f50_row21_col8, #T_28f50_row22_col8, #T_28f50_row25_col8 {\n",
       "  text-align: left;\n",
       "  background-color: lightgrey;\n",
       "}\n",
       "#T_28f50_row23_col8, #T_28f50_row24_col8 {\n",
       "  text-align: left;\n",
       "  background-color: yellow;\n",
       "  background-color: lightgrey;\n",
       "}\n",
       "</style>\n",
       "<table id=\"T_28f50\">\n",
       "  <thead>\n",
       "    <tr>\n",
       "      <th class=\"blank level0\" >&nbsp;</th>\n",
       "      <th id=\"T_28f50_level0_col0\" class=\"col_heading level0 col0\" >Model</th>\n",
       "      <th id=\"T_28f50_level0_col1\" class=\"col_heading level0 col1\" >MASE</th>\n",
       "      <th id=\"T_28f50_level0_col2\" class=\"col_heading level0 col2\" >RMSSE</th>\n",
       "      <th id=\"T_28f50_level0_col3\" class=\"col_heading level0 col3\" >MAE</th>\n",
       "      <th id=\"T_28f50_level0_col4\" class=\"col_heading level0 col4\" >RMSE</th>\n",
       "      <th id=\"T_28f50_level0_col5\" class=\"col_heading level0 col5\" >MAPE</th>\n",
       "      <th id=\"T_28f50_level0_col6\" class=\"col_heading level0 col6\" >SMAPE</th>\n",
       "      <th id=\"T_28f50_level0_col7\" class=\"col_heading level0 col7\" >R2</th>\n",
       "      <th id=\"T_28f50_level0_col8\" class=\"col_heading level0 col8\" >TT (Sec)</th>\n",
       "    </tr>\n",
       "  </thead>\n",
       "  <tbody>\n",
       "    <tr>\n",
       "      <th id=\"T_28f50_level0_row0\" class=\"row_heading level0 row0\" >ets</th>\n",
       "      <td id=\"T_28f50_row0_col0\" class=\"data row0 col0\" >ETS</td>\n",
       "      <td id=\"T_28f50_row0_col1\" class=\"data row0 col1\" >1.5862</td>\n",
       "      <td id=\"T_28f50_row0_col2\" class=\"data row0 col2\" >1.3704</td>\n",
       "      <td id=\"T_28f50_row0_col3\" class=\"data row0 col3\" >7233025.7012</td>\n",
       "      <td id=\"T_28f50_row0_col4\" class=\"data row0 col4\" >9178516.7647</td>\n",
       "      <td id=\"T_28f50_row0_col5\" class=\"data row0 col5\" >0.1221</td>\n",
       "      <td id=\"T_28f50_row0_col6\" class=\"data row0 col6\" >0.1286</td>\n",
       "      <td id=\"T_28f50_row0_col7\" class=\"data row0 col7\" >-0.0619</td>\n",
       "      <td id=\"T_28f50_row0_col8\" class=\"data row0 col8\" >0.0260</td>\n",
       "    </tr>\n",
       "    <tr>\n",
       "      <th id=\"T_28f50_level0_row1\" class=\"row_heading level0 row1\" >theta</th>\n",
       "      <td id=\"T_28f50_row1_col0\" class=\"data row1 col0\" >Theta Forecaster</td>\n",
       "      <td id=\"T_28f50_row1_col1\" class=\"data row1 col1\" >1.6228</td>\n",
       "      <td id=\"T_28f50_row1_col2\" class=\"data row1 col2\" >1.3993</td>\n",
       "      <td id=\"T_28f50_row1_col3\" class=\"data row1 col3\" >7419542.3481</td>\n",
       "      <td id=\"T_28f50_row1_col4\" class=\"data row1 col4\" >9396442.9614</td>\n",
       "      <td id=\"T_28f50_row1_col5\" class=\"data row1 col5\" >0.1247</td>\n",
       "      <td id=\"T_28f50_row1_col6\" class=\"data row1 col6\" >0.1317</td>\n",
       "      <td id=\"T_28f50_row1_col7\" class=\"data row1 col7\" >-0.0873</td>\n",
       "      <td id=\"T_28f50_row1_col8\" class=\"data row1 col8\" >0.0120</td>\n",
       "    </tr>\n",
       "    <tr>\n",
       "      <th id=\"T_28f50_level0_row2\" class=\"row_heading level0 row2\" >exp_smooth</th>\n",
       "      <td id=\"T_28f50_row2_col0\" class=\"data row2 col0\" >Exponential Smoothing</td>\n",
       "      <td id=\"T_28f50_row2_col1\" class=\"data row2 col1\" >1.6290</td>\n",
       "      <td id=\"T_28f50_row2_col2\" class=\"data row2 col2\" >1.3893</td>\n",
       "      <td id=\"T_28f50_row2_col3\" class=\"data row2 col3\" >7455717.6743</td>\n",
       "      <td id=\"T_28f50_row2_col4\" class=\"data row2 col4\" >9324279.4123</td>\n",
       "      <td id=\"T_28f50_row2_col5\" class=\"data row2 col5\" >0.1250</td>\n",
       "      <td id=\"T_28f50_row2_col6\" class=\"data row2 col6\" >0.1312</td>\n",
       "      <td id=\"T_28f50_row2_col7\" class=\"data row2 col7\" >-0.0924</td>\n",
       "      <td id=\"T_28f50_row2_col8\" class=\"data row2 col8\" >0.0240</td>\n",
       "    </tr>\n",
       "    <tr>\n",
       "      <th id=\"T_28f50_level0_row3\" class=\"row_heading level0 row3\" >auto_arima</th>\n",
       "      <td id=\"T_28f50_row3_col0\" class=\"data row3 col0\" >Auto ARIMA</td>\n",
       "      <td id=\"T_28f50_row3_col1\" class=\"data row3 col1\" >1.6851</td>\n",
       "      <td id=\"T_28f50_row3_col2\" class=\"data row3 col2\" >1.4035</td>\n",
       "      <td id=\"T_28f50_row3_col3\" class=\"data row3 col3\" >7718131.6528</td>\n",
       "      <td id=\"T_28f50_row3_col4\" class=\"data row3 col4\" >9410694.3913</td>\n",
       "      <td id=\"T_28f50_row3_col5\" class=\"data row3 col5\" >0.1281</td>\n",
       "      <td id=\"T_28f50_row3_col6\" class=\"data row3 col6\" >0.1359</td>\n",
       "      <td id=\"T_28f50_row3_col7\" class=\"data row3 col7\" >-0.1112</td>\n",
       "      <td id=\"T_28f50_row3_col8\" class=\"data row3 col8\" >11.8500</td>\n",
       "    </tr>\n",
       "    <tr>\n",
       "      <th id=\"T_28f50_level0_row4\" class=\"row_heading level0 row4\" >gbr_cds_dt</th>\n",
       "      <td id=\"T_28f50_row4_col0\" class=\"data row4 col0\" >Gradient Boosting w/ Cond. Deseasonalize & Detrending</td>\n",
       "      <td id=\"T_28f50_row4_col1\" class=\"data row4 col1\" >1.7160</td>\n",
       "      <td id=\"T_28f50_row4_col2\" class=\"data row4 col2\" >1.4823</td>\n",
       "      <td id=\"T_28f50_row4_col3\" class=\"data row4 col3\" >7974446.5027</td>\n",
       "      <td id=\"T_28f50_row4_col4\" class=\"data row4 col4\" >10017226.1646</td>\n",
       "      <td id=\"T_28f50_row4_col5\" class=\"data row4 col5\" >0.1353</td>\n",
       "      <td id=\"T_28f50_row4_col6\" class=\"data row4 col6\" >0.1374</td>\n",
       "      <td id=\"T_28f50_row4_col7\" class=\"data row4 col7\" >-0.2263</td>\n",
       "      <td id=\"T_28f50_row4_col8\" class=\"data row4 col8\" >0.0740</td>\n",
       "    </tr>\n",
       "    <tr>\n",
       "      <th id=\"T_28f50_level0_row5\" class=\"row_heading level0 row5\" >et_cds_dt</th>\n",
       "      <td id=\"T_28f50_row5_col0\" class=\"data row5 col0\" >Extra Trees w/ Cond. Deseasonalize & Detrending</td>\n",
       "      <td id=\"T_28f50_row5_col1\" class=\"data row5 col1\" >1.7351</td>\n",
       "      <td id=\"T_28f50_row5_col2\" class=\"data row5 col2\" >1.4273</td>\n",
       "      <td id=\"T_28f50_row5_col3\" class=\"data row5 col3\" >8088395.6462</td>\n",
       "      <td id=\"T_28f50_row5_col4\" class=\"data row5 col4\" >9709894.3158</td>\n",
       "      <td id=\"T_28f50_row5_col5\" class=\"data row5 col5\" >0.1337</td>\n",
       "      <td id=\"T_28f50_row5_col6\" class=\"data row5 col6\" >0.1390</td>\n",
       "      <td id=\"T_28f50_row5_col7\" class=\"data row5 col7\" >-0.1085</td>\n",
       "      <td id=\"T_28f50_row5_col8\" class=\"data row5 col8\" >0.1160</td>\n",
       "    </tr>\n",
       "    <tr>\n",
       "      <th id=\"T_28f50_level0_row6\" class=\"row_heading level0 row6\" >rf_cds_dt</th>\n",
       "      <td id=\"T_28f50_row6_col0\" class=\"data row6 col0\" >Random Forest w/ Cond. Deseasonalize & Detrending</td>\n",
       "      <td id=\"T_28f50_row6_col1\" class=\"data row6 col1\" >1.7390</td>\n",
       "      <td id=\"T_28f50_row6_col2\" class=\"data row6 col2\" >1.5065</td>\n",
       "      <td id=\"T_28f50_row6_col3\" class=\"data row6 col3\" >8102486.5373</td>\n",
       "      <td id=\"T_28f50_row6_col4\" class=\"data row6 col4\" >10207149.9184</td>\n",
       "      <td id=\"T_28f50_row6_col5\" class=\"data row6 col5\" >0.1354</td>\n",
       "      <td id=\"T_28f50_row6_col6\" class=\"data row6 col6\" >0.1393</td>\n",
       "      <td id=\"T_28f50_row6_col7\" class=\"data row6 col7\" >-0.2292</td>\n",
       "      <td id=\"T_28f50_row6_col8\" class=\"data row6 col8\" >0.1160</td>\n",
       "    </tr>\n",
       "    <tr>\n",
       "      <th id=\"T_28f50_level0_row7\" class=\"row_heading level0 row7\" >huber_cds_dt</th>\n",
       "      <td id=\"T_28f50_row7_col0\" class=\"data row7 col0\" >Huber w/ Cond. Deseasonalize & Detrending</td>\n",
       "      <td id=\"T_28f50_row7_col1\" class=\"data row7 col1\" >1.7565</td>\n",
       "      <td id=\"T_28f50_row7_col2\" class=\"data row7 col2\" >1.4490</td>\n",
       "      <td id=\"T_28f50_row7_col3\" class=\"data row7 col3\" >8197077.9146</td>\n",
       "      <td id=\"T_28f50_row7_col4\" class=\"data row7 col4\" >9863439.0770</td>\n",
       "      <td id=\"T_28f50_row7_col5\" class=\"data row7 col5\" >0.1356</td>\n",
       "      <td id=\"T_28f50_row7_col6\" class=\"data row7 col6\" >0.1411</td>\n",
       "      <td id=\"T_28f50_row7_col7\" class=\"data row7 col7\" >-0.1424</td>\n",
       "      <td id=\"T_28f50_row7_col8\" class=\"data row7 col8\" >0.0620</td>\n",
       "    </tr>\n",
       "    <tr>\n",
       "      <th id=\"T_28f50_level0_row8\" class=\"row_heading level0 row8\" >stlf</th>\n",
       "      <td id=\"T_28f50_row8_col0\" class=\"data row8 col0\" >STLF</td>\n",
       "      <td id=\"T_28f50_row8_col1\" class=\"data row8 col1\" >1.7718</td>\n",
       "      <td id=\"T_28f50_row8_col2\" class=\"data row8 col2\" >1.4657</td>\n",
       "      <td id=\"T_28f50_row8_col3\" class=\"data row8 col3\" >8057374.3299</td>\n",
       "      <td id=\"T_28f50_row8_col4\" class=\"data row8 col4\" >9781420.7773</td>\n",
       "      <td id=\"T_28f50_row8_col5\" class=\"data row8 col5\" >0.1399</td>\n",
       "      <td id=\"T_28f50_row8_col6\" class=\"data row8 col6\" >0.1440</td>\n",
       "      <td id=\"T_28f50_row8_col7\" class=\"data row8 col7\" >-0.2150</td>\n",
       "      <td id=\"T_28f50_row8_col8\" class=\"data row8 col8\" >0.0160</td>\n",
       "    </tr>\n",
       "    <tr>\n",
       "      <th id=\"T_28f50_level0_row9\" class=\"row_heading level0 row9\" >ridge_cds_dt</th>\n",
       "      <td id=\"T_28f50_row9_col0\" class=\"data row9 col0\" >Ridge w/ Cond. Deseasonalize & Detrending</td>\n",
       "      <td id=\"T_28f50_row9_col1\" class=\"data row9 col1\" >1.7798</td>\n",
       "      <td id=\"T_28f50_row9_col2\" class=\"data row9 col2\" >1.4649</td>\n",
       "      <td id=\"T_28f50_row9_col3\" class=\"data row9 col3\" >8316269.7008</td>\n",
       "      <td id=\"T_28f50_row9_col4\" class=\"data row9 col4\" >9960047.7021</td>\n",
       "      <td id=\"T_28f50_row9_col5\" class=\"data row9 col5\" >0.1387</td>\n",
       "      <td id=\"T_28f50_row9_col6\" class=\"data row9 col6\" >0.1432</td>\n",
       "      <td id=\"T_28f50_row9_col7\" class=\"data row9 col7\" >-0.1648</td>\n",
       "      <td id=\"T_28f50_row9_col8\" class=\"data row9 col8\" >0.1440</td>\n",
       "    </tr>\n",
       "    <tr>\n",
       "      <th id=\"T_28f50_level0_row10\" class=\"row_heading level0 row10\" >lr_cds_dt</th>\n",
       "      <td id=\"T_28f50_row10_col0\" class=\"data row10 col0\" >Linear w/ Cond. Deseasonalize & Detrending</td>\n",
       "      <td id=\"T_28f50_row10_col1\" class=\"data row10 col1\" >1.7798</td>\n",
       "      <td id=\"T_28f50_row10_col2\" class=\"data row10 col2\" >1.4649</td>\n",
       "      <td id=\"T_28f50_row10_col3\" class=\"data row10 col3\" >8316269.7008</td>\n",
       "      <td id=\"T_28f50_row10_col4\" class=\"data row10 col4\" >9960047.7021</td>\n",
       "      <td id=\"T_28f50_row10_col5\" class=\"data row10 col5\" >0.1387</td>\n",
       "      <td id=\"T_28f50_row10_col6\" class=\"data row10 col6\" >0.1432</td>\n",
       "      <td id=\"T_28f50_row10_col7\" class=\"data row10 col7\" >-0.1648</td>\n",
       "      <td id=\"T_28f50_row10_col8\" class=\"data row10 col8\" >0.1640</td>\n",
       "    </tr>\n",
       "    <tr>\n",
       "      <th id=\"T_28f50_level0_row11\" class=\"row_heading level0 row11\" >llar_cds_dt</th>\n",
       "      <td id=\"T_28f50_row11_col0\" class=\"data row11 col0\" >Lasso Least Angular Regressor w/ Cond. Deseasonalize & Detrending</td>\n",
       "      <td id=\"T_28f50_row11_col1\" class=\"data row11 col1\" >1.7798</td>\n",
       "      <td id=\"T_28f50_row11_col2\" class=\"data row11 col2\" >1.4649</td>\n",
       "      <td id=\"T_28f50_row11_col3\" class=\"data row11 col3\" >8316269.7008</td>\n",
       "      <td id=\"T_28f50_row11_col4\" class=\"data row11 col4\" >9960047.7021</td>\n",
       "      <td id=\"T_28f50_row11_col5\" class=\"data row11 col5\" >0.1387</td>\n",
       "      <td id=\"T_28f50_row11_col6\" class=\"data row11 col6\" >0.1432</td>\n",
       "      <td id=\"T_28f50_row11_col7\" class=\"data row11 col7\" >-0.1648</td>\n",
       "      <td id=\"T_28f50_row11_col8\" class=\"data row11 col8\" >0.0520</td>\n",
       "    </tr>\n",
       "    <tr>\n",
       "      <th id=\"T_28f50_level0_row12\" class=\"row_heading level0 row12\" >en_cds_dt</th>\n",
       "      <td id=\"T_28f50_row12_col0\" class=\"data row12 col0\" >Elastic Net w/ Cond. Deseasonalize & Detrending</td>\n",
       "      <td id=\"T_28f50_row12_col1\" class=\"data row12 col1\" >1.7798</td>\n",
       "      <td id=\"T_28f50_row12_col2\" class=\"data row12 col2\" >1.4649</td>\n",
       "      <td id=\"T_28f50_row12_col3\" class=\"data row12 col3\" >8316269.7008</td>\n",
       "      <td id=\"T_28f50_row12_col4\" class=\"data row12 col4\" >9960047.7021</td>\n",
       "      <td id=\"T_28f50_row12_col5\" class=\"data row12 col5\" >0.1387</td>\n",
       "      <td id=\"T_28f50_row12_col6\" class=\"data row12 col6\" >0.1432</td>\n",
       "      <td id=\"T_28f50_row12_col7\" class=\"data row12 col7\" >-0.1648</td>\n",
       "      <td id=\"T_28f50_row12_col8\" class=\"data row12 col8\" >0.1540</td>\n",
       "    </tr>\n",
       "    <tr>\n",
       "      <th id=\"T_28f50_level0_row13\" class=\"row_heading level0 row13\" >lasso_cds_dt</th>\n",
       "      <td id=\"T_28f50_row13_col0\" class=\"data row13 col0\" >Lasso w/ Cond. Deseasonalize & Detrending</td>\n",
       "      <td id=\"T_28f50_row13_col1\" class=\"data row13 col1\" >1.7798</td>\n",
       "      <td id=\"T_28f50_row13_col2\" class=\"data row13 col2\" >1.4649</td>\n",
       "      <td id=\"T_28f50_row13_col3\" class=\"data row13 col3\" >8316269.7008</td>\n",
       "      <td id=\"T_28f50_row13_col4\" class=\"data row13 col4\" >9960047.7021</td>\n",
       "      <td id=\"T_28f50_row13_col5\" class=\"data row13 col5\" >0.1387</td>\n",
       "      <td id=\"T_28f50_row13_col6\" class=\"data row13 col6\" >0.1432</td>\n",
       "      <td id=\"T_28f50_row13_col7\" class=\"data row13 col7\" >-0.1648</td>\n",
       "      <td id=\"T_28f50_row13_col8\" class=\"data row13 col8\" >0.0500</td>\n",
       "    </tr>\n",
       "    <tr>\n",
       "      <th id=\"T_28f50_level0_row14\" class=\"row_heading level0 row14\" >arima</th>\n",
       "      <td id=\"T_28f50_row14_col0\" class=\"data row14 col0\" >ARIMA</td>\n",
       "      <td id=\"T_28f50_row14_col1\" class=\"data row14 col1\" >1.7921</td>\n",
       "      <td id=\"T_28f50_row14_col2\" class=\"data row14 col2\" >1.5239</td>\n",
       "      <td id=\"T_28f50_row14_col3\" class=\"data row14 col3\" >8267489.5232</td>\n",
       "      <td id=\"T_28f50_row14_col4\" class=\"data row14 col4\" >10247608.8180</td>\n",
       "      <td id=\"T_28f50_row14_col5\" class=\"data row14 col5\" >0.1385</td>\n",
       "      <td id=\"T_28f50_row14_col6\" class=\"data row14 col6\" >0.1449</td>\n",
       "      <td id=\"T_28f50_row14_col7\" class=\"data row14 col7\" >-0.3037</td>\n",
       "      <td id=\"T_28f50_row14_col8\" class=\"data row14 col8\" >0.0260</td>\n",
       "    </tr>\n",
       "    <tr>\n",
       "      <th id=\"T_28f50_level0_row15\" class=\"row_heading level0 row15\" >br_cds_dt</th>\n",
       "      <td id=\"T_28f50_row15_col0\" class=\"data row15 col0\" >Bayesian Ridge w/ Cond. Deseasonalize & Detrending</td>\n",
       "      <td id=\"T_28f50_row15_col1\" class=\"data row15 col1\" >1.7922</td>\n",
       "      <td id=\"T_28f50_row15_col2\" class=\"data row15 col2\" >1.4783</td>\n",
       "      <td id=\"T_28f50_row15_col3\" class=\"data row15 col3\" >8375225.9710</td>\n",
       "      <td id=\"T_28f50_row15_col4\" class=\"data row15 col4\" >10057122.6942</td>\n",
       "      <td id=\"T_28f50_row15_col5\" class=\"data row15 col5\" >0.1399</td>\n",
       "      <td id=\"T_28f50_row15_col6\" class=\"data row15 col6\" >0.1441</td>\n",
       "      <td id=\"T_28f50_row15_col7\" class=\"data row15 col7\" >-0.1870</td>\n",
       "      <td id=\"T_28f50_row15_col8\" class=\"data row15 col8\" >0.0500</td>\n",
       "    </tr>\n",
       "    <tr>\n",
       "      <th id=\"T_28f50_level0_row16\" class=\"row_heading level0 row16\" >knn_cds_dt</th>\n",
       "      <td id=\"T_28f50_row16_col0\" class=\"data row16 col0\" >K Neighbors w/ Cond. Deseasonalize & Detrending</td>\n",
       "      <td id=\"T_28f50_row16_col1\" class=\"data row16 col1\" >1.7962</td>\n",
       "      <td id=\"T_28f50_row16_col2\" class=\"data row16 col2\" >1.5084</td>\n",
       "      <td id=\"T_28f50_row16_col3\" class=\"data row16 col3\" >8394611.2677</td>\n",
       "      <td id=\"T_28f50_row16_col4\" class=\"data row16 col4\" >10268735.8660</td>\n",
       "      <td id=\"T_28f50_row16_col5\" class=\"data row16 col5\" >0.1387</td>\n",
       "      <td id=\"T_28f50_row16_col6\" class=\"data row16 col6\" >0.1443</td>\n",
       "      <td id=\"T_28f50_row16_col7\" class=\"data row16 col7\" >-0.2396</td>\n",
       "      <td id=\"T_28f50_row16_col8\" class=\"data row16 col8\" >0.0780</td>\n",
       "    </tr>\n",
       "    <tr>\n",
       "      <th id=\"T_28f50_level0_row17\" class=\"row_heading level0 row17\" >lightgbm_cds_dt</th>\n",
       "      <td id=\"T_28f50_row17_col0\" class=\"data row17 col0\" >Light Gradient Boosting w/ Cond. Deseasonalize & Detrending</td>\n",
       "      <td id=\"T_28f50_row17_col1\" class=\"data row17 col1\" >1.8185</td>\n",
       "      <td id=\"T_28f50_row17_col2\" class=\"data row17 col2\" >1.5220</td>\n",
       "      <td id=\"T_28f50_row17_col3\" class=\"data row17 col3\" >8441821.6451</td>\n",
       "      <td id=\"T_28f50_row17_col4\" class=\"data row17 col4\" >10316644.6431</td>\n",
       "      <td id=\"T_28f50_row17_col5\" class=\"data row17 col5\" >0.1421</td>\n",
       "      <td id=\"T_28f50_row17_col6\" class=\"data row17 col6\" >0.1464</td>\n",
       "      <td id=\"T_28f50_row17_col7\" class=\"data row17 col7\" >-0.2568</td>\n",
       "      <td id=\"T_28f50_row17_col8\" class=\"data row17 col8\" >0.2580</td>\n",
       "    </tr>\n",
       "    <tr>\n",
       "      <th id=\"T_28f50_level0_row18\" class=\"row_heading level0 row18\" >naive</th>\n",
       "      <td id=\"T_28f50_row18_col0\" class=\"data row18 col0\" >Naive Forecaster</td>\n",
       "      <td id=\"T_28f50_row18_col1\" class=\"data row18 col1\" >1.8545</td>\n",
       "      <td id=\"T_28f50_row18_col2\" class=\"data row18 col2\" >1.5810</td>\n",
       "      <td id=\"T_28f50_row18_col3\" class=\"data row18 col3\" >8405452.6515</td>\n",
       "      <td id=\"T_28f50_row18_col4\" class=\"data row18 col4\" >10528650.8096</td>\n",
       "      <td id=\"T_28f50_row18_col5\" class=\"data row18 col5\" >0.1499</td>\n",
       "      <td id=\"T_28f50_row18_col6\" class=\"data row18 col6\" >0.1524</td>\n",
       "      <td id=\"T_28f50_row18_col7\" class=\"data row18 col7\" >-0.4870</td>\n",
       "      <td id=\"T_28f50_row18_col8\" class=\"data row18 col8\" >0.6800</td>\n",
       "    </tr>\n",
       "    <tr>\n",
       "      <th id=\"T_28f50_level0_row19\" class=\"row_heading level0 row19\" >ada_cds_dt</th>\n",
       "      <td id=\"T_28f50_row19_col0\" class=\"data row19 col0\" >AdaBoost w/ Cond. Deseasonalize & Detrending</td>\n",
       "      <td id=\"T_28f50_row19_col1\" class=\"data row19 col1\" >1.8571</td>\n",
       "      <td id=\"T_28f50_row19_col2\" class=\"data row19 col2\" >1.5291</td>\n",
       "      <td id=\"T_28f50_row19_col3\" class=\"data row19 col3\" >8726764.7935</td>\n",
       "      <td id=\"T_28f50_row19_col4\" class=\"data row19 col4\" >10456160.1388</td>\n",
       "      <td id=\"T_28f50_row19_col5\" class=\"data row19 col5\" >0.1406</td>\n",
       "      <td id=\"T_28f50_row19_col6\" class=\"data row19 col6\" >0.1491</td>\n",
       "      <td id=\"T_28f50_row19_col7\" class=\"data row19 col7\" >-0.2851</td>\n",
       "      <td id=\"T_28f50_row19_col8\" class=\"data row19 col8\" >0.0760</td>\n",
       "    </tr>\n",
       "    <tr>\n",
       "      <th id=\"T_28f50_level0_row20\" class=\"row_heading level0 row20\" >omp_cds_dt</th>\n",
       "      <td id=\"T_28f50_row20_col0\" class=\"data row20 col0\" >Orthogonal Matching Pursuit w/ Cond. Deseasonalize & Detrending</td>\n",
       "      <td id=\"T_28f50_row20_col1\" class=\"data row20 col1\" >1.8581</td>\n",
       "      <td id=\"T_28f50_row20_col2\" class=\"data row20 col2\" >1.5454</td>\n",
       "      <td id=\"T_28f50_row20_col3\" class=\"data row20 col3\" >8726272.6705</td>\n",
       "      <td id=\"T_28f50_row20_col4\" class=\"data row20 col4\" >10556545.6137</td>\n",
       "      <td id=\"T_28f50_row20_col5\" class=\"data row20 col5\" >0.1458</td>\n",
       "      <td id=\"T_28f50_row20_col6\" class=\"data row20 col6\" >0.1500</td>\n",
       "      <td id=\"T_28f50_row20_col7\" class=\"data row20 col7\" >-0.2990</td>\n",
       "      <td id=\"T_28f50_row20_col8\" class=\"data row20 col8\" >0.0540</td>\n",
       "    </tr>\n",
       "    <tr>\n",
       "      <th id=\"T_28f50_level0_row21\" class=\"row_heading level0 row21\" >snaive</th>\n",
       "      <td id=\"T_28f50_row21_col0\" class=\"data row21 col0\" >Seasonal Naive Forecaster</td>\n",
       "      <td id=\"T_28f50_row21_col1\" class=\"data row21 col1\" >2.0717</td>\n",
       "      <td id=\"T_28f50_row21_col2\" class=\"data row21 col2\" >1.7386</td>\n",
       "      <td id=\"T_28f50_row21_col3\" class=\"data row21 col3\" >9589800.1787</td>\n",
       "      <td id=\"T_28f50_row21_col4\" class=\"data row21 col4\" >11697326.5382</td>\n",
       "      <td id=\"T_28f50_row21_col5\" class=\"data row21 col5\" >0.1574</td>\n",
       "      <td id=\"T_28f50_row21_col6\" class=\"data row21 col6\" >0.1699</td>\n",
       "      <td id=\"T_28f50_row21_col7\" class=\"data row21 col7\" >-0.7524</td>\n",
       "      <td id=\"T_28f50_row21_col8\" class=\"data row21 col8\" >0.4540</td>\n",
       "    </tr>\n",
       "    <tr>\n",
       "      <th id=\"T_28f50_level0_row22\" class=\"row_heading level0 row22\" >dt_cds_dt</th>\n",
       "      <td id=\"T_28f50_row22_col0\" class=\"data row22 col0\" >Decision Tree w/ Cond. Deseasonalize & Detrending</td>\n",
       "      <td id=\"T_28f50_row22_col1\" class=\"data row22 col1\" >2.1449</td>\n",
       "      <td id=\"T_28f50_row22_col2\" class=\"data row22 col2\" >1.8531</td>\n",
       "      <td id=\"T_28f50_row22_col3\" class=\"data row22 col3\" >9892431.8429</td>\n",
       "      <td id=\"T_28f50_row22_col4\" class=\"data row22 col4\" >12444534.7235</td>\n",
       "      <td id=\"T_28f50_row22_col5\" class=\"data row22 col5\" >0.1706</td>\n",
       "      <td id=\"T_28f50_row22_col6\" class=\"data row22 col6\" >0.1720</td>\n",
       "      <td id=\"T_28f50_row22_col7\" class=\"data row22 col7\" >-0.9704</td>\n",
       "      <td id=\"T_28f50_row22_col8\" class=\"data row22 col8\" >0.0620</td>\n",
       "    </tr>\n",
       "    <tr>\n",
       "      <th id=\"T_28f50_level0_row23\" class=\"row_heading level0 row23\" >polytrend</th>\n",
       "      <td id=\"T_28f50_row23_col0\" class=\"data row23 col0\" >Polynomial Trend Forecaster</td>\n",
       "      <td id=\"T_28f50_row23_col1\" class=\"data row23 col1\" >2.2646</td>\n",
       "      <td id=\"T_28f50_row23_col2\" class=\"data row23 col2\" >1.8349</td>\n",
       "      <td id=\"T_28f50_row23_col3\" class=\"data row23 col3\" >10529160.0302</td>\n",
       "      <td id=\"T_28f50_row23_col4\" class=\"data row23 col4\" >12470388.0718</td>\n",
       "      <td id=\"T_28f50_row23_col5\" class=\"data row23 col5\" >0.1788</td>\n",
       "      <td id=\"T_28f50_row23_col6\" class=\"data row23 col6\" >0.1835</td>\n",
       "      <td id=\"T_28f50_row23_col7\" class=\"data row23 col7\" >-0.8426</td>\n",
       "      <td id=\"T_28f50_row23_col8\" class=\"data row23 col8\" >0.0100</td>\n",
       "    </tr>\n",
       "    <tr>\n",
       "      <th id=\"T_28f50_level0_row24\" class=\"row_heading level0 row24\" >croston</th>\n",
       "      <td id=\"T_28f50_row24_col0\" class=\"data row24 col0\" >Croston</td>\n",
       "      <td id=\"T_28f50_row24_col1\" class=\"data row24 col1\" >2.3725</td>\n",
       "      <td id=\"T_28f50_row24_col2\" class=\"data row24 col2\" >1.9605</td>\n",
       "      <td id=\"T_28f50_row24_col3\" class=\"data row24 col3\" >11019868.2341</td>\n",
       "      <td id=\"T_28f50_row24_col4\" class=\"data row24 col4\" >13286082.3706</td>\n",
       "      <td id=\"T_28f50_row24_col5\" class=\"data row24 col5\" >0.1739</td>\n",
       "      <td id=\"T_28f50_row24_col6\" class=\"data row24 col6\" >0.1939</td>\n",
       "      <td id=\"T_28f50_row24_col7\" class=\"data row24 col7\" >-1.1581</td>\n",
       "      <td id=\"T_28f50_row24_col8\" class=\"data row24 col8\" >0.0100</td>\n",
       "    </tr>\n",
       "    <tr>\n",
       "      <th id=\"T_28f50_level0_row25\" class=\"row_heading level0 row25\" >grand_means</th>\n",
       "      <td id=\"T_28f50_row25_col0\" class=\"data row25 col0\" >Grand Means Forecaster</td>\n",
       "      <td id=\"T_28f50_row25_col1\" class=\"data row25 col1\" >4.2812</td>\n",
       "      <td id=\"T_28f50_row25_col2\" class=\"data row25 col2\" >3.2384</td>\n",
       "      <td id=\"T_28f50_row25_col3\" class=\"data row25 col3\" >19935180.6664</td>\n",
       "      <td id=\"T_28f50_row25_col4\" class=\"data row25 col4\" >21960333.3568</td>\n",
       "      <td id=\"T_28f50_row25_col5\" class=\"data row25 col5\" >0.3165</td>\n",
       "      <td id=\"T_28f50_row25_col6\" class=\"data row25 col6\" >0.3949</td>\n",
       "      <td id=\"T_28f50_row25_col7\" class=\"data row25 col7\" >-4.9116</td>\n",
       "      <td id=\"T_28f50_row25_col8\" class=\"data row25 col8\" >0.4980</td>\n",
       "    </tr>\n",
       "  </tbody>\n",
       "</table>\n"
      ],
      "text/plain": [
       "<pandas.io.formats.style.Styler at 0x26c3bf709d0>"
      ]
     },
     "metadata": {},
     "output_type": "display_data"
    },
    {
     "data": {
      "text/html": [],
      "text/plain": [
       "<IPython.core.display.HTML object>"
      ]
     },
     "metadata": {},
     "output_type": "display_data"
    }
   ],
   "source": [
    "best = compare_models()"
   ]
  },
  {
   "cell_type": "code",
   "execution_count": 9,
   "metadata": {},
   "outputs": [
    {
     "data": {
      "application/vnd.plotly.v1+json": {
       "config": {
        "plotlyServerURL": "https://plot.ly"
       },
       "data": [
        {
         "line": {
          "color": "#1f77b4"
         },
         "marker": {
          "size": 5
         },
         "mode": "lines+markers",
         "name": "Forecast | ETS",
         "showlegend": true,
         "type": "scatter",
         "x": [
          "2022-12-01T00:00:00",
          "2023-01-01T00:00:00",
          "2023-02-01T00:00:00",
          "2023-03-01T00:00:00",
          "2023-04-01T00:00:00",
          "2023-05-01T00:00:00",
          "2023-06-01T00:00:00",
          "2023-07-01T00:00:00",
          "2023-08-01T00:00:00",
          "2023-09-01T00:00:00",
          "2023-10-01T00:00:00",
          "2023-11-01T00:00:00",
          "2023-12-01T00:00:00",
          "2024-01-01T00:00:00",
          "2024-02-01T00:00:00",
          "2024-03-01T00:00:00",
          "2024-04-01T00:00:00",
          "2024-05-01T00:00:00",
          "2024-06-01T00:00:00",
          "2024-07-01T00:00:00",
          "2024-08-01T00:00:00",
          "2024-09-01T00:00:00",
          "2024-10-01T00:00:00",
          "2024-11-01T00:00:00"
         ],
         "y": [
          97505329.3408,
          89461330.1234,
          107694151.8184,
          79992626.4978,
          79549740.4586,
          92659117.3188,
          80847742.7123,
          68491587.4768,
          84211642.818,
          76555914.8983,
          75700744.2857,
          91485883.7461,
          103714858.0698,
          95128509.1452,
          114480514.9975,
          85007041.8796,
          84510479.0403,
          98407486.9427,
          85837563.9375,
          72697172.0232,
          89356160.8701,
          81209053.4289,
          80278716.9836,
          96990714.6629
         ]
        },
        {
         "line": {
          "width": 0
         },
         "marker": {
          "color": "#68BBE3"
         },
         "mode": "lines",
         "name": "Lower Interval",
         "showlegend": false,
         "type": "scatter",
         "x": [
          "2022-12-01T00:00:00",
          "2023-01-01T00:00:00",
          "2023-02-01T00:00:00",
          "2023-03-01T00:00:00",
          "2023-04-01T00:00:00",
          "2023-05-01T00:00:00",
          "2023-06-01T00:00:00",
          "2023-07-01T00:00:00",
          "2023-08-01T00:00:00",
          "2023-09-01T00:00:00",
          "2023-10-01T00:00:00",
          "2023-11-01T00:00:00",
          "2023-12-01T00:00:00",
          "2024-01-01T00:00:00",
          "2024-02-01T00:00:00",
          "2024-03-01T00:00:00",
          "2024-04-01T00:00:00",
          "2024-05-01T00:00:00",
          "2024-06-01T00:00:00",
          "2024-07-01T00:00:00",
          "2024-08-01T00:00:00",
          "2024-09-01T00:00:00",
          "2024-10-01T00:00:00",
          "2024-11-01T00:00:00"
         ],
         "y": [
          88787540.2987,
          80449031.1482,
          98496984.6421,
          70301992.7472,
          69950460.0012,
          82028702.6543,
          70224601.6599,
          57659936.9517,
          73025919.212,
          65956930.8762,
          64696022.3678,
          78535322.1942,
          89233564.6335,
          81819055.4651,
          98669727.2719,
          71384012.1953,
          71376589.2107,
          82905216.7715,
          71331924.8291,
          59899630.2815,
          74092512.645,
          66627952.4401,
          65211858.9465,
          80508478.9768
         ]
        },
        {
         "fill": "tonexty",
         "fillcolor": "rgba(104,187,227,0.5)",
         "line": {
          "width": 0
         },
         "marker": {
          "color": "#68BBE3"
         },
         "mode": "lines",
         "name": "Prediction Interval | ETS",
         "showlegend": true,
         "type": "scatter",
         "x": [
          "2022-12-01T00:00:00",
          "2023-01-01T00:00:00",
          "2023-02-01T00:00:00",
          "2023-03-01T00:00:00",
          "2023-04-01T00:00:00",
          "2023-05-01T00:00:00",
          "2023-06-01T00:00:00",
          "2023-07-01T00:00:00",
          "2023-08-01T00:00:00",
          "2023-09-01T00:00:00",
          "2023-10-01T00:00:00",
          "2023-11-01T00:00:00",
          "2023-12-01T00:00:00",
          "2024-01-01T00:00:00",
          "2024-02-01T00:00:00",
          "2024-03-01T00:00:00",
          "2024-04-01T00:00:00",
          "2024-05-01T00:00:00",
          "2024-06-01T00:00:00",
          "2024-07-01T00:00:00",
          "2024-08-01T00:00:00",
          "2024-09-01T00:00:00",
          "2024-10-01T00:00:00",
          "2024-11-01T00:00:00"
         ],
         "y": [
          106663984.972,
          98638990.7218,
          117649285.3635,
          89682516.2396,
          89088904.7554,
          102734745.4748,
          91450606.3458,
          79219245.1286,
          95560984.3058,
          88527296.3198,
          87695691.722,
          104713677.0021,
          119086415.9131,
          109466995.0305,
          131229555.0607,
          98906634.7478,
          98125752.0791,
          112886234.9245,
          99890907.7044,
          85530026.0925,
          104399173.5357,
          96188001.2578,
          96039063.9496,
          113776690.3757
         ]
        },
        {
         "marker": {
          "color": "#3f3f3f",
          "size": 5
         },
         "mode": "lines+markers",
         "name": "Original",
         "showlegend": true,
         "type": "scatter",
         "x": [
          "2007-01-01T00:00:00",
          "2007-02-01T00:00:00",
          "2007-03-01T00:00:00",
          "2007-04-01T00:00:00",
          "2007-05-01T00:00:00",
          "2007-06-01T00:00:00",
          "2007-07-01T00:00:00",
          "2007-08-01T00:00:00",
          "2007-09-01T00:00:00",
          "2007-10-01T00:00:00",
          "2007-11-01T00:00:00",
          "2007-12-01T00:00:00",
          "2008-01-01T00:00:00",
          "2008-02-01T00:00:00",
          "2008-03-01T00:00:00",
          "2008-04-01T00:00:00",
          "2008-05-01T00:00:00",
          "2008-06-01T00:00:00",
          "2008-07-01T00:00:00",
          "2008-08-01T00:00:00",
          "2008-09-01T00:00:00",
          "2008-10-01T00:00:00",
          "2008-11-01T00:00:00",
          "2008-12-01T00:00:00",
          "2009-01-01T00:00:00",
          "2009-02-01T00:00:00",
          "2009-03-01T00:00:00",
          "2009-04-01T00:00:00",
          "2009-05-01T00:00:00",
          "2009-06-01T00:00:00",
          "2009-07-01T00:00:00",
          "2009-08-01T00:00:00",
          "2009-09-01T00:00:00",
          "2009-10-01T00:00:00",
          "2009-11-01T00:00:00",
          "2009-12-01T00:00:00",
          "2010-01-01T00:00:00",
          "2010-02-01T00:00:00",
          "2010-03-01T00:00:00",
          "2010-04-01T00:00:00",
          "2010-05-01T00:00:00",
          "2010-06-01T00:00:00",
          "2010-07-01T00:00:00",
          "2010-08-01T00:00:00",
          "2010-09-01T00:00:00",
          "2010-10-01T00:00:00",
          "2010-11-01T00:00:00",
          "2010-12-01T00:00:00",
          "2011-01-01T00:00:00",
          "2011-02-01T00:00:00",
          "2011-03-01T00:00:00",
          "2011-04-01T00:00:00",
          "2011-05-01T00:00:00",
          "2011-06-01T00:00:00",
          "2011-07-01T00:00:00",
          "2011-08-01T00:00:00",
          "2011-09-01T00:00:00",
          "2011-10-01T00:00:00",
          "2011-11-01T00:00:00",
          "2011-12-01T00:00:00",
          "2012-01-01T00:00:00",
          "2012-02-01T00:00:00",
          "2012-03-01T00:00:00",
          "2012-04-01T00:00:00",
          "2012-05-01T00:00:00",
          "2012-06-01T00:00:00",
          "2012-07-01T00:00:00",
          "2012-08-01T00:00:00",
          "2012-09-01T00:00:00",
          "2012-10-01T00:00:00",
          "2012-11-01T00:00:00",
          "2012-12-01T00:00:00",
          "2013-01-01T00:00:00",
          "2013-02-01T00:00:00",
          "2013-03-01T00:00:00",
          "2013-04-01T00:00:00",
          "2013-05-01T00:00:00",
          "2013-06-01T00:00:00",
          "2013-07-01T00:00:00",
          "2013-08-01T00:00:00",
          "2013-09-01T00:00:00",
          "2013-10-01T00:00:00",
          "2013-11-01T00:00:00",
          "2013-12-01T00:00:00",
          "2014-01-01T00:00:00",
          "2014-02-01T00:00:00",
          "2014-03-01T00:00:00",
          "2014-04-01T00:00:00",
          "2014-05-01T00:00:00",
          "2014-06-01T00:00:00",
          "2014-07-01T00:00:00",
          "2014-08-01T00:00:00",
          "2014-09-01T00:00:00",
          "2014-10-01T00:00:00",
          "2014-11-01T00:00:00",
          "2014-12-01T00:00:00",
          "2015-01-01T00:00:00",
          "2015-02-01T00:00:00",
          "2015-03-01T00:00:00",
          "2015-04-01T00:00:00",
          "2015-05-01T00:00:00",
          "2015-06-01T00:00:00",
          "2015-07-01T00:00:00",
          "2015-08-01T00:00:00",
          "2015-09-01T00:00:00",
          "2015-10-01T00:00:00",
          "2015-11-01T00:00:00",
          "2015-12-01T00:00:00",
          "2016-01-01T00:00:00",
          "2016-02-01T00:00:00",
          "2016-03-01T00:00:00",
          "2016-04-01T00:00:00",
          "2016-05-01T00:00:00",
          "2016-06-01T00:00:00",
          "2016-07-01T00:00:00",
          "2016-08-01T00:00:00",
          "2016-09-01T00:00:00",
          "2016-10-01T00:00:00",
          "2016-11-01T00:00:00",
          "2016-12-01T00:00:00",
          "2017-01-01T00:00:00",
          "2017-02-01T00:00:00",
          "2017-03-01T00:00:00",
          "2017-04-01T00:00:00",
          "2017-05-01T00:00:00",
          "2017-06-01T00:00:00",
          "2017-07-01T00:00:00",
          "2017-08-01T00:00:00",
          "2017-09-01T00:00:00",
          "2017-10-01T00:00:00",
          "2017-11-01T00:00:00",
          "2017-12-01T00:00:00",
          "2018-01-01T00:00:00",
          "2018-02-01T00:00:00",
          "2018-03-01T00:00:00",
          "2018-04-01T00:00:00",
          "2018-05-01T00:00:00",
          "2018-06-01T00:00:00",
          "2018-07-01T00:00:00",
          "2018-08-01T00:00:00",
          "2018-09-01T00:00:00",
          "2018-10-01T00:00:00",
          "2018-11-01T00:00:00",
          "2018-12-01T00:00:00",
          "2019-01-01T00:00:00",
          "2019-02-01T00:00:00",
          "2019-03-01T00:00:00",
          "2019-04-01T00:00:00",
          "2019-05-01T00:00:00",
          "2019-06-01T00:00:00",
          "2019-07-01T00:00:00",
          "2019-08-01T00:00:00",
          "2019-09-01T00:00:00",
          "2019-10-01T00:00:00",
          "2019-11-01T00:00:00",
          "2019-12-01T00:00:00",
          "2020-01-01T00:00:00",
          "2020-02-01T00:00:00",
          "2020-03-01T00:00:00",
          "2020-04-01T00:00:00",
          "2020-05-01T00:00:00",
          "2020-06-01T00:00:00",
          "2020-07-01T00:00:00",
          "2020-08-01T00:00:00",
          "2020-09-01T00:00:00",
          "2020-10-01T00:00:00",
          "2020-11-01T00:00:00",
          "2020-12-01T00:00:00",
          "2021-01-01T00:00:00",
          "2021-02-01T00:00:00",
          "2021-03-01T00:00:00",
          "2021-04-01T00:00:00",
          "2021-05-01T00:00:00",
          "2021-06-01T00:00:00",
          "2021-07-01T00:00:00",
          "2021-08-01T00:00:00",
          "2021-09-01T00:00:00",
          "2021-10-01T00:00:00",
          "2021-11-01T00:00:00",
          "2021-12-01T00:00:00",
          "2022-01-01T00:00:00",
          "2022-02-01T00:00:00",
          "2022-03-01T00:00:00",
          "2022-04-01T00:00:00",
          "2022-05-01T00:00:00",
          "2022-06-01T00:00:00",
          "2022-07-01T00:00:00",
          "2022-08-01T00:00:00",
          "2022-09-01T00:00:00",
          "2022-10-01T00:00:00",
          "2022-11-01T00:00:00",
          "2022-12-01T00:00:00",
          "2023-01-01T00:00:00",
          "2023-02-01T00:00:00",
          "2023-03-01T00:00:00",
          "2023-04-01T00:00:00",
          "2023-05-01T00:00:00",
          "2023-06-01T00:00:00",
          "2023-07-01T00:00:00",
          "2023-08-01T00:00:00",
          "2023-09-01T00:00:00",
          "2023-10-01T00:00:00",
          "2023-11-01T00:00:00"
         ],
         "y": [
          16311777.23,
          14264167.26,
          15180756.219999999,
          25168447,
          19161892.14,
          17526203.38,
          18616737.39,
          17016865.61,
          17870742.71,
          16851974.79,
          19288627.15,
          23629614.3,
          25737892.89,
          26921733.01,
          22372897.16,
          25042023.860000003,
          23406733.56,
          25436974.2,
          21672315.439999998,
          25032011.57,
          23542966.58,
          21862913.34,
          23465434.29,
          33048064.48,
          29459293.009999998,
          26606819.820000004,
          23254881.560000002,
          24152958.44,
          30075000.24,
          26067257.11,
          21393009.62,
          24847438.31,
          22446149.86,
          24704498.32,
          30115640.53,
          32628461.509999998,
          25943732.51,
          28924982.55,
          27747833.05,
          28268365.900000002,
          31848007.8,
          28429305.55,
          22410157.29,
          28527999.67,
          25587635.28,
          26432289.529999997,
          30984828.18,
          36863148.65,
          31459469.7,
          41972735.81,
          27387206.12,
          33392212.709999997,
          37006404.15,
          34729844.45,
          30038625.66,
          32063616.89,
          27367190.45,
          33717227.04,
          35312147.71,
          39668802.48,
          37775854.92,
          43224421.11,
          33685476.17,
          38865855.29,
          41580875.77,
          38028906.29,
          33815563.1,
          33445564.250000004,
          30060818.28,
          31352246.94,
          40020861.46,
          43006334.36,
          40722046.23,
          50626222.36,
          33448770.43,
          34889003.34,
          46783214.92,
          40268178.78,
          31003160.03,
          39513941.24,
          34678075.61,
          36596522.45,
          45196919.64,
          45120062.49,
          49374606.44,
          51686362.120000005,
          35362035.76,
          37700863.620000005,
          47180375.52,
          38144597.73,
          34497702.81,
          40415834.85,
          36476706.21,
          34679732.42,
          42743454.83,
          46457644.33,
          49964344.09,
          48517067.76,
          39623220.23,
          39790876.24,
          45943224.919999994,
          41423883.51,
          33256498.1,
          37345915.33,
          34217981,
          36288363.65,
          39738968.63,
          42770560.379999995,
          43153004,
          48223596.31,
          33506714.55,
          34055126.86000001,
          54684861.730000004,
          40776834.68,
          32078476.08,
          38326037.15,
          33425315.92,
          38126216.870000005,
          63451055.79,
          74208786.9,
          44304868.7,
          51177074.2,
          37716184.81,
          42287412.54,
          47152111.09,
          43671789.050000004,
          36840668.81,
          40079711.339999996,
          35418320.08,
          37806212.93,
          39569900.730000004,
          47356698.25,
          46285414.91,
          57584198.8,
          43912395.230000004,
          43121128.800000004,
          52254891.04,
          49898548.34,
          35946868.12,
          44996422.010000005,
          35111734.16,
          38460618.73,
          42163739.96,
          52679451.73,
          54355365.56999999,
          58545075.57,
          48540414.28,
          45657309.800000004,
          56315946.21,
          41756736.02,
          39046417.82,
          48019170.08,
          43039317.1,
          41124848,
          53480993.300000004,
          53519754.650000006,
          47607582.43,
          59023941.99,
          64993269.349999994,
          42816501.06,
          41589779.52,
          35428695.93,
          38796624.089999996,
          43834554.910000004,
          37883234.34,
          47522031.99,
          59743646.96,
          61763325.99,
          60398037.31999999,
          77717516.03,
          57303772.98,
          57610576.63,
          62519029.86,
          48610693.089999996,
          47576760.120000005,
          76576658.75,
          54249037.94,
          60366620.809999995,
          70867677.16,
          82150026.19,
          74840137.83999999,
          113310003.07,
          63815053.9,
          67123621.8,
          81198010.49,
          77273229.41,
          59262918.9,
          78449551.41,
          89627539.75,
          68319786.77,
          82017023.83,
          101918784.25,
          84089696.67999999,
          106698035.03,
          72039597.03,
          77824849.38,
          83999266.54,
          81214829.57000001,
          81646350.5,
          68821655.09,
          62534438.5,
          64892671.59,
          87170101.56
         ]
        }
       ],
       "layout": {
        "showlegend": true,
        "template": {
         "data": {
          "bar": [
           {
            "error_x": {
             "color": "rgb(51,51,51)"
            },
            "error_y": {
             "color": "rgb(51,51,51)"
            },
            "marker": {
             "line": {
              "color": "rgb(237,237,237)",
              "width": 0.5
             },
             "pattern": {
              "fillmode": "overlay",
              "size": 10,
              "solidity": 0.2
             }
            },
            "type": "bar"
           }
          ],
          "barpolar": [
           {
            "marker": {
             "line": {
              "color": "rgb(237,237,237)",
              "width": 0.5
             },
             "pattern": {
              "fillmode": "overlay",
              "size": 10,
              "solidity": 0.2
             }
            },
            "type": "barpolar"
           }
          ],
          "carpet": [
           {
            "aaxis": {
             "endlinecolor": "rgb(51,51,51)",
             "gridcolor": "white",
             "linecolor": "white",
             "minorgridcolor": "white",
             "startlinecolor": "rgb(51,51,51)"
            },
            "baxis": {
             "endlinecolor": "rgb(51,51,51)",
             "gridcolor": "white",
             "linecolor": "white",
             "minorgridcolor": "white",
             "startlinecolor": "rgb(51,51,51)"
            },
            "type": "carpet"
           }
          ],
          "choropleth": [
           {
            "colorbar": {
             "outlinewidth": 0,
             "tickcolor": "rgb(237,237,237)",
             "ticklen": 6,
             "ticks": "inside"
            },
            "type": "choropleth"
           }
          ],
          "contour": [
           {
            "colorbar": {
             "outlinewidth": 0,
             "tickcolor": "rgb(237,237,237)",
             "ticklen": 6,
             "ticks": "inside"
            },
            "colorscale": [
             [
              0,
              "rgb(20,44,66)"
             ],
             [
              1,
              "rgb(90,179,244)"
             ]
            ],
            "type": "contour"
           }
          ],
          "contourcarpet": [
           {
            "colorbar": {
             "outlinewidth": 0,
             "tickcolor": "rgb(237,237,237)",
             "ticklen": 6,
             "ticks": "inside"
            },
            "type": "contourcarpet"
           }
          ],
          "heatmap": [
           {
            "colorbar": {
             "outlinewidth": 0,
             "tickcolor": "rgb(237,237,237)",
             "ticklen": 6,
             "ticks": "inside"
            },
            "colorscale": [
             [
              0,
              "rgb(20,44,66)"
             ],
             [
              1,
              "rgb(90,179,244)"
             ]
            ],
            "type": "heatmap"
           }
          ],
          "heatmapgl": [
           {
            "colorbar": {
             "outlinewidth": 0,
             "tickcolor": "rgb(237,237,237)",
             "ticklen": 6,
             "ticks": "inside"
            },
            "colorscale": [
             [
              0,
              "rgb(20,44,66)"
             ],
             [
              1,
              "rgb(90,179,244)"
             ]
            ],
            "type": "heatmapgl"
           }
          ],
          "histogram": [
           {
            "marker": {
             "pattern": {
              "fillmode": "overlay",
              "size": 10,
              "solidity": 0.2
             }
            },
            "type": "histogram"
           }
          ],
          "histogram2d": [
           {
            "colorbar": {
             "outlinewidth": 0,
             "tickcolor": "rgb(237,237,237)",
             "ticklen": 6,
             "ticks": "inside"
            },
            "colorscale": [
             [
              0,
              "rgb(20,44,66)"
             ],
             [
              1,
              "rgb(90,179,244)"
             ]
            ],
            "type": "histogram2d"
           }
          ],
          "histogram2dcontour": [
           {
            "colorbar": {
             "outlinewidth": 0,
             "tickcolor": "rgb(237,237,237)",
             "ticklen": 6,
             "ticks": "inside"
            },
            "colorscale": [
             [
              0,
              "rgb(20,44,66)"
             ],
             [
              1,
              "rgb(90,179,244)"
             ]
            ],
            "type": "histogram2dcontour"
           }
          ],
          "mesh3d": [
           {
            "colorbar": {
             "outlinewidth": 0,
             "tickcolor": "rgb(237,237,237)",
             "ticklen": 6,
             "ticks": "inside"
            },
            "type": "mesh3d"
           }
          ],
          "parcoords": [
           {
            "line": {
             "colorbar": {
              "outlinewidth": 0,
              "tickcolor": "rgb(237,237,237)",
              "ticklen": 6,
              "ticks": "inside"
             }
            },
            "type": "parcoords"
           }
          ],
          "pie": [
           {
            "automargin": true,
            "type": "pie"
           }
          ],
          "scatter": [
           {
            "fillpattern": {
             "fillmode": "overlay",
             "size": 10,
             "solidity": 0.2
            },
            "type": "scatter"
           }
          ],
          "scatter3d": [
           {
            "line": {
             "colorbar": {
              "outlinewidth": 0,
              "tickcolor": "rgb(237,237,237)",
              "ticklen": 6,
              "ticks": "inside"
             }
            },
            "marker": {
             "colorbar": {
              "outlinewidth": 0,
              "tickcolor": "rgb(237,237,237)",
              "ticklen": 6,
              "ticks": "inside"
             }
            },
            "type": "scatter3d"
           }
          ],
          "scattercarpet": [
           {
            "marker": {
             "colorbar": {
              "outlinewidth": 0,
              "tickcolor": "rgb(237,237,237)",
              "ticklen": 6,
              "ticks": "inside"
             }
            },
            "type": "scattercarpet"
           }
          ],
          "scattergeo": [
           {
            "marker": {
             "colorbar": {
              "outlinewidth": 0,
              "tickcolor": "rgb(237,237,237)",
              "ticklen": 6,
              "ticks": "inside"
             }
            },
            "type": "scattergeo"
           }
          ],
          "scattergl": [
           {
            "marker": {
             "colorbar": {
              "outlinewidth": 0,
              "tickcolor": "rgb(237,237,237)",
              "ticklen": 6,
              "ticks": "inside"
             }
            },
            "type": "scattergl"
           }
          ],
          "scattermapbox": [
           {
            "marker": {
             "colorbar": {
              "outlinewidth": 0,
              "tickcolor": "rgb(237,237,237)",
              "ticklen": 6,
              "ticks": "inside"
             }
            },
            "type": "scattermapbox"
           }
          ],
          "scatterpolar": [
           {
            "marker": {
             "colorbar": {
              "outlinewidth": 0,
              "tickcolor": "rgb(237,237,237)",
              "ticklen": 6,
              "ticks": "inside"
             }
            },
            "type": "scatterpolar"
           }
          ],
          "scatterpolargl": [
           {
            "marker": {
             "colorbar": {
              "outlinewidth": 0,
              "tickcolor": "rgb(237,237,237)",
              "ticklen": 6,
              "ticks": "inside"
             }
            },
            "type": "scatterpolargl"
           }
          ],
          "scatterternary": [
           {
            "marker": {
             "colorbar": {
              "outlinewidth": 0,
              "tickcolor": "rgb(237,237,237)",
              "ticklen": 6,
              "ticks": "inside"
             }
            },
            "type": "scatterternary"
           }
          ],
          "surface": [
           {
            "colorbar": {
             "outlinewidth": 0,
             "tickcolor": "rgb(237,237,237)",
             "ticklen": 6,
             "ticks": "inside"
            },
            "colorscale": [
             [
              0,
              "rgb(20,44,66)"
             ],
             [
              1,
              "rgb(90,179,244)"
             ]
            ],
            "type": "surface"
           }
          ],
          "table": [
           {
            "cells": {
             "fill": {
              "color": "rgb(237,237,237)"
             },
             "line": {
              "color": "white"
             }
            },
            "header": {
             "fill": {
              "color": "rgb(217,217,217)"
             },
             "line": {
              "color": "white"
             }
            },
            "type": "table"
           }
          ]
         },
         "layout": {
          "annotationdefaults": {
           "arrowhead": 0,
           "arrowwidth": 1
          },
          "autotypenumbers": "strict",
          "coloraxis": {
           "colorbar": {
            "outlinewidth": 0,
            "tickcolor": "rgb(237,237,237)",
            "ticklen": 6,
            "ticks": "inside"
           }
          },
          "colorscale": {
           "sequential": [
            [
             0,
             "rgb(20,44,66)"
            ],
            [
             1,
             "rgb(90,179,244)"
            ]
           ],
           "sequentialminus": [
            [
             0,
             "rgb(20,44,66)"
            ],
            [
             1,
             "rgb(90,179,244)"
            ]
           ]
          },
          "colorway": [
           "#F8766D",
           "#A3A500",
           "#00BF7D",
           "#00B0F6",
           "#E76BF3"
          ],
          "font": {
           "color": "rgb(51,51,51)"
          },
          "geo": {
           "bgcolor": "white",
           "lakecolor": "white",
           "landcolor": "rgb(237,237,237)",
           "showlakes": true,
           "showland": true,
           "subunitcolor": "white"
          },
          "hoverlabel": {
           "align": "left"
          },
          "hovermode": "closest",
          "paper_bgcolor": "white",
          "plot_bgcolor": "rgb(237,237,237)",
          "polar": {
           "angularaxis": {
            "gridcolor": "white",
            "linecolor": "white",
            "showgrid": true,
            "tickcolor": "rgb(51,51,51)",
            "ticks": "outside"
           },
           "bgcolor": "rgb(237,237,237)",
           "radialaxis": {
            "gridcolor": "white",
            "linecolor": "white",
            "showgrid": true,
            "tickcolor": "rgb(51,51,51)",
            "ticks": "outside"
           }
          },
          "scene": {
           "xaxis": {
            "backgroundcolor": "rgb(237,237,237)",
            "gridcolor": "white",
            "gridwidth": 2,
            "linecolor": "white",
            "showbackground": true,
            "showgrid": true,
            "tickcolor": "rgb(51,51,51)",
            "ticks": "outside",
            "zerolinecolor": "white"
           },
           "yaxis": {
            "backgroundcolor": "rgb(237,237,237)",
            "gridcolor": "white",
            "gridwidth": 2,
            "linecolor": "white",
            "showbackground": true,
            "showgrid": true,
            "tickcolor": "rgb(51,51,51)",
            "ticks": "outside",
            "zerolinecolor": "white"
           },
           "zaxis": {
            "backgroundcolor": "rgb(237,237,237)",
            "gridcolor": "white",
            "gridwidth": 2,
            "linecolor": "white",
            "showbackground": true,
            "showgrid": true,
            "tickcolor": "rgb(51,51,51)",
            "ticks": "outside",
            "zerolinecolor": "white"
           }
          },
          "shapedefaults": {
           "fillcolor": "black",
           "line": {
            "width": 0
           },
           "opacity": 0.3
          },
          "ternary": {
           "aaxis": {
            "gridcolor": "white",
            "linecolor": "white",
            "showgrid": true,
            "tickcolor": "rgb(51,51,51)",
            "ticks": "outside"
           },
           "baxis": {
            "gridcolor": "white",
            "linecolor": "white",
            "showgrid": true,
            "tickcolor": "rgb(51,51,51)",
            "ticks": "outside"
           },
           "bgcolor": "rgb(237,237,237)",
           "caxis": {
            "gridcolor": "white",
            "linecolor": "white",
            "showgrid": true,
            "tickcolor": "rgb(51,51,51)",
            "ticks": "outside"
           }
          },
          "xaxis": {
           "automargin": true,
           "gridcolor": "white",
           "linecolor": "white",
           "showgrid": true,
           "tickcolor": "rgb(51,51,51)",
           "ticks": "outside",
           "title": {
            "standoff": 15
           },
           "zerolinecolor": "white"
          },
          "yaxis": {
           "automargin": true,
           "gridcolor": "white",
           "linecolor": "white",
           "showgrid": true,
           "tickcolor": "rgb(51,51,51)",
           "ticks": "outside",
           "title": {
            "standoff": 15
           },
           "zerolinecolor": "white"
          }
         }
        },
        "title": {
         "text": "Actual vs. 'Out-of-Sample' Forecast | AP"
        },
        "xaxis": {
         "title": {
          "text": "Time"
         }
        },
        "yaxis": {
         "title": {
          "text": "Values"
         }
        }
       }
      }
     },
     "metadata": {},
     "output_type": "display_data"
    }
   ],
   "source": [
    "plot_model(best, plot='forecast', data_kwargs={'fh': 24})"
   ]
  },
  {
   "cell_type": "markdown",
   "metadata": {},
   "source": [
    "x - Qual a previsão mensal dos repasses até o exercício seguinte?"
   ]
  },
  {
   "cell_type": "code",
   "execution_count": 11,
   "metadata": {},
   "outputs": [
    {
     "data": {
      "text/html": [
       "<style type=\"text/css\">\n",
       "</style>\n",
       "<table id=\"T_5f04a\">\n",
       "  <thead>\n",
       "    <tr>\n",
       "      <th class=\"blank level0\" >&nbsp;</th>\n",
       "      <th id=\"T_5f04a_level0_col0\" class=\"col_heading level0 col0\" >Model</th>\n",
       "      <th id=\"T_5f04a_level0_col1\" class=\"col_heading level0 col1\" >MASE</th>\n",
       "      <th id=\"T_5f04a_level0_col2\" class=\"col_heading level0 col2\" >RMSSE</th>\n",
       "      <th id=\"T_5f04a_level0_col3\" class=\"col_heading level0 col3\" >MAE</th>\n",
       "      <th id=\"T_5f04a_level0_col4\" class=\"col_heading level0 col4\" >RMSE</th>\n",
       "      <th id=\"T_5f04a_level0_col5\" class=\"col_heading level0 col5\" >MAPE</th>\n",
       "      <th id=\"T_5f04a_level0_col6\" class=\"col_heading level0 col6\" >SMAPE</th>\n",
       "      <th id=\"T_5f04a_level0_col7\" class=\"col_heading level0 col7\" >R2</th>\n",
       "    </tr>\n",
       "  </thead>\n",
       "  <tbody>\n",
       "    <tr>\n",
       "      <th id=\"T_5f04a_level0_row0\" class=\"row_heading level0 row0\" >0</th>\n",
       "      <td id=\"T_5f04a_row0_col0\" class=\"data row0 col0\" >Theta Forecaster</td>\n",
       "      <td id=\"T_5f04a_row0_col1\" class=\"data row0 col1\" >1.0110</td>\n",
       "      <td id=\"T_5f04a_row0_col2\" class=\"data row0 col2\" >0.9463</td>\n",
       "      <td id=\"T_5f04a_row0_col3\" class=\"data row0 col3\" >542292246.9656</td>\n",
       "      <td id=\"T_5f04a_row0_col4\" class=\"data row0 col4\" >666566305.5060</td>\n",
       "      <td id=\"T_5f04a_row0_col5\" class=\"data row0 col5\" >0.0638</td>\n",
       "      <td id=\"T_5f04a_row0_col6\" class=\"data row0 col6\" >0.0667</td>\n",
       "      <td id=\"T_5f04a_row0_col7\" class=\"data row0 col7\" >0.2401</td>\n",
       "    </tr>\n",
       "  </tbody>\n",
       "</table>\n"
      ],
      "text/plain": [
       "<pandas.io.formats.style.Styler at 0x143a8ea3390>"
      ]
     },
     "metadata": {},
     "output_type": "display_data"
    }
   ],
   "source": [
    "\n",
    "pred = predict_model(estimator=best, fh=fh)\n",
    "pred.index = pd.to_datetime([x.to_timestamp() for x in list(pred.index)])\n",
    "pred = pred.resample(rule='M').sum()"
   ]
  },
  {
   "cell_type": "code",
   "execution_count": 12,
   "metadata": {},
   "outputs": [
    {
     "data": {
      "application/vnd.plotly.v1+json": {
       "config": {
        "plotlyServerURL": "https://plot.ly"
       },
       "data": [
        {
         "hovertemplate": "variable=Previsão<br>index=%{x}<br>value=%{y}<extra></extra>",
         "legendgroup": "Previsão",
         "line": {
          "color": "#636efa",
          "dash": "solid"
         },
         "marker": {
          "symbol": "circle"
         },
         "mode": "lines",
         "name": "Previsão",
         "orientation": "v",
         "showlegend": true,
         "type": "scatter",
         "x": [
          "2007-01-31T00:00:00",
          "2007-02-28T00:00:00",
          "2007-03-31T00:00:00",
          "2007-04-30T00:00:00",
          "2007-05-31T00:00:00",
          "2007-06-30T00:00:00",
          "2007-07-31T00:00:00",
          "2007-08-31T00:00:00",
          "2007-09-30T00:00:00",
          "2007-10-31T00:00:00",
          "2007-11-30T00:00:00",
          "2007-12-31T00:00:00",
          "2008-01-31T00:00:00",
          "2008-02-29T00:00:00",
          "2008-03-31T00:00:00",
          "2008-04-30T00:00:00",
          "2008-05-31T00:00:00",
          "2008-06-30T00:00:00",
          "2008-07-31T00:00:00",
          "2008-08-31T00:00:00",
          "2008-09-30T00:00:00",
          "2008-10-31T00:00:00",
          "2008-11-30T00:00:00",
          "2008-12-31T00:00:00",
          "2009-01-31T00:00:00",
          "2009-02-28T00:00:00",
          "2009-03-31T00:00:00",
          "2009-04-30T00:00:00",
          "2009-05-31T00:00:00",
          "2009-06-30T00:00:00",
          "2009-07-31T00:00:00",
          "2009-08-31T00:00:00",
          "2009-09-30T00:00:00",
          "2009-10-31T00:00:00",
          "2009-11-30T00:00:00",
          "2009-12-31T00:00:00",
          "2010-01-31T00:00:00",
          "2010-02-28T00:00:00",
          "2010-03-31T00:00:00",
          "2010-04-30T00:00:00",
          "2010-05-31T00:00:00",
          "2010-06-30T00:00:00",
          "2010-07-31T00:00:00",
          "2010-08-31T00:00:00",
          "2010-09-30T00:00:00",
          "2010-10-31T00:00:00",
          "2010-11-30T00:00:00",
          "2010-12-31T00:00:00",
          "2011-01-31T00:00:00",
          "2011-02-28T00:00:00",
          "2011-03-31T00:00:00",
          "2011-04-30T00:00:00",
          "2011-05-31T00:00:00",
          "2011-06-30T00:00:00",
          "2011-07-31T00:00:00",
          "2011-08-31T00:00:00",
          "2011-09-30T00:00:00",
          "2011-10-31T00:00:00",
          "2011-11-30T00:00:00",
          "2011-12-31T00:00:00",
          "2012-01-31T00:00:00",
          "2012-02-29T00:00:00",
          "2012-03-31T00:00:00",
          "2012-04-30T00:00:00",
          "2012-05-31T00:00:00",
          "2012-06-30T00:00:00",
          "2012-07-31T00:00:00",
          "2012-08-31T00:00:00",
          "2012-09-30T00:00:00",
          "2012-10-31T00:00:00",
          "2012-11-30T00:00:00",
          "2012-12-31T00:00:00",
          "2013-01-31T00:00:00",
          "2013-02-28T00:00:00",
          "2013-03-31T00:00:00",
          "2013-04-30T00:00:00",
          "2013-05-31T00:00:00",
          "2013-06-30T00:00:00",
          "2013-07-31T00:00:00",
          "2013-08-31T00:00:00",
          "2013-09-30T00:00:00",
          "2013-10-31T00:00:00",
          "2013-11-30T00:00:00",
          "2013-12-31T00:00:00",
          "2014-01-31T00:00:00",
          "2014-02-28T00:00:00",
          "2014-03-31T00:00:00",
          "2014-04-30T00:00:00",
          "2014-05-31T00:00:00",
          "2014-06-30T00:00:00",
          "2014-07-31T00:00:00",
          "2014-08-31T00:00:00",
          "2014-09-30T00:00:00",
          "2014-10-31T00:00:00",
          "2014-11-30T00:00:00",
          "2014-12-31T00:00:00",
          "2015-01-31T00:00:00",
          "2015-02-28T00:00:00",
          "2015-03-31T00:00:00",
          "2015-04-30T00:00:00",
          "2015-05-31T00:00:00",
          "2015-06-30T00:00:00",
          "2015-07-31T00:00:00",
          "2015-08-31T00:00:00",
          "2015-09-30T00:00:00",
          "2015-10-31T00:00:00",
          "2015-11-30T00:00:00",
          "2015-12-31T00:00:00",
          "2016-01-31T00:00:00",
          "2016-02-29T00:00:00",
          "2016-03-31T00:00:00",
          "2016-04-30T00:00:00",
          "2016-05-31T00:00:00",
          "2016-06-30T00:00:00",
          "2016-07-31T00:00:00",
          "2016-08-31T00:00:00",
          "2016-09-30T00:00:00",
          "2016-10-31T00:00:00",
          "2016-11-30T00:00:00",
          "2016-12-31T00:00:00",
          "2017-01-31T00:00:00",
          "2017-02-28T00:00:00",
          "2017-03-31T00:00:00",
          "2017-04-30T00:00:00",
          "2017-05-31T00:00:00",
          "2017-06-30T00:00:00",
          "2017-07-31T00:00:00",
          "2017-08-31T00:00:00",
          "2017-09-30T00:00:00",
          "2017-10-31T00:00:00",
          "2017-11-30T00:00:00",
          "2017-12-31T00:00:00",
          "2018-01-31T00:00:00",
          "2018-02-28T00:00:00",
          "2018-03-31T00:00:00",
          "2018-04-30T00:00:00",
          "2018-05-31T00:00:00",
          "2018-06-30T00:00:00",
          "2018-07-31T00:00:00",
          "2018-08-31T00:00:00",
          "2018-09-30T00:00:00",
          "2018-10-31T00:00:00",
          "2018-11-30T00:00:00",
          "2018-12-31T00:00:00",
          "2019-01-31T00:00:00",
          "2019-02-28T00:00:00",
          "2019-03-31T00:00:00",
          "2019-04-30T00:00:00",
          "2019-05-31T00:00:00",
          "2019-06-30T00:00:00",
          "2019-07-31T00:00:00",
          "2019-08-31T00:00:00",
          "2019-09-30T00:00:00",
          "2019-10-31T00:00:00",
          "2019-11-30T00:00:00",
          "2019-12-31T00:00:00",
          "2020-01-31T00:00:00",
          "2020-02-29T00:00:00",
          "2020-03-31T00:00:00",
          "2020-04-30T00:00:00",
          "2020-05-31T00:00:00",
          "2020-06-30T00:00:00",
          "2020-07-31T00:00:00",
          "2020-08-31T00:00:00",
          "2020-09-30T00:00:00",
          "2020-10-31T00:00:00",
          "2020-11-30T00:00:00",
          "2020-12-31T00:00:00",
          "2021-01-31T00:00:00",
          "2021-02-28T00:00:00",
          "2021-03-31T00:00:00",
          "2021-04-30T00:00:00",
          "2021-05-31T00:00:00",
          "2021-06-30T00:00:00",
          "2021-07-31T00:00:00",
          "2021-08-31T00:00:00",
          "2021-09-30T00:00:00",
          "2021-10-31T00:00:00",
          "2021-11-30T00:00:00",
          "2021-12-31T00:00:00",
          "2022-01-31T00:00:00",
          "2022-02-28T00:00:00",
          "2022-03-31T00:00:00",
          "2022-04-30T00:00:00",
          "2022-05-31T00:00:00",
          "2022-06-30T00:00:00",
          "2022-07-31T00:00:00",
          "2022-08-31T00:00:00",
          "2022-09-30T00:00:00",
          "2022-10-31T00:00:00",
          "2022-11-30T00:00:00",
          "2022-12-31T00:00:00",
          "2023-01-31T00:00:00",
          "2023-02-28T00:00:00",
          "2023-03-31T00:00:00",
          "2023-04-30T00:00:00",
          "2023-05-31T00:00:00",
          "2023-06-30T00:00:00",
          "2023-07-31T00:00:00",
          "2023-08-31T00:00:00",
          "2023-09-30T00:00:00",
          "2023-10-31T00:00:00"
         ],
         "xaxis": "x",
         "y": [
          null,
          null,
          null,
          null,
          null,
          null,
          null,
          null,
          null,
          null,
          null,
          null,
          null,
          null,
          null,
          null,
          null,
          null,
          null,
          null,
          null,
          null,
          null,
          null,
          null,
          null,
          null,
          null,
          null,
          null,
          null,
          null,
          null,
          null,
          null,
          null,
          null,
          null,
          null,
          null,
          null,
          null,
          null,
          null,
          null,
          null,
          null,
          null,
          null,
          null,
          null,
          null,
          null,
          null,
          null,
          null,
          null,
          null,
          null,
          null,
          null,
          null,
          null,
          null,
          null,
          null,
          null,
          null,
          null,
          null,
          null,
          null,
          null,
          null,
          null,
          null,
          null,
          null,
          null,
          null,
          null,
          null,
          null,
          null,
          null,
          null,
          null,
          null,
          null,
          null,
          null,
          null,
          null,
          null,
          null,
          null,
          null,
          null,
          null,
          null,
          null,
          null,
          null,
          null,
          null,
          null,
          null,
          null,
          null,
          null,
          null,
          null,
          null,
          null,
          null,
          null,
          null,
          null,
          null,
          null,
          null,
          null,
          null,
          null,
          null,
          null,
          null,
          null,
          null,
          null,
          null,
          null,
          null,
          null,
          null,
          null,
          null,
          null,
          null,
          null,
          null,
          null,
          null,
          null,
          null,
          null,
          null,
          null,
          null,
          null,
          null,
          null,
          null,
          null,
          null,
          null,
          null,
          null,
          null,
          null,
          null,
          null,
          null,
          null,
          null,
          null,
          null,
          null,
          null,
          null,
          null,
          null,
          null,
          null,
          null,
          null,
          null,
          null,
          null,
          null,
          null,
          null,
          null,
          null,
          null,
          null,
          null,
          null,
          null,
          null,
          null,
          null,
          null,
          null,
          null,
          null,
          null,
          null,
          null,
          null,
          null,
          null
         ],
         "yaxis": "y"
        },
        {
         "hovertemplate": "variable=Histórico<br>index=%{x}<br>value=%{y}<extra></extra>",
         "legendgroup": "Histórico",
         "line": {
          "color": "#EF553B",
          "dash": "solid"
         },
         "marker": {
          "symbol": "circle"
         },
         "mode": "lines",
         "name": "Histórico",
         "orientation": "v",
         "showlegend": true,
         "type": "scatter",
         "x": [
          "2007-01-31T00:00:00",
          "2007-02-28T00:00:00",
          "2007-03-31T00:00:00",
          "2007-04-30T00:00:00",
          "2007-05-31T00:00:00",
          "2007-06-30T00:00:00",
          "2007-07-31T00:00:00",
          "2007-08-31T00:00:00",
          "2007-09-30T00:00:00",
          "2007-10-31T00:00:00",
          "2007-11-30T00:00:00",
          "2007-12-31T00:00:00",
          "2008-01-31T00:00:00",
          "2008-02-29T00:00:00",
          "2008-03-31T00:00:00",
          "2008-04-30T00:00:00",
          "2008-05-31T00:00:00",
          "2008-06-30T00:00:00",
          "2008-07-31T00:00:00",
          "2008-08-31T00:00:00",
          "2008-09-30T00:00:00",
          "2008-10-31T00:00:00",
          "2008-11-30T00:00:00",
          "2008-12-31T00:00:00",
          "2009-01-31T00:00:00",
          "2009-02-28T00:00:00",
          "2009-03-31T00:00:00",
          "2009-04-30T00:00:00",
          "2009-05-31T00:00:00",
          "2009-06-30T00:00:00",
          "2009-07-31T00:00:00",
          "2009-08-31T00:00:00",
          "2009-09-30T00:00:00",
          "2009-10-31T00:00:00",
          "2009-11-30T00:00:00",
          "2009-12-31T00:00:00",
          "2010-01-31T00:00:00",
          "2010-02-28T00:00:00",
          "2010-03-31T00:00:00",
          "2010-04-30T00:00:00",
          "2010-05-31T00:00:00",
          "2010-06-30T00:00:00",
          "2010-07-31T00:00:00",
          "2010-08-31T00:00:00",
          "2010-09-30T00:00:00",
          "2010-10-31T00:00:00",
          "2010-11-30T00:00:00",
          "2010-12-31T00:00:00",
          "2011-01-31T00:00:00",
          "2011-02-28T00:00:00",
          "2011-03-31T00:00:00",
          "2011-04-30T00:00:00",
          "2011-05-31T00:00:00",
          "2011-06-30T00:00:00",
          "2011-07-31T00:00:00",
          "2011-08-31T00:00:00",
          "2011-09-30T00:00:00",
          "2011-10-31T00:00:00",
          "2011-11-30T00:00:00",
          "2011-12-31T00:00:00",
          "2012-01-31T00:00:00",
          "2012-02-29T00:00:00",
          "2012-03-31T00:00:00",
          "2012-04-30T00:00:00",
          "2012-05-31T00:00:00",
          "2012-06-30T00:00:00",
          "2012-07-31T00:00:00",
          "2012-08-31T00:00:00",
          "2012-09-30T00:00:00",
          "2012-10-31T00:00:00",
          "2012-11-30T00:00:00",
          "2012-12-31T00:00:00",
          "2013-01-31T00:00:00",
          "2013-02-28T00:00:00",
          "2013-03-31T00:00:00",
          "2013-04-30T00:00:00",
          "2013-05-31T00:00:00",
          "2013-06-30T00:00:00",
          "2013-07-31T00:00:00",
          "2013-08-31T00:00:00",
          "2013-09-30T00:00:00",
          "2013-10-31T00:00:00",
          "2013-11-30T00:00:00",
          "2013-12-31T00:00:00",
          "2014-01-31T00:00:00",
          "2014-02-28T00:00:00",
          "2014-03-31T00:00:00",
          "2014-04-30T00:00:00",
          "2014-05-31T00:00:00",
          "2014-06-30T00:00:00",
          "2014-07-31T00:00:00",
          "2014-08-31T00:00:00",
          "2014-09-30T00:00:00",
          "2014-10-31T00:00:00",
          "2014-11-30T00:00:00",
          "2014-12-31T00:00:00",
          "2015-01-31T00:00:00",
          "2015-02-28T00:00:00",
          "2015-03-31T00:00:00",
          "2015-04-30T00:00:00",
          "2015-05-31T00:00:00",
          "2015-06-30T00:00:00",
          "2015-07-31T00:00:00",
          "2015-08-31T00:00:00",
          "2015-09-30T00:00:00",
          "2015-10-31T00:00:00",
          "2015-11-30T00:00:00",
          "2015-12-31T00:00:00",
          "2016-01-31T00:00:00",
          "2016-02-29T00:00:00",
          "2016-03-31T00:00:00",
          "2016-04-30T00:00:00",
          "2016-05-31T00:00:00",
          "2016-06-30T00:00:00",
          "2016-07-31T00:00:00",
          "2016-08-31T00:00:00",
          "2016-09-30T00:00:00",
          "2016-10-31T00:00:00",
          "2016-11-30T00:00:00",
          "2016-12-31T00:00:00",
          "2017-01-31T00:00:00",
          "2017-02-28T00:00:00",
          "2017-03-31T00:00:00",
          "2017-04-30T00:00:00",
          "2017-05-31T00:00:00",
          "2017-06-30T00:00:00",
          "2017-07-31T00:00:00",
          "2017-08-31T00:00:00",
          "2017-09-30T00:00:00",
          "2017-10-31T00:00:00",
          "2017-11-30T00:00:00",
          "2017-12-31T00:00:00",
          "2018-01-31T00:00:00",
          "2018-02-28T00:00:00",
          "2018-03-31T00:00:00",
          "2018-04-30T00:00:00",
          "2018-05-31T00:00:00",
          "2018-06-30T00:00:00",
          "2018-07-31T00:00:00",
          "2018-08-31T00:00:00",
          "2018-09-30T00:00:00",
          "2018-10-31T00:00:00",
          "2018-11-30T00:00:00",
          "2018-12-31T00:00:00",
          "2019-01-31T00:00:00",
          "2019-02-28T00:00:00",
          "2019-03-31T00:00:00",
          "2019-04-30T00:00:00",
          "2019-05-31T00:00:00",
          "2019-06-30T00:00:00",
          "2019-07-31T00:00:00",
          "2019-08-31T00:00:00",
          "2019-09-30T00:00:00",
          "2019-10-31T00:00:00",
          "2019-11-30T00:00:00",
          "2019-12-31T00:00:00",
          "2020-01-31T00:00:00",
          "2020-02-29T00:00:00",
          "2020-03-31T00:00:00",
          "2020-04-30T00:00:00",
          "2020-05-31T00:00:00",
          "2020-06-30T00:00:00",
          "2020-07-31T00:00:00",
          "2020-08-31T00:00:00",
          "2020-09-30T00:00:00",
          "2020-10-31T00:00:00",
          "2020-11-30T00:00:00",
          "2020-12-31T00:00:00",
          "2021-01-31T00:00:00",
          "2021-02-28T00:00:00",
          "2021-03-31T00:00:00",
          "2021-04-30T00:00:00",
          "2021-05-31T00:00:00",
          "2021-06-30T00:00:00",
          "2021-07-31T00:00:00",
          "2021-08-31T00:00:00",
          "2021-09-30T00:00:00",
          "2021-10-31T00:00:00",
          "2021-11-30T00:00:00",
          "2021-12-31T00:00:00",
          "2022-01-31T00:00:00",
          "2022-02-28T00:00:00",
          "2022-03-31T00:00:00",
          "2022-04-30T00:00:00",
          "2022-05-31T00:00:00",
          "2022-06-30T00:00:00",
          "2022-07-31T00:00:00",
          "2022-08-31T00:00:00",
          "2022-09-30T00:00:00",
          "2022-10-31T00:00:00",
          "2022-11-30T00:00:00",
          "2022-12-31T00:00:00",
          "2023-01-31T00:00:00",
          "2023-02-28T00:00:00",
          "2023-03-31T00:00:00",
          "2023-04-30T00:00:00",
          "2023-05-31T00:00:00",
          "2023-06-30T00:00:00",
          "2023-07-31T00:00:00",
          "2023-08-31T00:00:00",
          "2023-09-30T00:00:00",
          "2023-10-31T00:00:00"
         ],
         "xaxis": "x",
         "y": [
          1482638030.9,
          1338090631.44,
          1587151517.2,
          2336748596.59,
          1895045970.75,
          1865213372.48,
          1796834981.85,
          1711917347.84,
          1822653548.93,
          2056501802.5900002,
          1831942261.72,
          2100058514.1200001,
          2613160642.41,
          2499344163.04,
          2222244548.85,
          2581142988.48,
          2510854263.66,
          2359539662.62,
          2550449654.14,
          2546295937.25,
          2651003343.29,
          2560927713.46,
          2567164652.18,
          2682739452.59,
          3049206030.71,
          2791324062.85,
          2942460736.37,
          2760365712.92,
          3026906169.7000003,
          3252517968.86,
          2466811654.06,
          2689179127.86,
          2830589973.52,
          2956334171.78,
          2873472803.01,
          3560779961.15,
          3405127587.9,
          2890393573.82,
          3529188583.03,
          3182165123.06,
          3387665833.3,
          3428991897.92,
          2827118961.5299997,
          3380268262.13,
          3144149562.62,
          3189039275.08,
          3500260134.1,
          3730226289.06,
          4176834923.7599998,
          3847658627.02,
          3775520806.95,
          3811952041.5,
          3984177421.99,
          3717152541.63,
          3434947811.94,
          3770535099.05,
          3163613098.39,
          3630908553.34,
          3905387086.15,
          4308215954.42,
          5061890645.96,
          3780106691.67,
          3891969329.48,
          4134445165.63,
          4536174311.32,
          3601406123.05,
          3889989462.46,
          3607139880.42,
          3648975869.46,
          4132105733.58,
          3939828333.73,
          4421726034.21,
          4657135589.39,
          4654053171.63,
          3901958319.28,
          4663158330.18,
          4284538147.7,
          4495101465.61,
          4167931974.11,
          4010151005.65,
          4029996874.6,
          4459383558.91,
          4485170126.83,
          4730236650.72,
          5529937462.75,
          5211061603.84,
          4275392642.09,
          4456868046.63,
          5186579947.36,
          4032594092.59,
          4507082666.11,
          4324980620.06,
          4477059365.37,
          4270372689.7,
          4613531564.29,
          5293252724.03,
          5480742553.96,
          4882169439.21,
          5214381669.63,
          5449664784.68,
          4557365723.43,
          5022766313.76,
          4115814107.4700003,
          4496424505.99,
          4293027215.66,
          4793321501.68,
          4467323913.08,
          5364029183.639999,
          5880804459.33,
          4742144153.37,
          5330673134.23,
          4569855939.52,
          5375879187.4,
          4819571371.52,
          4345047910.71,
          4714699829.83,
          4237738108.15,
          4451678392.85,
          5465892743.93,
          6467145922.5199995,
          5790917711.21,
          5432994850.54,
          5612001061,
          4440060508.84,
          5733889221.320001,
          4779757541.24,
          4453996054.1,
          5114772990.09,
          5119425249.72,
          5069575989.09,
          4543362124.29,
          5885257487.99,
          6344834851.79,
          6503024326.89,
          5063784138.15,
          4330993509.54,
          6184627039.58,
          4738038467.31,
          4873946314.41,
          4827029302.2300005,
          4870291503.42,
          5066971824.47,
          4706086290.08,
          5579251676.84,
          7077727995.4,
          5820043660.43,
          5513303870.28,
          5959511515.51,
          5562772553.73,
          5020579863.07,
          5694456020.889999,
          4986968295.85,
          4668497020.2,
          5834919033.66,
          5404545740.69,
          6996768648.05,
          7025038198.98,
          6365554885.28,
          5879535541.23,
          4665610748.69,
          4421413411.8,
          4786991667.72,
          4844135829.86,
          5225698092.79,
          5701803718.8,
          5933227256.3,
          5932413089.82,
          7254066215.72,
          7791754579.599999,
          6824845187.29,
          7656010389.11,
          6527086811.84,
          7291881487.539999,
          7200806598.16,
          6853257299.29,
          7469340260.030001,
          6923422446.01,
          7399154169.61,
          8249722158.06,
          8122088468.62,
          9435140912.43,
          8015494445.01,
          8774347343.74,
          8137400866.42,
          9240978594.32,
          8107319060.47,
          7689717719.7300005,
          8337334856.62,
          7364908389.9800005,
          7718611383.6,
          8088363172.11,
          8699563887.64,
          10429990041.45,
          8587795911.91,
          7853008524.39,
          7439835164.8,
          9446093813.64,
          7761337039.05,
          7434949568.55,
          8222513626.45,
          7712888518.58,
          8492485177.690001
         ],
         "yaxis": "y"
        }
       ],
       "layout": {
        "legend": {
         "title": {
          "text": "variable"
         },
         "tracegroupgap": 0
        },
        "margin": {
         "t": 60
        },
        "template": {
         "data": {
          "bar": [
           {
            "error_x": {
             "color": "#f2f5fa"
            },
            "error_y": {
             "color": "#f2f5fa"
            },
            "marker": {
             "line": {
              "color": "rgb(17,17,17)",
              "width": 0.5
             },
             "pattern": {
              "fillmode": "overlay",
              "size": 10,
              "solidity": 0.2
             }
            },
            "type": "bar"
           }
          ],
          "barpolar": [
           {
            "marker": {
             "line": {
              "color": "rgb(17,17,17)",
              "width": 0.5
             },
             "pattern": {
              "fillmode": "overlay",
              "size": 10,
              "solidity": 0.2
             }
            },
            "type": "barpolar"
           }
          ],
          "carpet": [
           {
            "aaxis": {
             "endlinecolor": "#A2B1C6",
             "gridcolor": "#506784",
             "linecolor": "#506784",
             "minorgridcolor": "#506784",
             "startlinecolor": "#A2B1C6"
            },
            "baxis": {
             "endlinecolor": "#A2B1C6",
             "gridcolor": "#506784",
             "linecolor": "#506784",
             "minorgridcolor": "#506784",
             "startlinecolor": "#A2B1C6"
            },
            "type": "carpet"
           }
          ],
          "choropleth": [
           {
            "colorbar": {
             "outlinewidth": 0,
             "ticks": ""
            },
            "type": "choropleth"
           }
          ],
          "contour": [
           {
            "colorbar": {
             "outlinewidth": 0,
             "ticks": ""
            },
            "colorscale": [
             [
              0,
              "#0d0887"
             ],
             [
              0.1111111111111111,
              "#46039f"
             ],
             [
              0.2222222222222222,
              "#7201a8"
             ],
             [
              0.3333333333333333,
              "#9c179e"
             ],
             [
              0.4444444444444444,
              "#bd3786"
             ],
             [
              0.5555555555555556,
              "#d8576b"
             ],
             [
              0.6666666666666666,
              "#ed7953"
             ],
             [
              0.7777777777777778,
              "#fb9f3a"
             ],
             [
              0.8888888888888888,
              "#fdca26"
             ],
             [
              1,
              "#f0f921"
             ]
            ],
            "type": "contour"
           }
          ],
          "contourcarpet": [
           {
            "colorbar": {
             "outlinewidth": 0,
             "ticks": ""
            },
            "type": "contourcarpet"
           }
          ],
          "heatmap": [
           {
            "colorbar": {
             "outlinewidth": 0,
             "ticks": ""
            },
            "colorscale": [
             [
              0,
              "#0d0887"
             ],
             [
              0.1111111111111111,
              "#46039f"
             ],
             [
              0.2222222222222222,
              "#7201a8"
             ],
             [
              0.3333333333333333,
              "#9c179e"
             ],
             [
              0.4444444444444444,
              "#bd3786"
             ],
             [
              0.5555555555555556,
              "#d8576b"
             ],
             [
              0.6666666666666666,
              "#ed7953"
             ],
             [
              0.7777777777777778,
              "#fb9f3a"
             ],
             [
              0.8888888888888888,
              "#fdca26"
             ],
             [
              1,
              "#f0f921"
             ]
            ],
            "type": "heatmap"
           }
          ],
          "heatmapgl": [
           {
            "colorbar": {
             "outlinewidth": 0,
             "ticks": ""
            },
            "colorscale": [
             [
              0,
              "#0d0887"
             ],
             [
              0.1111111111111111,
              "#46039f"
             ],
             [
              0.2222222222222222,
              "#7201a8"
             ],
             [
              0.3333333333333333,
              "#9c179e"
             ],
             [
              0.4444444444444444,
              "#bd3786"
             ],
             [
              0.5555555555555556,
              "#d8576b"
             ],
             [
              0.6666666666666666,
              "#ed7953"
             ],
             [
              0.7777777777777778,
              "#fb9f3a"
             ],
             [
              0.8888888888888888,
              "#fdca26"
             ],
             [
              1,
              "#f0f921"
             ]
            ],
            "type": "heatmapgl"
           }
          ],
          "histogram": [
           {
            "marker": {
             "pattern": {
              "fillmode": "overlay",
              "size": 10,
              "solidity": 0.2
             }
            },
            "type": "histogram"
           }
          ],
          "histogram2d": [
           {
            "colorbar": {
             "outlinewidth": 0,
             "ticks": ""
            },
            "colorscale": [
             [
              0,
              "#0d0887"
             ],
             [
              0.1111111111111111,
              "#46039f"
             ],
             [
              0.2222222222222222,
              "#7201a8"
             ],
             [
              0.3333333333333333,
              "#9c179e"
             ],
             [
              0.4444444444444444,
              "#bd3786"
             ],
             [
              0.5555555555555556,
              "#d8576b"
             ],
             [
              0.6666666666666666,
              "#ed7953"
             ],
             [
              0.7777777777777778,
              "#fb9f3a"
             ],
             [
              0.8888888888888888,
              "#fdca26"
             ],
             [
              1,
              "#f0f921"
             ]
            ],
            "type": "histogram2d"
           }
          ],
          "histogram2dcontour": [
           {
            "colorbar": {
             "outlinewidth": 0,
             "ticks": ""
            },
            "colorscale": [
             [
              0,
              "#0d0887"
             ],
             [
              0.1111111111111111,
              "#46039f"
             ],
             [
              0.2222222222222222,
              "#7201a8"
             ],
             [
              0.3333333333333333,
              "#9c179e"
             ],
             [
              0.4444444444444444,
              "#bd3786"
             ],
             [
              0.5555555555555556,
              "#d8576b"
             ],
             [
              0.6666666666666666,
              "#ed7953"
             ],
             [
              0.7777777777777778,
              "#fb9f3a"
             ],
             [
              0.8888888888888888,
              "#fdca26"
             ],
             [
              1,
              "#f0f921"
             ]
            ],
            "type": "histogram2dcontour"
           }
          ],
          "mesh3d": [
           {
            "colorbar": {
             "outlinewidth": 0,
             "ticks": ""
            },
            "type": "mesh3d"
           }
          ],
          "parcoords": [
           {
            "line": {
             "colorbar": {
              "outlinewidth": 0,
              "ticks": ""
             }
            },
            "type": "parcoords"
           }
          ],
          "pie": [
           {
            "automargin": true,
            "type": "pie"
           }
          ],
          "scatter": [
           {
            "marker": {
             "line": {
              "color": "#283442"
             }
            },
            "type": "scatter"
           }
          ],
          "scatter3d": [
           {
            "line": {
             "colorbar": {
              "outlinewidth": 0,
              "ticks": ""
             }
            },
            "marker": {
             "colorbar": {
              "outlinewidth": 0,
              "ticks": ""
             }
            },
            "type": "scatter3d"
           }
          ],
          "scattercarpet": [
           {
            "marker": {
             "colorbar": {
              "outlinewidth": 0,
              "ticks": ""
             }
            },
            "type": "scattercarpet"
           }
          ],
          "scattergeo": [
           {
            "marker": {
             "colorbar": {
              "outlinewidth": 0,
              "ticks": ""
             }
            },
            "type": "scattergeo"
           }
          ],
          "scattergl": [
           {
            "marker": {
             "line": {
              "color": "#283442"
             }
            },
            "type": "scattergl"
           }
          ],
          "scattermapbox": [
           {
            "marker": {
             "colorbar": {
              "outlinewidth": 0,
              "ticks": ""
             }
            },
            "type": "scattermapbox"
           }
          ],
          "scatterpolar": [
           {
            "marker": {
             "colorbar": {
              "outlinewidth": 0,
              "ticks": ""
             }
            },
            "type": "scatterpolar"
           }
          ],
          "scatterpolargl": [
           {
            "marker": {
             "colorbar": {
              "outlinewidth": 0,
              "ticks": ""
             }
            },
            "type": "scatterpolargl"
           }
          ],
          "scatterternary": [
           {
            "marker": {
             "colorbar": {
              "outlinewidth": 0,
              "ticks": ""
             }
            },
            "type": "scatterternary"
           }
          ],
          "surface": [
           {
            "colorbar": {
             "outlinewidth": 0,
             "ticks": ""
            },
            "colorscale": [
             [
              0,
              "#0d0887"
             ],
             [
              0.1111111111111111,
              "#46039f"
             ],
             [
              0.2222222222222222,
              "#7201a8"
             ],
             [
              0.3333333333333333,
              "#9c179e"
             ],
             [
              0.4444444444444444,
              "#bd3786"
             ],
             [
              0.5555555555555556,
              "#d8576b"
             ],
             [
              0.6666666666666666,
              "#ed7953"
             ],
             [
              0.7777777777777778,
              "#fb9f3a"
             ],
             [
              0.8888888888888888,
              "#fdca26"
             ],
             [
              1,
              "#f0f921"
             ]
            ],
            "type": "surface"
           }
          ],
          "table": [
           {
            "cells": {
             "fill": {
              "color": "#506784"
             },
             "line": {
              "color": "rgb(17,17,17)"
             }
            },
            "header": {
             "fill": {
              "color": "#2a3f5f"
             },
             "line": {
              "color": "rgb(17,17,17)"
             }
            },
            "type": "table"
           }
          ]
         },
         "layout": {
          "annotationdefaults": {
           "arrowcolor": "#f2f5fa",
           "arrowhead": 0,
           "arrowwidth": 1
          },
          "autotypenumbers": "strict",
          "coloraxis": {
           "colorbar": {
            "outlinewidth": 0,
            "ticks": ""
           }
          },
          "colorscale": {
           "diverging": [
            [
             0,
             "#8e0152"
            ],
            [
             0.1,
             "#c51b7d"
            ],
            [
             0.2,
             "#de77ae"
            ],
            [
             0.3,
             "#f1b6da"
            ],
            [
             0.4,
             "#fde0ef"
            ],
            [
             0.5,
             "#f7f7f7"
            ],
            [
             0.6,
             "#e6f5d0"
            ],
            [
             0.7,
             "#b8e186"
            ],
            [
             0.8,
             "#7fbc41"
            ],
            [
             0.9,
             "#4d9221"
            ],
            [
             1,
             "#276419"
            ]
           ],
           "sequential": [
            [
             0,
             "#0d0887"
            ],
            [
             0.1111111111111111,
             "#46039f"
            ],
            [
             0.2222222222222222,
             "#7201a8"
            ],
            [
             0.3333333333333333,
             "#9c179e"
            ],
            [
             0.4444444444444444,
             "#bd3786"
            ],
            [
             0.5555555555555556,
             "#d8576b"
            ],
            [
             0.6666666666666666,
             "#ed7953"
            ],
            [
             0.7777777777777778,
             "#fb9f3a"
            ],
            [
             0.8888888888888888,
             "#fdca26"
            ],
            [
             1,
             "#f0f921"
            ]
           ],
           "sequentialminus": [
            [
             0,
             "#0d0887"
            ],
            [
             0.1111111111111111,
             "#46039f"
            ],
            [
             0.2222222222222222,
             "#7201a8"
            ],
            [
             0.3333333333333333,
             "#9c179e"
            ],
            [
             0.4444444444444444,
             "#bd3786"
            ],
            [
             0.5555555555555556,
             "#d8576b"
            ],
            [
             0.6666666666666666,
             "#ed7953"
            ],
            [
             0.7777777777777778,
             "#fb9f3a"
            ],
            [
             0.8888888888888888,
             "#fdca26"
            ],
            [
             1,
             "#f0f921"
            ]
           ]
          },
          "colorway": [
           "#636efa",
           "#EF553B",
           "#00cc96",
           "#ab63fa",
           "#FFA15A",
           "#19d3f3",
           "#FF6692",
           "#B6E880",
           "#FF97FF",
           "#FECB52"
          ],
          "font": {
           "color": "#f2f5fa"
          },
          "geo": {
           "bgcolor": "rgb(17,17,17)",
           "lakecolor": "rgb(17,17,17)",
           "landcolor": "rgb(17,17,17)",
           "showlakes": true,
           "showland": true,
           "subunitcolor": "#506784"
          },
          "hoverlabel": {
           "align": "left"
          },
          "hovermode": "closest",
          "mapbox": {
           "style": "dark"
          },
          "paper_bgcolor": "rgb(17,17,17)",
          "plot_bgcolor": "rgb(17,17,17)",
          "polar": {
           "angularaxis": {
            "gridcolor": "#506784",
            "linecolor": "#506784",
            "ticks": ""
           },
           "bgcolor": "rgb(17,17,17)",
           "radialaxis": {
            "gridcolor": "#506784",
            "linecolor": "#506784",
            "ticks": ""
           }
          },
          "scene": {
           "xaxis": {
            "backgroundcolor": "rgb(17,17,17)",
            "gridcolor": "#506784",
            "gridwidth": 2,
            "linecolor": "#506784",
            "showbackground": true,
            "ticks": "",
            "zerolinecolor": "#C8D4E3"
           },
           "yaxis": {
            "backgroundcolor": "rgb(17,17,17)",
            "gridcolor": "#506784",
            "gridwidth": 2,
            "linecolor": "#506784",
            "showbackground": true,
            "ticks": "",
            "zerolinecolor": "#C8D4E3"
           },
           "zaxis": {
            "backgroundcolor": "rgb(17,17,17)",
            "gridcolor": "#506784",
            "gridwidth": 2,
            "linecolor": "#506784",
            "showbackground": true,
            "ticks": "",
            "zerolinecolor": "#C8D4E3"
           }
          },
          "shapedefaults": {
           "line": {
            "color": "#f2f5fa"
           }
          },
          "sliderdefaults": {
           "bgcolor": "#C8D4E3",
           "bordercolor": "rgb(17,17,17)",
           "borderwidth": 1,
           "tickwidth": 0
          },
          "ternary": {
           "aaxis": {
            "gridcolor": "#506784",
            "linecolor": "#506784",
            "ticks": ""
           },
           "baxis": {
            "gridcolor": "#506784",
            "linecolor": "#506784",
            "ticks": ""
           },
           "bgcolor": "rgb(17,17,17)",
           "caxis": {
            "gridcolor": "#506784",
            "linecolor": "#506784",
            "ticks": ""
           }
          },
          "title": {
           "x": 0.05
          },
          "updatemenudefaults": {
           "bgcolor": "#506784",
           "borderwidth": 0
          },
          "xaxis": {
           "automargin": true,
           "gridcolor": "#283442",
           "linecolor": "#506784",
           "ticks": "",
           "title": {
            "standoff": 15
           },
           "zerolinecolor": "#283442",
           "zerolinewidth": 2
          },
          "yaxis": {
           "automargin": true,
           "gridcolor": "#283442",
           "linecolor": "#506784",
           "ticks": "",
           "title": {
            "standoff": 15
           },
           "zerolinecolor": "#283442",
           "zerolinewidth": 2
          }
         }
        },
        "xaxis": {
         "anchor": "y",
         "domain": [
          0,
          1
         ],
         "title": {
          "text": "index"
         }
        },
        "yaxis": {
         "anchor": "x",
         "domain": [
          0,
          1
         ],
         "title": {
          "text": "value"
         }
        }
       }
      }
     },
     "metadata": {},
     "output_type": "display_data"
    }
   ],
   "source": [
    "df_temp = pd.merge(right=preditive_df, left=pred, left_index=True, right_index=True, how='outer')\n",
    "df_temp.loc[(df_temp.index <= '2023-11-1'), 'y_pred'] = np.nan\n",
    "df_temp.columns = ['Previsão', 'Histórico']\n",
    "\n",
    "\n",
    "fig = px.line(data_frame=df_temp, y=['Previsão', 'Histórico'], x=df_temp.index)\n",
    "fig.show()"
   ]
  },
  {
   "cell_type": "markdown",
   "metadata": {},
   "source": [
    "x - Qual a previsão mensal dos repasses até o exercício seguinte para cada estado?"
   ]
  },
  {
   "cell_type": "code",
   "execution_count": null,
   "metadata": {},
   "outputs": [],
   "source": []
  }
 ],
 "metadata": {
  "kernelspec": {
   "display_name": "Python 3",
   "language": "python",
   "name": "python3"
  },
  "language_info": {
   "codemirror_mode": {
    "name": "ipython",
    "version": 3
   },
   "file_extension": ".py",
   "mimetype": "text/x-python",
   "name": "python",
   "nbconvert_exporter": "python",
   "pygments_lexer": "ipython3",
   "version": "3.11.5"
  }
 },
 "nbformat": 4,
 "nbformat_minor": 2
}
