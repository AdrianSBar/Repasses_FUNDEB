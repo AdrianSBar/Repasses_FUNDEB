{
 "cells": [
  {
   "cell_type": "markdown",
   "metadata": {},
   "source": [
    "# IMPORTS E CONFIGURAÇÕES"
   ]
  },
  {
   "cell_type": "code",
   "execution_count": 1,
   "metadata": {},
   "outputs": [],
   "source": [
    "# Bibliotecas padrão para manipulação do sistema operacional\n",
    "import os\n",
    "import shutil\n",
    "# Bibliotecas de web scrapping\n",
    "from selenium import webdriver\n",
    "from selenium.webdriver.chrome.service import Service as ChromeService\n",
    "from webdriver_manager.chrome import ChromeDriverManager\n",
    "# Bibliotecas para manipulação de dados\n",
    "import datetime\n",
    "import time\n",
    "import pandas as pd  # Manipulação de dados tabulares\n",
    "# Biblioteca de avisos\n",
    "import warnings\n",
    "\n",
    "\n",
    "# Configurações\n",
    "warnings.filterwarnings('ignore')\n",
    "pd.options.display.max_rows = None\n",
    "pd.options.display.max_columns = None\n",
    "pd.options.display.max_colwidth = None\n",
    "pd.options.display.float_format = lambda x: f'{x:,.2f}'"
   ]
  },
  {
   "cell_type": "markdown",
   "metadata": {},
   "source": [
    "# WEB SCRAPING"
   ]
  },
  {
   "cell_type": "markdown",
   "metadata": {},
   "source": [
    "## Download de uma arquivo anual"
   ]
  },
  {
   "cell_type": "code",
   "execution_count": null,
   "metadata": {},
   "outputs": [],
   "source": [
    "# Download de arquivo excel no site\n",
    "def download_one_excel_data(ano):\n",
    "    # Iniciando o webdriver manager do navegador google chrome na sua ultima versão correspondente\n",
    "    driver = webdriver.Chrome(service=ChromeService(ChromeDriverManager().install()))\n",
    "    if ano != 2022:\n",
    "        # URL da página que contém o botão de download\n",
    "        url = f\"https://www.tesourotransparente.gov.br/publicacoes/transferencias-ao-fundo-de-manutencao-e-desenvolvimento-da-educacao-basica-fundeb/{ano}/114?ano_selecionado={ano}\"\n",
    "        # Acessando url\n",
    "        driver.get(url)\n",
    "        # Clicando no botão de download\n",
    "        driver.find_element(\n",
    "            by='xpath',\n",
    "            value='//*[@id=\"publicacao\"]/div/div[2]/section/div[4]/a').click()\n",
    "        time.sleep(10)\n",
    "        driver.quit()\n",
    "    else:\n",
    "        # URL da página que contém o botão de download\n",
    "        url = 'https://www.tesourotransparente.gov.br/publicacoes/transferencias-ao-fundo-de-manutencao-e-desenvolvimento-da-educacao-basica-fundeb/2022/114-2?ano_selecionado=2022'\n",
    "        # Acessando url\n",
    "        driver.get(url)\n",
    "        # Clicando no botão de download\n",
    "        driver.find_element(\n",
    "            by='xpath',\n",
    "            value='//*[@id=\"publicacao\"]/div/div[2]/section/div[4]/a').click()\n",
    "        time.sleep(10)\n",
    "        driver.quit()"
   ]
  },
  {
   "cell_type": "markdown",
   "metadata": {},
   "source": [
    "## Encontrar arquivo na pasta destino"
   ]
  },
  {
   "cell_type": "code",
   "execution_count": null,
   "metadata": {},
   "outputs": [],
   "source": [
    "# Nomeação e destinação de arquivo\n",
    "def find_excel_file_name(ano):\n",
    "    if ano in [2007, 2009, 2010, 2011, 2013]:\n",
    "        origin = os.path.join(os.path.expanduser(\n",
    "            '~'), 'Downloads', f'Fundeb{ano}.xls')\n",
    "    elif ano == 2008:\n",
    "        origin = os.path.join(os.path.expanduser(\n",
    "            '~'), 'Downloads', f'Fundeb_{ano}.xls')\n",
    "    elif ano in [2012, 2014, 2015, 2016, 2017]:\n",
    "        origin = os.path.join(os.path.expanduser(\n",
    "            '~'), 'Downloads', f'pge_fundeb_{ano}.xls')\n",
    "    else:\n",
    "        origin = os.path.join(os.path.expanduser(\n",
    "            '~'), 'Downloads', f'Fundeb {ano}.xls')\n",
    "    return origin"
   ]
  },
  {
   "cell_type": "markdown",
   "metadata": {},
   "source": [
    "## Download de todos os arquivos anuais disponíveis"
   ]
  },
  {
   "cell_type": "code",
   "execution_count": null,
   "metadata": {},
   "outputs": [],
   "source": [
    "# Download de todos os arquivos até o ano corrente (caso não hajam dentro da pasta)\n",
    "def download_all_excel_datas(destiny_fold):\n",
    "    # Criando variável do ano corrente\n",
    "    corrent_year = datetime.datetime.today().year\n",
    "    # Loop para baixar todos os arquivos a partir de 2007 até o ano corrente\n",
    "    for ano in range(2007, corrent_year+1, 1):\n",
    "        if f'Fundeb {ano}.xls' not in os.listdir(path=destiny_fold):\n",
    "            print(f'Arquivo {ano} não encontrado, efetuando download.')\n",
    "            # Efetuando o download do arquivo\n",
    "            download_one_excel_data(ano)\n",
    "            # Especificando pasta de destino padrão - Downloads\n",
    "            origin = find_excel_file_name(ano=ano)\n",
    "            # Especifique o caminho completo da pasta de destino\n",
    "            destiny = f\"{destiny_fold}/Fundeb {ano}.xls\"\n",
    "            # Ajustando pasta\n",
    "            # Mova o arquivo para a pasta de destino\n",
    "            shutil.move(origin, destiny)\n",
    "        else:\n",
    "            # Especifique o caminho completo do arquivo que você deseja verificar\n",
    "            destiny = f\"{destiny_fold}/Fundeb {ano}.xls\"\n",
    "            # Obtenha os metadados do arquivo, incluindo a data de modificação\n",
    "            info = os.stat(destiny)\n",
    "            # Acesse a data de modificação do arquivo\n",
    "            last_modification = info.st_mtime\n",
    "            # Converta a data de modificação para um formato legível\n",
    "            data_formatada = time.ctime(last_modification)\n",
    "            if (int(data_formatada[-5:]) < corrent_year) or (ano == corrent_year):\n",
    "                print(f'Arquivo {ano} desatualizado, refazendo download.')\n",
    "                # Efetuando o download do arquivo\n",
    "                download_one_excel_data(ano)\n",
    "                # Especificando pasta de destino padrão - Downloads\n",
    "                origin = find_excel_file_name(ano=ano)\n",
    "                # Substituindo o arquivo para a pasta de destino\n",
    "                shutil.copy(origin, destiny)"
   ]
  }
 ],
 "metadata": {
  "kernelspec": {
   "display_name": "repasses_fundeb",
   "language": "python",
   "name": "python3"
  },
  "language_info": {
   "codemirror_mode": {
    "name": "ipython",
    "version": 3
   },
   "file_extension": ".py",
   "mimetype": "text/x-python",
   "name": "python",
   "nbconvert_exporter": "python",
   "pygments_lexer": "ipython3",
   "version": "3.11.8"
  }
 },
 "nbformat": 4,
 "nbformat_minor": 2
}
