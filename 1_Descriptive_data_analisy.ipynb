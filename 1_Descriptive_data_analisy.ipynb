{
 "cells": [
  {
   "cell_type": "markdown",
   "metadata": {},
   "source": [
    "# **IMPORTS/COMFIGIRAÇÕES**"
   ]
  },
  {
   "cell_type": "code",
   "execution_count": 1,
   "metadata": {
    "notebookRunGroups": {
     "groupValue": "1"
    }
   },
   "outputs": [],
   "source": [
    "# Bibliotecas de manipulação\n",
    "import numpy as np  # Manipulação de matrizes\n",
    "import pandas as pd  # Manipulação de dados tabulares\n",
    "# Bibliotecas de visualização gráfica\n",
    "import matplotlib.pyplot as plt\n",
    "import seaborn as sns\n",
    "import plotly.express as px\n",
    "# Bibliotecas próprias\n",
    "from PROJECT_LIBRARY.Data_extraction import *  # Biblioteca própria para extração dos dados\n",
    "from PROJECT_LIBRARY.Data_transformation import *  # Biblioteca própria para transformação dos dados\n",
    "# Biblioteca de filtro de notificações\n",
    "import warnings\n",
    "\n",
    "\n",
    "\n",
    "warnings.filterwarnings(action='ignore')\n",
    "pd.options.display.max_columns = None\n",
    "pd.options.display.max_colwidth = None\n",
    "pd.options.display.float_format = lambda x: f'{x:,.2f}'"
   ]
  },
  {
   "cell_type": "code",
   "execution_count": 2,
   "metadata": {},
   "outputs": [],
   "source": [
    "upgrade_data(fold='./RAW_DATAS')"
   ]
  },
  {
   "cell_type": "markdown",
   "metadata": {},
   "source": [
    "# **ANÁLISE DESCRITIVA**"
   ]
  },
  {
   "cell_type": "code",
   "execution_count": 3,
   "metadata": {
    "notebookRunGroups": {
     "groupValue": "1"
    }
   },
   "outputs": [
    {
     "data": {
      "text/html": [
       "<div>\n",
       "<style scoped>\n",
       "    .dataframe tbody tr th:only-of-type {\n",
       "        vertical-align: middle;\n",
       "    }\n",
       "\n",
       "    .dataframe tbody tr th {\n",
       "        vertical-align: top;\n",
       "    }\n",
       "\n",
       "    .dataframe thead th {\n",
       "        text-align: right;\n",
       "    }\n",
       "</style>\n",
       "<table border=\"1\" class=\"dataframe\">\n",
       "  <thead>\n",
       "    <tr style=\"text-align: right;\">\n",
       "      <th></th>\n",
       "      <th>COMPETÊNCIA</th>\n",
       "      <th>UF</th>\n",
       "      <th>AJUSTES</th>\n",
       "      <th>ESFERA</th>\n",
       "      <th>EC123</th>\n",
       "      <th>COUN</th>\n",
       "      <th>VAAF</th>\n",
       "      <th>VAAR</th>\n",
       "      <th>VAAT</th>\n",
       "      <th>FPE</th>\n",
       "      <th>FPM</th>\n",
       "      <th>ICMS</th>\n",
       "      <th>IPI</th>\n",
       "      <th>IPVA</th>\n",
       "      <th>ITCMD</th>\n",
       "      <th>ITR</th>\n",
       "      <th>LC8796</th>\n",
       "      <th>Ajuste</th>\n",
       "      <th>TOTAL</th>\n",
       "    </tr>\n",
       "  </thead>\n",
       "  <tbody>\n",
       "    <tr>\n",
       "      <th>0</th>\n",
       "      <td>2007-01-01</td>\n",
       "      <td>AC</td>\n",
       "      <td>False</td>\n",
       "      <td>ESTADUAL</td>\n",
       "      <td>0.00</td>\n",
       "      <td>0.00</td>\n",
       "      <td>0.00</td>\n",
       "      <td>0.00</td>\n",
       "      <td>0.00</td>\n",
       "      <td>0.00</td>\n",
       "      <td>0.00</td>\n",
       "      <td>0.00</td>\n",
       "      <td>0.00</td>\n",
       "      <td>0.00</td>\n",
       "      <td>0.00</td>\n",
       "      <td>0.00</td>\n",
       "      <td>0.00</td>\n",
       "      <td>0.00</td>\n",
       "      <td>0.00</td>\n",
       "    </tr>\n",
       "    <tr>\n",
       "      <th>4</th>\n",
       "      <td>2007-01-01</td>\n",
       "      <td>AC</td>\n",
       "      <td>False</td>\n",
       "      <td>ESTADUAL</td>\n",
       "      <td>0.00</td>\n",
       "      <td>0.00</td>\n",
       "      <td>0.00</td>\n",
       "      <td>0.00</td>\n",
       "      <td>0.00</td>\n",
       "      <td>0.00</td>\n",
       "      <td>0.00</td>\n",
       "      <td>0.00</td>\n",
       "      <td>3,548.46</td>\n",
       "      <td>0.00</td>\n",
       "      <td>0.00</td>\n",
       "      <td>0.00</td>\n",
       "      <td>0.00</td>\n",
       "      <td>0.00</td>\n",
       "      <td>3,548.46</td>\n",
       "    </tr>\n",
       "    <tr>\n",
       "      <th>5</th>\n",
       "      <td>2007-01-01</td>\n",
       "      <td>AC</td>\n",
       "      <td>False</td>\n",
       "      <td>ESTADUAL</td>\n",
       "      <td>0.00</td>\n",
       "      <td>0.00</td>\n",
       "      <td>0.00</td>\n",
       "      <td>0.00</td>\n",
       "      <td>0.00</td>\n",
       "      <td>0.00</td>\n",
       "      <td>0.00</td>\n",
       "      <td>3,147,424.17</td>\n",
       "      <td>0.00</td>\n",
       "      <td>0.00</td>\n",
       "      <td>0.00</td>\n",
       "      <td>0.00</td>\n",
       "      <td>0.00</td>\n",
       "      <td>0.00</td>\n",
       "      <td>3,147,424.17</td>\n",
       "    </tr>\n",
       "    <tr>\n",
       "      <th>6</th>\n",
       "      <td>2007-01-01</td>\n",
       "      <td>AC</td>\n",
       "      <td>False</td>\n",
       "      <td>ESTADUAL</td>\n",
       "      <td>0.00</td>\n",
       "      <td>0.00</td>\n",
       "      <td>0.00</td>\n",
       "      <td>0.00</td>\n",
       "      <td>0.00</td>\n",
       "      <td>0.00</td>\n",
       "      <td>1,582,026.94</td>\n",
       "      <td>0.00</td>\n",
       "      <td>0.00</td>\n",
       "      <td>0.00</td>\n",
       "      <td>0.00</td>\n",
       "      <td>0.00</td>\n",
       "      <td>0.00</td>\n",
       "      <td>0.00</td>\n",
       "      <td>1,582,026.94</td>\n",
       "    </tr>\n",
       "    <tr>\n",
       "      <th>7</th>\n",
       "      <td>2007-01-01</td>\n",
       "      <td>AC</td>\n",
       "      <td>False</td>\n",
       "      <td>ESTADUAL</td>\n",
       "      <td>0.00</td>\n",
       "      <td>0.00</td>\n",
       "      <td>0.00</td>\n",
       "      <td>0.00</td>\n",
       "      <td>0.00</td>\n",
       "      <td>9,679,990.36</td>\n",
       "      <td>0.00</td>\n",
       "      <td>0.00</td>\n",
       "      <td>0.00</td>\n",
       "      <td>0.00</td>\n",
       "      <td>0.00</td>\n",
       "      <td>0.00</td>\n",
       "      <td>0.00</td>\n",
       "      <td>0.00</td>\n",
       "      <td>9,679,990.36</td>\n",
       "    </tr>\n",
       "  </tbody>\n",
       "</table>\n",
       "</div>"
      ],
      "text/plain": [
       "  COMPETÊNCIA  UF  AJUSTES    ESFERA  EC123  COUN  VAAF  VAAR  VAAT  \\\n",
       "0  2007-01-01  AC    False  ESTADUAL   0.00  0.00  0.00  0.00  0.00   \n",
       "4  2007-01-01  AC    False  ESTADUAL   0.00  0.00  0.00  0.00  0.00   \n",
       "5  2007-01-01  AC    False  ESTADUAL   0.00  0.00  0.00  0.00  0.00   \n",
       "6  2007-01-01  AC    False  ESTADUAL   0.00  0.00  0.00  0.00  0.00   \n",
       "7  2007-01-01  AC    False  ESTADUAL   0.00  0.00  0.00  0.00  0.00   \n",
       "\n",
       "           FPE          FPM         ICMS      IPI  IPVA  ITCMD  ITR  LC8796  \\\n",
       "0         0.00         0.00         0.00     0.00  0.00   0.00 0.00    0.00   \n",
       "4         0.00         0.00         0.00 3,548.46  0.00   0.00 0.00    0.00   \n",
       "5         0.00         0.00 3,147,424.17     0.00  0.00   0.00 0.00    0.00   \n",
       "6         0.00 1,582,026.94         0.00     0.00  0.00   0.00 0.00    0.00   \n",
       "7 9,679,990.36         0.00         0.00     0.00  0.00   0.00 0.00    0.00   \n",
       "\n",
       "   Ajuste        TOTAL  \n",
       "0    0.00         0.00  \n",
       "4    0.00     3,548.46  \n",
       "5    0.00 3,147,424.17  \n",
       "6    0.00 1,582,026.94  \n",
       "7    0.00 9,679,990.36  "
      ]
     },
     "execution_count": 3,
     "metadata": {},
     "output_type": "execute_result"
    }
   ],
   "source": [
    "df = pd.read_parquet('./DATASETS/finally_data.parquet')\n",
    "df.head(5)"
   ]
  },
  {
   "cell_type": "code",
   "execution_count": 4,
   "metadata": {},
   "outputs": [
    {
     "name": "stdout",
     "output_type": "stream",
     "text": [
      "<class 'pandas.core.frame.DataFrame'>\n",
      "Index: 110854 entries, 0 to 239098\n",
      "Data columns (total 19 columns):\n",
      " #   Column       Non-Null Count   Dtype         \n",
      "---  ------       --------------   -----         \n",
      " 0   COMPETÊNCIA  110854 non-null  datetime64[ns]\n",
      " 1   UF           110854 non-null  object        \n",
      " 2   AJUSTES      110854 non-null  bool          \n",
      " 3   ESFERA       110854 non-null  object        \n",
      " 4   EC123        110854 non-null  float64       \n",
      " 5   COUN         110854 non-null  float64       \n",
      " 6   VAAF         110854 non-null  float64       \n",
      " 7   VAAR         110854 non-null  float64       \n",
      " 8   VAAT         110854 non-null  float64       \n",
      " 9   FPE          110854 non-null  float64       \n",
      " 10  FPM          110854 non-null  float64       \n",
      " 11  ICMS         110854 non-null  float64       \n",
      " 12  IPI          110854 non-null  float64       \n",
      " 13  IPVA         110854 non-null  float64       \n",
      " 14  ITCMD        110854 non-null  float64       \n",
      " 15  ITR          110854 non-null  float64       \n",
      " 16  LC8796       110854 non-null  float64       \n",
      " 17  Ajuste       110854 non-null  float64       \n",
      " 18  TOTAL        110854 non-null  float64       \n",
      "dtypes: bool(1), datetime64[ns](1), float64(15), object(2)\n",
      "memory usage: 16.2+ MB\n"
     ]
    }
   ],
   "source": [
    "df.info()"
   ]
  },
  {
   "cell_type": "code",
   "execution_count": 5,
   "metadata": {},
   "outputs": [
    {
     "data": {
      "text/plain": [
       "Index          886832\n",
       "COMPETÊNCIA    886832\n",
       "UF             886832\n",
       "AJUSTES        110854\n",
       "ESFERA         886832\n",
       "EC123          886832\n",
       "COUN           886832\n",
       "VAAF           886832\n",
       "VAAR           886832\n",
       "VAAT           886832\n",
       "FPE            886832\n",
       "FPM            886832\n",
       "ICMS           886832\n",
       "IPI            886832\n",
       "IPVA           886832\n",
       "ITCMD          886832\n",
       "ITR            886832\n",
       "LC8796         886832\n",
       "Ajuste         886832\n",
       "TOTAL          886832\n",
       "dtype: int64"
      ]
     },
     "execution_count": 5,
     "metadata": {},
     "output_type": "execute_result"
    }
   ],
   "source": [
    "df.memory_usage()"
   ]
  },
  {
   "cell_type": "markdown",
   "metadata": {},
   "source": [
    "## VARIÁVEIS NUMÉRICAS"
   ]
  },
  {
   "cell_type": "code",
   "execution_count": 6,
   "metadata": {},
   "outputs": [
    {
     "data": {
      "text/plain": [
       "['EC123',\n",
       " 'COUN',\n",
       " 'VAAF',\n",
       " 'VAAR',\n",
       " 'VAAT',\n",
       " 'FPE',\n",
       " 'FPM',\n",
       " 'ICMS',\n",
       " 'IPI',\n",
       " 'IPVA',\n",
       " 'ITCMD',\n",
       " 'ITR',\n",
       " 'LC8796',\n",
       " 'Ajuste',\n",
       " 'TOTAL']"
      ]
     },
     "execution_count": 6,
     "metadata": {},
     "output_type": "execute_result"
    }
   ],
   "source": [
    "numeric_columns = df.select_dtypes(include=['int', 'float']).columns.tolist()\n",
    "numeric_columns"
   ]
  },
  {
   "cell_type": "code",
   "execution_count": 7,
   "metadata": {},
   "outputs": [
    {
     "data": {
      "text/html": [
       "<div>\n",
       "<style scoped>\n",
       "    .dataframe tbody tr th:only-of-type {\n",
       "        vertical-align: middle;\n",
       "    }\n",
       "\n",
       "    .dataframe tbody tr th {\n",
       "        vertical-align: top;\n",
       "    }\n",
       "\n",
       "    .dataframe thead th {\n",
       "        text-align: right;\n",
       "    }\n",
       "</style>\n",
       "<table border=\"1\" class=\"dataframe\">\n",
       "  <thead>\n",
       "    <tr style=\"text-align: right;\">\n",
       "      <th></th>\n",
       "      <th>COMPETÊNCIA</th>\n",
       "      <th>EC123</th>\n",
       "      <th>COUN</th>\n",
       "      <th>VAAF</th>\n",
       "      <th>VAAR</th>\n",
       "      <th>VAAT</th>\n",
       "      <th>FPE</th>\n",
       "      <th>FPM</th>\n",
       "      <th>ICMS</th>\n",
       "      <th>IPI</th>\n",
       "      <th>IPVA</th>\n",
       "      <th>ITCMD</th>\n",
       "      <th>ITR</th>\n",
       "      <th>LC8796</th>\n",
       "      <th>Ajuste</th>\n",
       "      <th>TOTAL</th>\n",
       "    </tr>\n",
       "  </thead>\n",
       "  <tbody>\n",
       "    <tr>\n",
       "      <th>count</th>\n",
       "      <td>110854</td>\n",
       "      <td>110,854.00</td>\n",
       "      <td>110,854.00</td>\n",
       "      <td>110,854.00</td>\n",
       "      <td>110,854.00</td>\n",
       "      <td>110,854.00</td>\n",
       "      <td>110,854.00</td>\n",
       "      <td>110,854.00</td>\n",
       "      <td>110,854.00</td>\n",
       "      <td>110,854.00</td>\n",
       "      <td>110,854.00</td>\n",
       "      <td>110,854.00</td>\n",
       "      <td>110,854.00</td>\n",
       "      <td>110,854.00</td>\n",
       "      <td>110,854.00</td>\n",
       "      <td>110,854.00</td>\n",
       "    </tr>\n",
       "    <tr>\n",
       "      <th>mean</th>\n",
       "      <td>2015-09-02 06:49:36.152417024</td>\n",
       "      <td>6,527.04</td>\n",
       "      <td>1,263,089.40</td>\n",
       "      <td>713,479.57</td>\n",
       "      <td>17,131.01</td>\n",
       "      <td>279,341.67</td>\n",
       "      <td>2,556,545.49</td>\n",
       "      <td>2,675,453.43</td>\n",
       "      <td>12,731,139.41</td>\n",
       "      <td>145,079.99</td>\n",
       "      <td>1,182,879.24</td>\n",
       "      <td>203,124.22</td>\n",
       "      <td>33,538.59</td>\n",
       "      <td>41,264.20</td>\n",
       "      <td>0.00</td>\n",
       "      <td>21,848,593.40</td>\n",
       "    </tr>\n",
       "    <tr>\n",
       "      <th>min</th>\n",
       "      <td>2007-01-01 00:00:00</td>\n",
       "      <td>0.00</td>\n",
       "      <td>-213,329,018.65</td>\n",
       "      <td>-177,096,290.90</td>\n",
       "      <td>0.00</td>\n",
       "      <td>-4,017,062.82</td>\n",
       "      <td>-13,294,613.27</td>\n",
       "      <td>-13,760,903.53</td>\n",
       "      <td>-33,113,879.07</td>\n",
       "      <td>-941,954.25</td>\n",
       "      <td>-11,514,016.68</td>\n",
       "      <td>-692,836.03</td>\n",
       "      <td>-40,388.14</td>\n",
       "      <td>0.00</td>\n",
       "      <td>-54,682,223.97</td>\n",
       "      <td>-213,329,017.65</td>\n",
       "    </tr>\n",
       "    <tr>\n",
       "      <th>25%</th>\n",
       "      <td>2011-05-01 00:00:00</td>\n",
       "      <td>0.00</td>\n",
       "      <td>0.00</td>\n",
       "      <td>0.00</td>\n",
       "      <td>0.00</td>\n",
       "      <td>0.00</td>\n",
       "      <td>0.00</td>\n",
       "      <td>0.00</td>\n",
       "      <td>0.00</td>\n",
       "      <td>0.00</td>\n",
       "      <td>0.00</td>\n",
       "      <td>0.00</td>\n",
       "      <td>0.00</td>\n",
       "      <td>0.00</td>\n",
       "      <td>0.00</td>\n",
       "      <td>4,826.85</td>\n",
       "    </tr>\n",
       "    <tr>\n",
       "      <th>50%</th>\n",
       "      <td>2015-09-01 00:00:00</td>\n",
       "      <td>0.00</td>\n",
       "      <td>0.00</td>\n",
       "      <td>0.00</td>\n",
       "      <td>0.00</td>\n",
       "      <td>0.00</td>\n",
       "      <td>0.00</td>\n",
       "      <td>0.00</td>\n",
       "      <td>0.00</td>\n",
       "      <td>0.00</td>\n",
       "      <td>0.00</td>\n",
       "      <td>0.00</td>\n",
       "      <td>0.00</td>\n",
       "      <td>0.00</td>\n",
       "      <td>0.00</td>\n",
       "      <td>810,777.05</td>\n",
       "    </tr>\n",
       "    <tr>\n",
       "      <th>75%</th>\n",
       "      <td>2020-01-01 00:00:00</td>\n",
       "      <td>0.00</td>\n",
       "      <td>0.00</td>\n",
       "      <td>0.00</td>\n",
       "      <td>0.00</td>\n",
       "      <td>0.00</td>\n",
       "      <td>0.00</td>\n",
       "      <td>0.00</td>\n",
       "      <td>0.00</td>\n",
       "      <td>0.00</td>\n",
       "      <td>0.00</td>\n",
       "      <td>0.00</td>\n",
       "      <td>0.00</td>\n",
       "      <td>0.00</td>\n",
       "      <td>0.00</td>\n",
       "      <td>13,642,477.45</td>\n",
       "    </tr>\n",
       "    <tr>\n",
       "      <th>max</th>\n",
       "      <td>2024-12-01 00:00:00</td>\n",
       "      <td>121,893,595.92</td>\n",
       "      <td>777,405,463.20</td>\n",
       "      <td>891,910,015.10</td>\n",
       "      <td>41,131,672.03</td>\n",
       "      <td>590,990,738.15</td>\n",
       "      <td>250,779,967.56</td>\n",
       "      <td>283,833,187.85</td>\n",
       "      <td>2,431,147,109.50</td>\n",
       "      <td>19,202,111.15</td>\n",
       "      <td>1,177,690,607.31</td>\n",
       "      <td>89,383,539.05</td>\n",
       "      <td>31,457,569.15</td>\n",
       "      <td>29,611,036.12</td>\n",
       "      <td>54,682,223.94</td>\n",
       "      <td>2,431,147,109.50</td>\n",
       "    </tr>\n",
       "    <tr>\n",
       "      <th>std</th>\n",
       "      <td>NaN</td>\n",
       "      <td>571,934.63</td>\n",
       "      <td>13,839,316.74</td>\n",
       "      <td>12,976,997.52</td>\n",
       "      <td>392,404.07</td>\n",
       "      <td>6,430,150.62</td>\n",
       "      <td>10,743,007.31</td>\n",
       "      <td>12,914,324.79</td>\n",
       "      <td>81,462,957.65</td>\n",
       "      <td>862,845.31</td>\n",
       "      <td>14,219,152.29</td>\n",
       "      <td>1,812,087.56</td>\n",
       "      <td>516,229.81</td>\n",
       "      <td>365,372.28</td>\n",
       "      <td>328,981.70</td>\n",
       "      <td>85,023,803.94</td>\n",
       "    </tr>\n",
       "  </tbody>\n",
       "</table>\n",
       "</div>"
      ],
      "text/plain": [
       "                         COMPETÊNCIA          EC123            COUN  \\\n",
       "count                         110854     110,854.00      110,854.00   \n",
       "mean   2015-09-02 06:49:36.152417024       6,527.04    1,263,089.40   \n",
       "min              2007-01-01 00:00:00           0.00 -213,329,018.65   \n",
       "25%              2011-05-01 00:00:00           0.00            0.00   \n",
       "50%              2015-09-01 00:00:00           0.00            0.00   \n",
       "75%              2020-01-01 00:00:00           0.00            0.00   \n",
       "max              2024-12-01 00:00:00 121,893,595.92  777,405,463.20   \n",
       "std                              NaN     571,934.63   13,839,316.74   \n",
       "\n",
       "                 VAAF          VAAR           VAAT            FPE  \\\n",
       "count      110,854.00    110,854.00     110,854.00     110,854.00   \n",
       "mean       713,479.57     17,131.01     279,341.67   2,556,545.49   \n",
       "min   -177,096,290.90          0.00  -4,017,062.82 -13,294,613.27   \n",
       "25%              0.00          0.00           0.00           0.00   \n",
       "50%              0.00          0.00           0.00           0.00   \n",
       "75%              0.00          0.00           0.00           0.00   \n",
       "max    891,910,015.10 41,131,672.03 590,990,738.15 250,779,967.56   \n",
       "std     12,976,997.52    392,404.07   6,430,150.62  10,743,007.31   \n",
       "\n",
       "                 FPM             ICMS           IPI             IPVA  \\\n",
       "count     110,854.00       110,854.00    110,854.00       110,854.00   \n",
       "mean    2,675,453.43    12,731,139.41    145,079.99     1,182,879.24   \n",
       "min   -13,760,903.53   -33,113,879.07   -941,954.25   -11,514,016.68   \n",
       "25%             0.00             0.00          0.00             0.00   \n",
       "50%             0.00             0.00          0.00             0.00   \n",
       "75%             0.00             0.00          0.00             0.00   \n",
       "max   283,833,187.85 2,431,147,109.50 19,202,111.15 1,177,690,607.31   \n",
       "std    12,914,324.79    81,462,957.65    862,845.31    14,219,152.29   \n",
       "\n",
       "              ITCMD           ITR        LC8796         Ajuste  \\\n",
       "count    110,854.00    110,854.00    110,854.00     110,854.00   \n",
       "mean     203,124.22     33,538.59     41,264.20           0.00   \n",
       "min     -692,836.03    -40,388.14          0.00 -54,682,223.97   \n",
       "25%            0.00          0.00          0.00           0.00   \n",
       "50%            0.00          0.00          0.00           0.00   \n",
       "75%            0.00          0.00          0.00           0.00   \n",
       "max   89,383,539.05 31,457,569.15 29,611,036.12  54,682,223.94   \n",
       "std    1,812,087.56    516,229.81    365,372.28     328,981.70   \n",
       "\n",
       "                 TOTAL  \n",
       "count       110,854.00  \n",
       "mean     21,848,593.40  \n",
       "min    -213,329,017.65  \n",
       "25%           4,826.85  \n",
       "50%         810,777.05  \n",
       "75%      13,642,477.45  \n",
       "max   2,431,147,109.50  \n",
       "std      85,023,803.94  "
      ]
     },
     "execution_count": 7,
     "metadata": {},
     "output_type": "execute_result"
    }
   ],
   "source": [
    "df.describe()"
   ]
  },
  {
   "cell_type": "markdown",
   "metadata": {},
   "source": [
    "### Tratamentos"
   ]
  },
  {
   "cell_type": "code",
   "execution_count": 20,
   "metadata": {},
   "outputs": [],
   "source": [
    "# Tratamento de constantes \n",
    "# cons = df.nunique()\n",
    "# cons.loc[cons.values==1].index.to_list()\n",
    "# cons.loc[]\n",
    "# - (Não foram identificadas constantes entre os dados)\n",
    "\n",
    "# Tratamento de duplicados\n",
    "# df.loc[df.duplicated()]\n",
    "# - (Não foram identificadas registros duplicados entre os dados)\n",
    "\n",
    "# Tratamento de valores ausentes\n",
    "# df.loc[df.isnull().any(axis=1)]\n",
    "# - (Não foram identificadas registros ausentes entre os dados)\n",
    "\n",
    "# Tratamento de valores inconsistentes ou sujos\n",
    "# - Foram identificados valores negativos que representam ajustes e não se tratam de irregulares \n",
    "# df.loc[(df['TOTAL LIQUIDO'] < 0) & (df['CATEGORIA']!='Outros')]\n",
    "# df.loc[(df['ESFERA']=='Estadual') & (df['UF']=='PB') & (df['COMPETÊNCIA']>='2023-01-01') & (df['COMPETÊNCIA']<='2023-12-31')]['TOTAL AJUSTE'].sum()\n",
    "# - Não se sabe o motivo desses ajustes, entretanto, para os montantes corretos de 'total de ajuste' e 'total liquido', estes devem ser considerados negativos"
   ]
  },
  {
   "cell_type": "markdown",
   "metadata": {},
   "source": [
    "### Distribuição"
   ]
  },
  {
   "cell_type": "code",
   "execution_count": null,
   "metadata": {},
   "outputs": [],
   "source": [
    "sns.displot(\n",
    "    data=df,\n",
    "    x='TOTAL LIQUIDO',\n",
    "    col='ESFERA'\n",
    ")"
   ]
  },
  {
   "cell_type": "markdown",
   "metadata": {},
   "source": [
    "## VARIÁVEIS CATEGÓRICAS"
   ]
  },
  {
   "cell_type": "code",
   "execution_count": null,
   "metadata": {},
   "outputs": [],
   "source": [
    "cat_vars = df.select_dtypes(include=['category']).columns.to_list()\n",
    "cat_vars"
   ]
  },
  {
   "cell_type": "code",
   "execution_count": null,
   "metadata": {},
   "outputs": [],
   "source": [
    "df.describe(include='category')"
   ]
  },
  {
   "cell_type": "code",
   "execution_count": null,
   "metadata": {},
   "outputs": [],
   "source": [
    "for cat in cat_vars:\n",
    "    print(cat, sorted(df[cat].unique().to_list()))"
   ]
  },
  {
   "cell_type": "markdown",
   "metadata": {},
   "source": [
    "x - Distribuição dos valores mensais (boxplot)"
   ]
  },
  {
   "cell_type": "code",
   "execution_count": null,
   "metadata": {},
   "outputs": [],
   "source": [
    "df_temp = df_e.copy()\n",
    "df_temp = df_temp.resample('m').sum()\n",
    "\n",
    "fig = px.box(data_frame=df_temp, x=['TOTAL LIQUIDO'], points='all', hover_name=df_temp.index)\n",
    "fig.update_traces(hovertemplate=None)\n",
    "fig.update_layout(hovermode='y', xaxis_tickformat=',.2f')\n",
    "fig.show()"
   ]
  },
  {
   "cell_type": "markdown",
   "metadata": {},
   "source": [
    "x - Valor total dos repasses por ano"
   ]
  },
  {
   "cell_type": "code",
   "execution_count": null,
   "metadata": {},
   "outputs": [],
   "source": [
    "df_temp = df_e.copy()\n",
    "df_temp = df_temp.resample(rule='y').sum(numeric_only=True)\n",
    "\n",
    "fig = px.line(data_frame=df_temp,  y='TOTAL LIQUIDO', x=df_temp.index.year, title='Total de repasses efetuados aos estados por ano de 2007 a 09-2023', markers='.')\n",
    "fig.update_traces(hovertemplate=None)\n",
    "fig.update_layout(hovermode='x unified', yaxis_tickformat=',.2s')\n",
    "fig.show()"
   ]
  },
  {
   "cell_type": "markdown",
   "metadata": {},
   "source": [
    "x - Valor total dos repasses por mês (tendência, velocidade e aceleração)"
   ]
  },
  {
   "cell_type": "code",
   "execution_count": null,
   "metadata": {},
   "outputs": [],
   "source": [
    "df_temp = df_e.copy()\n",
    "filtro = df_temp.UF == 'AP'\n",
    "df_temp = df_temp[filtro].resample(rule='M').sum(numeric_only=True)\n",
    "df_temp['MEDIA MOVEL'] = df_temp['TOTAL LIQUIDO'].rolling(window=12).mean()\n",
    "\n",
    "fig = px.line(data_frame=df_temp,  y=['TOTAL LIQUIDO', 'MEDIA MOVEL'], x=df_temp.index, title='Total de repasses efetuados aos estados por mês de 01-2007 a 09-2023')\n",
    "fig.update_traces(hovertemplate=None)\n",
    "fig.update_layout(hovermode='x unified', yaxis_tickformat=',.2f')\n",
    "fig.show()"
   ]
  },
  {
   "cell_type": "markdown",
   "metadata": {},
   "source": [
    "x - Estacionariedade e ruido"
   ]
  },
  {
   "cell_type": "code",
   "execution_count": null,
   "metadata": {},
   "outputs": [],
   "source": [
    "df_temp = df_e.copy()\n",
    "df_temp = df_temp.resample(rule='m').sum(numeric_only=True)\n",
    "df_temp['DIFERENCIAÇÃO'] = df_temp['TOTAL LIQUIDO'].diff(1)\n",
    "\n",
    "fig = px.bar(data_frame=df_temp, x=df_temp.index, y=['DIFERENCIAÇÃO'])\n",
    "fig.update_traces(hovertemplate=None)\n",
    "fig.update_layout(hovermode='x unified', yaxis_tickformat=',.2f')\n",
    "fig.show()"
   ]
  },
  {
   "cell_type": "markdown",
   "metadata": {},
   "source": [
    "x - Sazonalidade"
   ]
  },
  {
   "cell_type": "code",
   "execution_count": null,
   "metadata": {},
   "outputs": [],
   "source": [
    "df_temp = df_e.copy()\n",
    "df_temp = df_temp.resample(rule='m').sum(numeric_only=True)\n",
    "df_temp['MEDIA MOVEL'] = df_temp['TOTAL LIQUIDO'].rolling(window=7).mean()\n",
    "df_temp['SAZONALIDADE'] = df_temp['TOTAL LIQUIDO'].diff(1)\n",
    "df_temp = df_temp['SAZONALIDADE'].groupby(df_temp.index.month).mean()\n",
    "\n",
    "fig = px.bar(data_frame=df_temp, x=df_temp.index, y=['SAZONALIDADE'])\n",
    "fig.update_traces(hovertemplate=None)\n",
    "fig.update_layout(hovermode='x unified', yaxis_tickformat=',.2f')\n",
    "fig.show()"
   ]
  },
  {
   "cell_type": "markdown",
   "metadata": {},
   "source": [
    "x - Média anual dos repasses por estados"
   ]
  },
  {
   "cell_type": "code",
   "execution_count": null,
   "metadata": {},
   "outputs": [],
   "source": [
    "df_temp = df_e.copy()\n",
    "df_temp = df_temp.groupby('UF').resample(rule='Y').sum(numeric_only=True).reset_index(level=0)\n",
    "df_temp = df_temp.groupby('UF').mean().sort_values(by='TOTAL LIQUIDO')\n",
    "\n",
    "fig = px.bar(data_frame=df_temp,  x='TOTAL LIQUIDO', y=df_temp.index, title='Média do total de repasses recebidos por ano para cada estado de 2007 a 10-2023')\n",
    "fig.update_traces(hovertemplate=None)\n",
    "fig.update_layout(hovermode='y unified', xaxis_tickformat=',.2f')\n",
    "fig.show()"
   ]
  },
  {
   "cell_type": "markdown",
   "metadata": {},
   "source": [
    "x - Média anual dos repasses por fonte"
   ]
  },
  {
   "cell_type": "code",
   "execution_count": null,
   "metadata": {},
   "outputs": [],
   "source": [
    "df_temp = df_e.copy()\n",
    "df_temp = df_temp.groupby('REPASSE').resample(rule='Y').sum(numeric_only=True).reset_index(level=0)\n",
    "df_temp = df_temp.groupby('REPASSE').mean().sort_values(by='TOTAL LIQUIDO')\n",
    "\n",
    "\n",
    "fig = px.pie(data_frame=df_temp,  names=df_temp.index, values='TOTAL LIQUIDO', opacity=0.8, hole=0.5, title='Média do total de repasses recebidos por ano para cada fonte de 2007 a 09-2023')\n",
    "fig.update_traces(hovertemplate=None)\n",
    "fig.update_layout(hovermode='y unified', xaxis_tickformat=',.2f')\n",
    "fig.show()"
   ]
  },
  {
   "cell_type": "markdown",
   "metadata": {},
   "source": [
    "## QUADRO DO PERÍODO ATUAL\n"
   ]
  },
  {
   "cell_type": "markdown",
   "metadata": {},
   "source": [
    "x - Total de repasses por mês de 2023"
   ]
  },
  {
   "cell_type": "code",
   "execution_count": null,
   "metadata": {},
   "outputs": [],
   "source": [
    "df_temp = df_e.copy()\n",
    "filter = (df_temp.index.year >= 2023) & (df_temp.index.month <= 10)\n",
    "df_temp = df_temp[filter].resample(rule='MS').sum(numeric_only=True)\n",
    "display(df_temp.head())\n",
    "\n",
    "fig = px.line(data_frame=df_temp, x=df_temp.index, y='TOTAL LIQUIDO')\n",
    "fig.update_traces(hovertemplate=None)\n",
    "fig.update_layout(hovermode='y unified', yaxis_tickformat=',.2f')\n",
    "fig.show()"
   ]
  },
  {
   "cell_type": "code",
   "execution_count": null,
   "metadata": {},
   "outputs": [],
   "source": [
    "df_temp = df_e.copy()\n",
    "filter = (df_temp.UF == 'AP') & (df_temp.index.year >= 2023) & (df_temp.index.month <= 10)\n",
    "df_temp = df_temp[filter].resample(rule='MS').sum(numeric_only=True)\n",
    "df_temp['SOMA CUMULATIVA'] = df_temp['TOTAL LIQUIDO'].cumsum()\n",
    "df_temp.head()\n",
    "\n",
    "fig = px.bar(data_frame=df_temp,  y=['SOMA CUMULATIVA'], x=df_temp.index, title='Total de repasses efetuados aos estados por mês de 01-2007 a 10-2023')\n",
    "fig.update_traces(hovertemplate=None)\n",
    "fig.update_layout(hovermode='x unified', yaxis_tickformat=',.2f')\n",
    "fig.show()"
   ]
  },
  {
   "cell_type": "markdown",
   "metadata": {},
   "source": [
    "x - Ranking dos estados com maior valor total de repasses no período"
   ]
  },
  {
   "cell_type": "code",
   "execution_count": null,
   "metadata": {},
   "outputs": [],
   "source": [
    "df_temp = df.copy().set_index(keys='COMPETÊNCIA')\n",
    "df_temp = df_temp.loc[(df_temp.index.year >= 2023) & (df_temp.index.month <= 10)]\n",
    "df_temp = df_temp[df_temp.ESFERA =='Estadual']\n",
    "df_temp = df_temp.groupby('UF').resample(rule='Y').sum(numeric_only=True).reset_index(level=0).sort_values(by='TOTAL LIQUIDO')\n",
    "display(df_temp.head())\n",
    "\n",
    "fig = px.bar(data_frame=df_temp, y='UF', x='TOTAL LIQUIDO')\n",
    "fig.update_traces(hovertemplate=None)\n",
    "fig.update_layout(hovermode='x unified', yaxis_tickformat=',.2f')\n",
    "fig.show()"
   ]
  },
  {
   "cell_type": "markdown",
   "metadata": {},
   "source": [
    "x - Ranking do valor total de repasses por fonte"
   ]
  },
  {
   "cell_type": "code",
   "execution_count": null,
   "metadata": {},
   "outputs": [],
   "source": [
    "df_temp = df_e.copy()\n",
    "filter = (df_temp.index.year == 2023) & (df_temp.index.month <= 10)\n",
    "df_temp = df_temp[filter].groupby('REPASSE').sum(numeric_only=True).loc[['COUN_VAAF', 'COUN_VAAR', 'COUN_VAAT', 'FPE', 'FPM', 'ICMS', 'IPI', 'IPVA', 'ITCMD', 'ITR'], :].sort_values(by='TOTAL LIQUIDO', ascending=False)\n",
    "\n",
    "fig = px.bar(data_frame=df_temp, x=df_temp.index.get_level_values(0), y='TOTAL LIQUIDO')\n",
    "fig.update_traces(hovertemplate=None)\n",
    "fig.update_layout(hovermode='x unified', yaxis_tickformat=',.2f')\n",
    "fig.show()"
   ]
  }
 ],
 "metadata": {
  "kernelspec": {
   "display_name": "base",
   "language": "python",
   "name": "python3"
  },
  "language_info": {
   "codemirror_mode": {
    "name": "ipython",
    "version": 3
   },
   "file_extension": ".py",
   "mimetype": "text/x-python",
   "name": "python",
   "nbconvert_exporter": "python",
   "pygments_lexer": "ipython3",
   "version": "3.11.8"
  }
 },
 "nbformat": 4,
 "nbformat_minor": 2
}
