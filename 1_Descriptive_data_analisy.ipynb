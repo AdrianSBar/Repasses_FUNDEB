{
 "cells": [
  {
   "cell_type": "markdown",
   "metadata": {},
   "source": [
    "# **IMPORTS/COMFIGIRAÇÕES**"
   ]
  },
  {
   "cell_type": "code",
   "execution_count": 1,
   "metadata": {
    "notebookRunGroups": {
     "groupValue": "1"
    }
   },
   "outputs": [],
   "source": [
    "# Bibliotecas de manipulação\n",
    "import numpy as np  # Manipulação de matrizes\n",
    "import pandas as pd  # Manipulação de dados tabulares\n",
    "# Bibliotecas de visualização gráfica\n",
    "import matplotlib.pyplot as plt\n",
    "import seaborn as sns\n",
    "import plotly.express as px\n",
    "# Bibliotecas próprias\n",
    "from PROJECT_LIBRARY.Data_extraction import *  # Biblioteca própria para extração dos dados\n",
    "from PROJECT_LIBRARY.Data_transformation import *  # Biblioteca própria para transformação dos dados\n",
    "# Biblioteca de filtro de notificações\n",
    "import warnings\n",
    "\n",
    "\n",
    "\n",
    "warnings.filterwarnings(action='ignore')\n",
    "pd.options.display.max_columns = None\n",
    "pd.options.display.max_colwidth = None\n",
    "pd.options.display.float_format = lambda x: f'{x:,.2f}'"
   ]
  },
  {
   "cell_type": "code",
   "execution_count": 2,
   "metadata": {},
   "outputs": [],
   "source": [
    "upgrade_data(fold='./RAW_DATAS')"
   ]
  },
  {
   "cell_type": "markdown",
   "metadata": {},
   "source": [
    "# **ANÁLISE DESCRITIVA**"
   ]
  },
  {
   "cell_type": "code",
   "execution_count": 3,
   "metadata": {
    "notebookRunGroups": {
     "groupValue": "1"
    }
   },
   "outputs": [
    {
     "data": {
      "text/html": [
       "<div>\n",
       "<style scoped>\n",
       "    .dataframe tbody tr th:only-of-type {\n",
       "        vertical-align: middle;\n",
       "    }\n",
       "\n",
       "    .dataframe tbody tr th {\n",
       "        vertical-align: top;\n",
       "    }\n",
       "\n",
       "    .dataframe thead th {\n",
       "        text-align: right;\n",
       "    }\n",
       "</style>\n",
       "<table border=\"1\" class=\"dataframe\">\n",
       "  <thead>\n",
       "    <tr style=\"text-align: right;\">\n",
       "      <th></th>\n",
       "      <th>COMPETÊNCIA</th>\n",
       "      <th>ESFERA</th>\n",
       "      <th>UF</th>\n",
       "      <th>AJUSTES</th>\n",
       "      <th>EC123</th>\n",
       "      <th>COUN</th>\n",
       "      <th>VAAF</th>\n",
       "      <th>VAAR</th>\n",
       "      <th>VAAT</th>\n",
       "      <th>FPE</th>\n",
       "      <th>FPM</th>\n",
       "      <th>ICMS</th>\n",
       "      <th>IPI</th>\n",
       "      <th>IPVA</th>\n",
       "      <th>ITCMD</th>\n",
       "      <th>ITR</th>\n",
       "      <th>LC8796</th>\n",
       "      <th>Ajuste</th>\n",
       "      <th>TOTAL</th>\n",
       "    </tr>\n",
       "  </thead>\n",
       "  <tbody>\n",
       "    <tr>\n",
       "      <th>0</th>\n",
       "      <td>2007-01-01</td>\n",
       "      <td>ESTADUAL</td>\n",
       "      <td>AC</td>\n",
       "      <td>False</td>\n",
       "      <td>0.00</td>\n",
       "      <td>0.00</td>\n",
       "      <td>0.00</td>\n",
       "      <td>0.00</td>\n",
       "      <td>0.00</td>\n",
       "      <td>9,679,990.36</td>\n",
       "      <td>1,582,026.94</td>\n",
       "      <td>3,147,424.17</td>\n",
       "      <td>3,548.46</td>\n",
       "      <td>0.00</td>\n",
       "      <td>0.00</td>\n",
       "      <td>0.00</td>\n",
       "      <td>0.00</td>\n",
       "      <td>0.00</td>\n",
       "      <td>14,412,989.93</td>\n",
       "    </tr>\n",
       "    <tr>\n",
       "      <th>1</th>\n",
       "      <td>2007-01-01</td>\n",
       "      <td>ESTADUAL</td>\n",
       "      <td>AC</td>\n",
       "      <td>True</td>\n",
       "      <td>0.00</td>\n",
       "      <td>0.00</td>\n",
       "      <td>0.00</td>\n",
       "      <td>0.00</td>\n",
       "      <td>0.00</td>\n",
       "      <td>0.00</td>\n",
       "      <td>0.00</td>\n",
       "      <td>0.00</td>\n",
       "      <td>0.00</td>\n",
       "      <td>0.00</td>\n",
       "      <td>0.00</td>\n",
       "      <td>0.00</td>\n",
       "      <td>0.00</td>\n",
       "      <td>0.00</td>\n",
       "      <td>0.00</td>\n",
       "    </tr>\n",
       "    <tr>\n",
       "      <th>2</th>\n",
       "      <td>2007-01-01</td>\n",
       "      <td>ESTADUAL</td>\n",
       "      <td>AL</td>\n",
       "      <td>False</td>\n",
       "      <td>0.00</td>\n",
       "      <td>0.00</td>\n",
       "      <td>0.00</td>\n",
       "      <td>0.00</td>\n",
       "      <td>0.00</td>\n",
       "      <td>4,649,019.37</td>\n",
       "      <td>2,800,656.42</td>\n",
       "      <td>2,781,356.76</td>\n",
       "      <td>25,488.94</td>\n",
       "      <td>0.00</td>\n",
       "      <td>0.00</td>\n",
       "      <td>0.00</td>\n",
       "      <td>0.00</td>\n",
       "      <td>0.00</td>\n",
       "      <td>10,256,521.49</td>\n",
       "    </tr>\n",
       "    <tr>\n",
       "      <th>3</th>\n",
       "      <td>2007-01-01</td>\n",
       "      <td>ESTADUAL</td>\n",
       "      <td>AL</td>\n",
       "      <td>True</td>\n",
       "      <td>0.00</td>\n",
       "      <td>0.00</td>\n",
       "      <td>0.00</td>\n",
       "      <td>0.00</td>\n",
       "      <td>0.00</td>\n",
       "      <td>0.00</td>\n",
       "      <td>0.00</td>\n",
       "      <td>0.00</td>\n",
       "      <td>0.00</td>\n",
       "      <td>0.00</td>\n",
       "      <td>0.00</td>\n",
       "      <td>0.00</td>\n",
       "      <td>0.00</td>\n",
       "      <td>0.00</td>\n",
       "      <td>0.00</td>\n",
       "    </tr>\n",
       "    <tr>\n",
       "      <th>4</th>\n",
       "      <td>2007-01-01</td>\n",
       "      <td>ESTADUAL</td>\n",
       "      <td>AM</td>\n",
       "      <td>False</td>\n",
       "      <td>0.00</td>\n",
       "      <td>0.00</td>\n",
       "      <td>0.00</td>\n",
       "      <td>0.00</td>\n",
       "      <td>0.00</td>\n",
       "      <td>5,436,974.54</td>\n",
       "      <td>2,819,795.95</td>\n",
       "      <td>19,285,518.14</td>\n",
       "      <td>401,249.83</td>\n",
       "      <td>0.00</td>\n",
       "      <td>0.00</td>\n",
       "      <td>0.00</td>\n",
       "      <td>0.00</td>\n",
       "      <td>0.00</td>\n",
       "      <td>27,943,538.46</td>\n",
       "    </tr>\n",
       "  </tbody>\n",
       "</table>\n",
       "</div>"
      ],
      "text/plain": [
       "  COMPETÊNCIA    ESFERA  UF  AJUSTES  EC123  COUN  VAAF  VAAR  VAAT  \\\n",
       "0  2007-01-01  ESTADUAL  AC    False   0.00  0.00  0.00  0.00  0.00   \n",
       "1  2007-01-01  ESTADUAL  AC     True   0.00  0.00  0.00  0.00  0.00   \n",
       "2  2007-01-01  ESTADUAL  AL    False   0.00  0.00  0.00  0.00  0.00   \n",
       "3  2007-01-01  ESTADUAL  AL     True   0.00  0.00  0.00  0.00  0.00   \n",
       "4  2007-01-01  ESTADUAL  AM    False   0.00  0.00  0.00  0.00  0.00   \n",
       "\n",
       "           FPE          FPM          ICMS        IPI  IPVA  ITCMD  ITR  \\\n",
       "0 9,679,990.36 1,582,026.94  3,147,424.17   3,548.46  0.00   0.00 0.00   \n",
       "1         0.00         0.00          0.00       0.00  0.00   0.00 0.00   \n",
       "2 4,649,019.37 2,800,656.42  2,781,356.76  25,488.94  0.00   0.00 0.00   \n",
       "3         0.00         0.00          0.00       0.00  0.00   0.00 0.00   \n",
       "4 5,436,974.54 2,819,795.95 19,285,518.14 401,249.83  0.00   0.00 0.00   \n",
       "\n",
       "   LC8796  Ajuste         TOTAL  \n",
       "0    0.00    0.00 14,412,989.93  \n",
       "1    0.00    0.00          0.00  \n",
       "2    0.00    0.00 10,256,521.49  \n",
       "3    0.00    0.00          0.00  \n",
       "4    0.00    0.00 27,943,538.46  "
      ]
     },
     "execution_count": 3,
     "metadata": {},
     "output_type": "execute_result"
    }
   ],
   "source": [
    "df = pd.read_parquet('./DATASETS/finally_data.parquet')\n",
    "df.head(5)"
   ]
  },
  {
   "cell_type": "code",
   "execution_count": 4,
   "metadata": {},
   "outputs": [
    {
     "name": "stdout",
     "output_type": "stream",
     "text": [
      "<class 'pandas.core.frame.DataFrame'>\n",
      "RangeIndex: 23328 entries, 0 to 23327\n",
      "Data columns (total 19 columns):\n",
      " #   Column       Non-Null Count  Dtype         \n",
      "---  ------       --------------  -----         \n",
      " 0   COMPETÊNCIA  23328 non-null  datetime64[ns]\n",
      " 1   ESFERA       23328 non-null  object        \n",
      " 2   UF           23328 non-null  object        \n",
      " 3   AJUSTES      23328 non-null  bool          \n",
      " 4   EC123        23328 non-null  float64       \n",
      " 5   COUN         23328 non-null  float64       \n",
      " 6   VAAF         23328 non-null  float64       \n",
      " 7   VAAR         23328 non-null  float64       \n",
      " 8   VAAT         23328 non-null  float64       \n",
      " 9   FPE          23328 non-null  float64       \n",
      " 10  FPM          23328 non-null  float64       \n",
      " 11  ICMS         23328 non-null  float64       \n",
      " 12  IPI          23328 non-null  float64       \n",
      " 13  IPVA         23328 non-null  float64       \n",
      " 14  ITCMD        23328 non-null  float64       \n",
      " 15  ITR          23328 non-null  float64       \n",
      " 16  LC8796       23328 non-null  float64       \n",
      " 17  Ajuste       23328 non-null  float64       \n",
      " 18  TOTAL        23328 non-null  float64       \n",
      "dtypes: bool(1), datetime64[ns](1), float64(15), object(2)\n",
      "memory usage: 3.2+ MB\n"
     ]
    }
   ],
   "source": [
    "df.info()"
   ]
  },
  {
   "cell_type": "code",
   "execution_count": 5,
   "metadata": {},
   "outputs": [
    {
     "data": {
      "text/plain": [
       "Index             132\n",
       "COMPETÊNCIA    186624\n",
       "ESFERA         186624\n",
       "UF             186624\n",
       "AJUSTES         23328\n",
       "EC123          186624\n",
       "COUN           186624\n",
       "VAAF           186624\n",
       "VAAR           186624\n",
       "VAAT           186624\n",
       "FPE            186624\n",
       "FPM            186624\n",
       "ICMS           186624\n",
       "IPI            186624\n",
       "IPVA           186624\n",
       "ITCMD          186624\n",
       "ITR            186624\n",
       "LC8796         186624\n",
       "Ajuste         186624\n",
       "TOTAL          186624\n",
       "dtype: int64"
      ]
     },
     "execution_count": 5,
     "metadata": {},
     "output_type": "execute_result"
    }
   ],
   "source": [
    "df.memory_usage()"
   ]
  },
  {
   "cell_type": "markdown",
   "metadata": {},
   "source": [
    "## VARIÁVEIS NUMÉRICAS"
   ]
  },
  {
   "cell_type": "code",
   "execution_count": 6,
   "metadata": {},
   "outputs": [
    {
     "data": {
      "text/plain": [
       "['EC123',\n",
       " 'COUN',\n",
       " 'VAAF',\n",
       " 'VAAR',\n",
       " 'VAAT',\n",
       " 'FPE',\n",
       " 'FPM',\n",
       " 'ICMS',\n",
       " 'IPI',\n",
       " 'IPVA',\n",
       " 'ITCMD',\n",
       " 'ITR',\n",
       " 'LC8796',\n",
       " 'Ajuste',\n",
       " 'TOTAL']"
      ]
     },
     "execution_count": 6,
     "metadata": {},
     "output_type": "execute_result"
    }
   ],
   "source": [
    "numeric_columns = df.select_dtypes(include=['int', 'float']).columns.tolist()\n",
    "numeric_columns"
   ]
  },
  {
   "cell_type": "markdown",
   "metadata": {},
   "source": [
    "### Tratamentos"
   ]
  },
  {
   "cell_type": "code",
   "execution_count": 7,
   "metadata": {},
   "outputs": [
    {
     "data": {
      "text/html": [
       "<div>\n",
       "<style scoped>\n",
       "    .dataframe tbody tr th:only-of-type {\n",
       "        vertical-align: middle;\n",
       "    }\n",
       "\n",
       "    .dataframe tbody tr th {\n",
       "        vertical-align: top;\n",
       "    }\n",
       "\n",
       "    .dataframe thead th {\n",
       "        text-align: right;\n",
       "    }\n",
       "</style>\n",
       "<table border=\"1\" class=\"dataframe\">\n",
       "  <thead>\n",
       "    <tr style=\"text-align: right;\">\n",
       "      <th></th>\n",
       "      <th>COMPETÊNCIA</th>\n",
       "      <th>EC123</th>\n",
       "      <th>COUN</th>\n",
       "      <th>VAAF</th>\n",
       "      <th>VAAR</th>\n",
       "      <th>VAAT</th>\n",
       "      <th>FPE</th>\n",
       "      <th>FPM</th>\n",
       "      <th>ICMS</th>\n",
       "      <th>IPI</th>\n",
       "      <th>IPVA</th>\n",
       "      <th>ITCMD</th>\n",
       "      <th>ITR</th>\n",
       "      <th>LC8796</th>\n",
       "      <th>Ajuste</th>\n",
       "      <th>TOTAL</th>\n",
       "    </tr>\n",
       "  </thead>\n",
       "  <tbody>\n",
       "    <tr>\n",
       "      <th>count</th>\n",
       "      <td>23328</td>\n",
       "      <td>23,328.00</td>\n",
       "      <td>23,328.00</td>\n",
       "      <td>23,328.00</td>\n",
       "      <td>23,328.00</td>\n",
       "      <td>23,328.00</td>\n",
       "      <td>23,328.00</td>\n",
       "      <td>23,328.00</td>\n",
       "      <td>23,328.00</td>\n",
       "      <td>23,328.00</td>\n",
       "      <td>23,328.00</td>\n",
       "      <td>23,328.00</td>\n",
       "      <td>23,328.00</td>\n",
       "      <td>23,328.00</td>\n",
       "      <td>23,328.00</td>\n",
       "      <td>23,328.00</td>\n",
       "    </tr>\n",
       "    <tr>\n",
       "      <th>mean</th>\n",
       "      <td>2015-12-16 10:53:20</td>\n",
       "      <td>31,016.32</td>\n",
       "      <td>6,001,053.60</td>\n",
       "      <td>3,266,391.37</td>\n",
       "      <td>81,406.09</td>\n",
       "      <td>1,327,423.78</td>\n",
       "      <td>12,146,402.49</td>\n",
       "      <td>12,712,030.13</td>\n",
       "      <td>60,493,523.12</td>\n",
       "      <td>689,356.84</td>\n",
       "      <td>5,620,068.28</td>\n",
       "      <td>965,207.82</td>\n",
       "      <td>159,377.03</td>\n",
       "      <td>196,086.33</td>\n",
       "      <td>8,558.91</td>\n",
       "      <td>103,697,902.16</td>\n",
       "    </tr>\n",
       "    <tr>\n",
       "      <th>min</th>\n",
       "      <td>2007-01-01 00:00:00</td>\n",
       "      <td>0.00</td>\n",
       "      <td>-213,329,018.65</td>\n",
       "      <td>-177,096,290.90</td>\n",
       "      <td>0.00</td>\n",
       "      <td>-4,017,062.82</td>\n",
       "      <td>-13,294,613.27</td>\n",
       "      <td>-13,760,903.53</td>\n",
       "      <td>-33,113,879.07</td>\n",
       "      <td>-941,954.25</td>\n",
       "      <td>-11,514,016.68</td>\n",
       "      <td>-692,836.03</td>\n",
       "      <td>-10,531.09</td>\n",
       "      <td>0.00</td>\n",
       "      <td>0.00</td>\n",
       "      <td>-213,329,016.65</td>\n",
       "    </tr>\n",
       "    <tr>\n",
       "      <th>25%</th>\n",
       "      <td>2011-06-23 12:00:00</td>\n",
       "      <td>0.00</td>\n",
       "      <td>0.00</td>\n",
       "      <td>0.00</td>\n",
       "      <td>0.00</td>\n",
       "      <td>0.00</td>\n",
       "      <td>0.00</td>\n",
       "      <td>0.00</td>\n",
       "      <td>0.00</td>\n",
       "      <td>0.00</td>\n",
       "      <td>0.00</td>\n",
       "      <td>0.00</td>\n",
       "      <td>0.00</td>\n",
       "      <td>0.00</td>\n",
       "      <td>0.00</td>\n",
       "      <td>0.00</td>\n",
       "    </tr>\n",
       "    <tr>\n",
       "      <th>50%</th>\n",
       "      <td>2015-12-16 12:00:00</td>\n",
       "      <td>0.00</td>\n",
       "      <td>0.00</td>\n",
       "      <td>0.00</td>\n",
       "      <td>0.00</td>\n",
       "      <td>0.00</td>\n",
       "      <td>0.00</td>\n",
       "      <td>0.00</td>\n",
       "      <td>0.00</td>\n",
       "      <td>0.00</td>\n",
       "      <td>0.00</td>\n",
       "      <td>0.00</td>\n",
       "      <td>0.00</td>\n",
       "      <td>0.00</td>\n",
       "      <td>0.00</td>\n",
       "      <td>0.00</td>\n",
       "    </tr>\n",
       "    <tr>\n",
       "      <th>75%</th>\n",
       "      <td>2020-06-08 12:00:00</td>\n",
       "      <td>0.00</td>\n",
       "      <td>0.00</td>\n",
       "      <td>0.00</td>\n",
       "      <td>0.00</td>\n",
       "      <td>0.00</td>\n",
       "      <td>17,842,769.34</td>\n",
       "      <td>14,268,187.63</td>\n",
       "      <td>49,019,153.71</td>\n",
       "      <td>242,308.96</td>\n",
       "      <td>2,263,079.41</td>\n",
       "      <td>200,159.91</td>\n",
       "      <td>13,204.30</td>\n",
       "      <td>33,913.98</td>\n",
       "      <td>0.00</td>\n",
       "      <td>107,759,618.44</td>\n",
       "    </tr>\n",
       "    <tr>\n",
       "      <th>max</th>\n",
       "      <td>2024-12-01 00:00:00</td>\n",
       "      <td>121,893,595.92</td>\n",
       "      <td>777,405,463.20</td>\n",
       "      <td>891,910,015.10</td>\n",
       "      <td>41,131,672.03</td>\n",
       "      <td>590,990,738.15</td>\n",
       "      <td>250,779,967.56</td>\n",
       "      <td>283,833,187.85</td>\n",
       "      <td>2,431,147,109.50</td>\n",
       "      <td>19,202,111.15</td>\n",
       "      <td>1,177,690,607.31</td>\n",
       "      <td>89,383,539.05</td>\n",
       "      <td>31,457,569.15</td>\n",
       "      <td>29,611,036.12</td>\n",
       "      <td>54,682,223.94</td>\n",
       "      <td>3,676,716,953.17</td>\n",
       "    </tr>\n",
       "    <tr>\n",
       "      <th>std</th>\n",
       "      <td>NaN</td>\n",
       "      <td>1,246,477.76</td>\n",
       "      <td>29,681,929.72</td>\n",
       "      <td>27,838,746.60</td>\n",
       "      <td>852,352.81</td>\n",
       "      <td>13,967,617.85</td>\n",
       "      <td>20,783,454.07</td>\n",
       "      <td>25,786,745.32</td>\n",
       "      <td>169,252,987.60</td>\n",
       "      <td>1,778,401.11</td>\n",
       "      <td>30,591,818.93</td>\n",
       "      <td>3,856,000.92</td>\n",
       "      <td>1,116,402.39</td>\n",
       "      <td>777,197.01</td>\n",
       "      <td>507,036.42</td>\n",
       "      <td>236,910,468.87</td>\n",
       "    </tr>\n",
       "  </tbody>\n",
       "</table>\n",
       "</div>"
      ],
      "text/plain": [
       "               COMPETÊNCIA          EC123            COUN            VAAF  \\\n",
       "count                23328      23,328.00       23,328.00       23,328.00   \n",
       "mean   2015-12-16 10:53:20      31,016.32    6,001,053.60    3,266,391.37   \n",
       "min    2007-01-01 00:00:00           0.00 -213,329,018.65 -177,096,290.90   \n",
       "25%    2011-06-23 12:00:00           0.00            0.00            0.00   \n",
       "50%    2015-12-16 12:00:00           0.00            0.00            0.00   \n",
       "75%    2020-06-08 12:00:00           0.00            0.00            0.00   \n",
       "max    2024-12-01 00:00:00 121,893,595.92  777,405,463.20  891,910,015.10   \n",
       "std                    NaN   1,246,477.76   29,681,929.72   27,838,746.60   \n",
       "\n",
       "               VAAR           VAAT            FPE            FPM  \\\n",
       "count     23,328.00      23,328.00      23,328.00      23,328.00   \n",
       "mean      81,406.09   1,327,423.78  12,146,402.49  12,712,030.13   \n",
       "min            0.00  -4,017,062.82 -13,294,613.27 -13,760,903.53   \n",
       "25%            0.00           0.00           0.00           0.00   \n",
       "50%            0.00           0.00           0.00           0.00   \n",
       "75%            0.00           0.00  17,842,769.34  14,268,187.63   \n",
       "max   41,131,672.03 590,990,738.15 250,779,967.56 283,833,187.85   \n",
       "std      852,352.81  13,967,617.85  20,783,454.07  25,786,745.32   \n",
       "\n",
       "                  ICMS           IPI             IPVA         ITCMD  \\\n",
       "count        23,328.00     23,328.00        23,328.00     23,328.00   \n",
       "mean     60,493,523.12    689,356.84     5,620,068.28    965,207.82   \n",
       "min     -33,113,879.07   -941,954.25   -11,514,016.68   -692,836.03   \n",
       "25%               0.00          0.00             0.00          0.00   \n",
       "50%               0.00          0.00             0.00          0.00   \n",
       "75%      49,019,153.71    242,308.96     2,263,079.41    200,159.91   \n",
       "max   2,431,147,109.50 19,202,111.15 1,177,690,607.31 89,383,539.05   \n",
       "std     169,252,987.60  1,778,401.11    30,591,818.93  3,856,000.92   \n",
       "\n",
       "                ITR        LC8796        Ajuste            TOTAL  \n",
       "count     23,328.00     23,328.00     23,328.00        23,328.00  \n",
       "mean     159,377.03    196,086.33      8,558.91   103,697,902.16  \n",
       "min      -10,531.09          0.00          0.00  -213,329,016.65  \n",
       "25%            0.00          0.00          0.00             0.00  \n",
       "50%            0.00          0.00          0.00             0.00  \n",
       "75%       13,204.30     33,913.98          0.00   107,759,618.44  \n",
       "max   31,457,569.15 29,611,036.12 54,682,223.94 3,676,716,953.17  \n",
       "std    1,116,402.39    777,197.01    507,036.42   236,910,468.87  "
      ]
     },
     "execution_count": 7,
     "metadata": {},
     "output_type": "execute_result"
    }
   ],
   "source": [
    "df.describe()"
   ]
  },
  {
   "cell_type": "code",
   "execution_count": null,
   "metadata": {},
   "outputs": [],
   "source": [
    "# Tratamento de constantes \n",
    "cons = df.nunique()\n",
    "cons.loc[cons.values==1].index.to_list()\n",
    "# - (Não foram identificadas constantes entre os dados)\n",
    "\n",
    "# Tratamento de duplicados\n",
    "df.loc[df.duplicated()]\n",
    "# - (Não foram identificadas registros duplicados entre os dados)\n",
    "\n",
    "# Tratamento de valores ausentes\n",
    "df.loc[df.isnull().any(axis=1)]\n",
    "# - (Não foram identificadas registros ausentes entre os dados)\n",
    "\n",
    "# Tratamento de valores inconsistentes ou sujos\n",
    "# - Foram identificados valores negativos que representam ajustes e não se tratam de irregulares \n",
    "# df.loc[(df['TOTAL LIQUIDO'] < 0) & (df['CATEGORIA']!='Outros')]\n",
    "# df.loc[(df['ESFERA']=='Estadual') & (df['UF']=='PB') & (df['COMPETÊNCIA']>='2023-01-01') & (df['COMPETÊNCIA']<='2023-12-31')]['TOTAL AJUSTE'].sum()\n",
    "# - Não se sabe o motivo desses ajustes, entretanto, para os montantes corretos de 'total de ajuste' e 'total liquido', estes devem ser considerados negativos"
   ]
  },
  {
   "cell_type": "markdown",
   "metadata": {},
   "source": [
    "Observa-se que os dados estão inicialmente tratados, conforme exposto na análise exploratória, e se encontram agrupados pela sua fonte de recurso, período, esfera e uf."
   ]
  },
  {
   "cell_type": "markdown",
   "metadata": {},
   "source": [
    "### Distribuição"
   ]
  },
  {
   "cell_type": "code",
   "execution_count": 19,
   "metadata": {},
   "outputs": [
    {
     "data": {
      "image/png": "[encoded data removed]",
      "text/plain": [
       "<Figure size 640x480 with 1 Axes>"
      ]
     },
     "metadata": {},
     "output_type": "display_data"
    }
   ],
   "source": [
    "# Filtro\n",
    "data = df[(df['COMPETÊNCIA']<='2024-01-01')]\n",
    "\n",
    "# Criação do gráfico\n",
    "sns.lineplot(\n",
    "    data=data,\n",
    "    y='TOTAL',\n",
    "    x='COMPETÊNCIA',\n",
    "    hue='ESFERA'\n",
    ")\n",
    "\n",
    "# Ajustando título e rótulos dos eixos\n",
    "plt.title('Total de repasses ao longo do tempo')\n",
    "plt.ylabel('Valor (em milhões)')\n",
    "plt.xlabel('Período')\n",
    "\n",
    "# Formantando valor do eixo y\n",
    "plt.gca().set_yticklabels([f'{x:,.0f}' for x in plt.gca().get_xticks()])  # Formato para o eixo x\n",
    "\n",
    "plt.show()"
   ]
  },
  {
   "cell_type": "code",
   "execution_count": 24,
   "metadata": {},
   "outputs": [
    {
     "data": {
      "image/png": "[encoded data removed]",
      "text/plain": [
       "<Figure size 640x480 with 1 Axes>"
      ]
     },
     "metadata": {},
     "output_type": "display_data"
    }
   ],
   "source": [
    "# Filtro\n",
    "data = df.loc[df.TOTAL!=0]\n",
    "\n",
    "# Gráfico\n",
    "sns.histplot(\n",
    "    data=data,\n",
    "    x='TOTAL'\n",
    "    )\n",
    "\n",
    "# Configurações do gráfico\n",
    "plt.title('Histograma da variável Total')\n",
    "plt.ylabel('Quantidade')\n",
    "plt.xlabel('Valor mensal de repasse')\n",
    "# Plot\n",
    "plt.show()"
   ]
  },
  {
   "cell_type": "markdown",
   "metadata": {},
   "source": [
    "Visualmente podemos notar "
   ]
  },
  {
   "cell_type": "code",
   "execution_count": 26,
   "metadata": {},
   "outputs": [
    {
     "data": {
      "text/plain": [
       "<Axes: xlabel='TOTAL'>"
      ]
     },
     "execution_count": 26,
     "metadata": {},
     "output_type": "execute_result"
    },
    {
     "data": {
      "image/png": "[encoded data removed]",
      "text/plain": [
       "<Figure size 640x480 with 1 Axes>"
      ]
     },
     "metadata": {},
     "output_type": "display_data"
    }
   ],
   "source": [
    "sns.boxplot(\n",
    "    data=df[df['COMPETÊNCIA']<='2024-01-01'],\n",
    "    x='TOTAL'\n",
    ")"
   ]
  },
  {
   "cell_type": "markdown",
   "metadata": {},
   "source": [
    "## VARIÁVEIS CATEGÓRICAS"
   ]
  },
  {
   "cell_type": "code",
   "execution_count": null,
   "metadata": {},
   "outputs": [],
   "source": [
    "cat_vars = df.select_dtypes(include=['category']).columns.to_list()\n",
    "cat_vars"
   ]
  },
  {
   "cell_type": "code",
   "execution_count": null,
   "metadata": {},
   "outputs": [],
   "source": [
    "df.describe(include='category')"
   ]
  },
  {
   "cell_type": "code",
   "execution_count": null,
   "metadata": {},
   "outputs": [],
   "source": [
    "for cat in cat_vars:\n",
    "    print(cat, sorted(df[cat].unique().to_list()))"
   ]
  },
  {
   "cell_type": "markdown",
   "metadata": {},
   "source": [
    "x - Distribuição dos valores mensais (boxplot)"
   ]
  },
  {
   "cell_type": "code",
   "execution_count": null,
   "metadata": {},
   "outputs": [],
   "source": [
    "df_temp = df_e.copy()\n",
    "df_temp = df_temp.resample('m').sum()\n",
    "\n",
    "fig = px.box(data_frame=df_temp, x=['TOTAL LIQUIDO'], points='all', hover_name=df_temp.index)\n",
    "fig.update_traces(hovertemplate=None)\n",
    "fig.update_layout(hovermode='y', xaxis_tickformat=',.2f')\n",
    "fig.show()"
   ]
  },
  {
   "cell_type": "markdown",
   "metadata": {},
   "source": [
    "x - Valor total dos repasses por ano"
   ]
  },
  {
   "cell_type": "code",
   "execution_count": null,
   "metadata": {},
   "outputs": [],
   "source": [
    "df_temp = df_e.copy()\n",
    "df_temp = df_temp.resample(rule='y').sum(numeric_only=True)\n",
    "\n",
    "fig = px.line(data_frame=df_temp,  y='TOTAL LIQUIDO', x=df_temp.index.year, title='Total de repasses efetuados aos estados por ano de 2007 a 09-2023', markers='.')\n",
    "fig.update_traces(hovertemplate=None)\n",
    "fig.update_layout(hovermode='x unified', yaxis_tickformat=',.2s')\n",
    "fig.show()"
   ]
  },
  {
   "cell_type": "markdown",
   "metadata": {},
   "source": [
    "x - Valor total dos repasses por mês (tendência, velocidade e aceleração)"
   ]
  },
  {
   "cell_type": "code",
   "execution_count": null,
   "metadata": {},
   "outputs": [],
   "source": [
    "df_temp = df_e.copy()\n",
    "filtro = df_temp.UF == 'AP'\n",
    "df_temp = df_temp[filtro].resample(rule='M').sum(numeric_only=True)\n",
    "df_temp['MEDIA MOVEL'] = df_temp['TOTAL LIQUIDO'].rolling(window=12).mean()\n",
    "\n",
    "fig = px.line(data_frame=df_temp,  y=['TOTAL LIQUIDO', 'MEDIA MOVEL'], x=df_temp.index, title='Total de repasses efetuados aos estados por mês de 01-2007 a 09-2023')\n",
    "fig.update_traces(hovertemplate=None)\n",
    "fig.update_layout(hovermode='x unified', yaxis_tickformat=',.2f')\n",
    "fig.show()"
   ]
  },
  {
   "cell_type": "markdown",
   "metadata": {},
   "source": [
    "x - Estacionariedade e ruido"
   ]
  },
  {
   "cell_type": "code",
   "execution_count": null,
   "metadata": {},
   "outputs": [],
   "source": [
    "df_temp = df_e.copy()\n",
    "df_temp = df_temp.resample(rule='m').sum(numeric_only=True)\n",
    "df_temp['DIFERENCIAÇÃO'] = df_temp['TOTAL LIQUIDO'].diff(1)\n",
    "\n",
    "fig = px.bar(data_frame=df_temp, x=df_temp.index, y=['DIFERENCIAÇÃO'])\n",
    "fig.update_traces(hovertemplate=None)\n",
    "fig.update_layout(hovermode='x unified', yaxis_tickformat=',.2f')\n",
    "fig.show()"
   ]
  },
  {
   "cell_type": "markdown",
   "metadata": {},
   "source": [
    "x - Sazonalidade"
   ]
  },
  {
   "cell_type": "code",
   "execution_count": null,
   "metadata": {},
   "outputs": [],
   "source": [
    "df_temp = df_e.copy()\n",
    "df_temp = df_temp.resample(rule='m').sum(numeric_only=True)\n",
    "df_temp['MEDIA MOVEL'] = df_temp['TOTAL LIQUIDO'].rolling(window=7).mean()\n",
    "df_temp['SAZONALIDADE'] = df_temp['TOTAL LIQUIDO'].diff(1)\n",
    "df_temp = df_temp['SAZONALIDADE'].groupby(df_temp.index.month).mean()\n",
    "\n",
    "fig = px.bar(data_frame=df_temp, x=df_temp.index, y=['SAZONALIDADE'])\n",
    "fig.update_traces(hovertemplate=None)\n",
    "fig.update_layout(hovermode='x unified', yaxis_tickformat=',.2f')\n",
    "fig.show()"
   ]
  },
  {
   "cell_type": "markdown",
   "metadata": {},
   "source": [
    "x - Média anual dos repasses por estados"
   ]
  },
  {
   "cell_type": "code",
   "execution_count": null,
   "metadata": {},
   "outputs": [],
   "source": [
    "df_temp = df_e.copy()\n",
    "df_temp = df_temp.groupby('UF').resample(rule='Y').sum(numeric_only=True).reset_index(level=0)\n",
    "df_temp = df_temp.groupby('UF').mean().sort_values(by='TOTAL LIQUIDO')\n",
    "\n",
    "fig = px.bar(data_frame=df_temp,  x='TOTAL LIQUIDO', y=df_temp.index, title='Média do total de repasses recebidos por ano para cada estado de 2007 a 10-2023')\n",
    "fig.update_traces(hovertemplate=None)\n",
    "fig.update_layout(hovermode='y unified', xaxis_tickformat=',.2f')\n",
    "fig.show()"
   ]
  },
  {
   "cell_type": "markdown",
   "metadata": {},
   "source": [
    "x - Média anual dos repasses por fonte"
   ]
  },
  {
   "cell_type": "code",
   "execution_count": null,
   "metadata": {},
   "outputs": [],
   "source": [
    "df_temp = df_e.copy()\n",
    "df_temp = df_temp.groupby('REPASSE').resample(rule='Y').sum(numeric_only=True).reset_index(level=0)\n",
    "df_temp = df_temp.groupby('REPASSE').mean().sort_values(by='TOTAL LIQUIDO')\n",
    "\n",
    "\n",
    "fig = px.pie(data_frame=df_temp,  names=df_temp.index, values='TOTAL LIQUIDO', opacity=0.8, hole=0.5, title='Média do total de repasses recebidos por ano para cada fonte de 2007 a 09-2023')\n",
    "fig.update_traces(hovertemplate=None)\n",
    "fig.update_layout(hovermode='y unified', xaxis_tickformat=',.2f')\n",
    "fig.show()"
   ]
  },
  {
   "cell_type": "markdown",
   "metadata": {},
   "source": [
    "## QUADRO DO PERÍODO ATUAL\n"
   ]
  },
  {
   "cell_type": "markdown",
   "metadata": {},
   "source": [
    "x - Total de repasses por mês de 2023"
   ]
  },
  {
   "cell_type": "code",
   "execution_count": null,
   "metadata": {},
   "outputs": [],
   "source": [
    "df_temp = df_e.copy()\n",
    "filter = (df_temp.index.year >= 2023) & (df_temp.index.month <= 10)\n",
    "df_temp = df_temp[filter].resample(rule='MS').sum(numeric_only=True)\n",
    "display(df_temp.head())\n",
    "\n",
    "fig = px.line(data_frame=df_temp, x=df_temp.index, y='TOTAL LIQUIDO')\n",
    "fig.update_traces(hovertemplate=None)\n",
    "fig.update_layout(hovermode='y unified', yaxis_tickformat=',.2f')\n",
    "fig.show()"
   ]
  },
  {
   "cell_type": "code",
   "execution_count": null,
   "metadata": {},
   "outputs": [],
   "source": [
    "df_temp = df_e.copy()\n",
    "filter = (df_temp.UF == 'AP') & (df_temp.index.year >= 2023) & (df_temp.index.month <= 10)\n",
    "df_temp = df_temp[filter].resample(rule='MS').sum(numeric_only=True)\n",
    "df_temp['SOMA CUMULATIVA'] = df_temp['TOTAL LIQUIDO'].cumsum()\n",
    "df_temp.head()\n",
    "\n",
    "fig = px.bar(data_frame=df_temp,  y=['SOMA CUMULATIVA'], x=df_temp.index, title='Total de repasses efetuados aos estados por mês de 01-2007 a 10-2023')\n",
    "fig.update_traces(hovertemplate=None)\n",
    "fig.update_layout(hovermode='x unified', yaxis_tickformat=',.2f')\n",
    "fig.show()"
   ]
  },
  {
   "cell_type": "markdown",
   "metadata": {},
   "source": [
    "x - Ranking dos estados com maior valor total de repasses no período"
   ]
  },
  {
   "cell_type": "code",
   "execution_count": null,
   "metadata": {},
   "outputs": [],
   "source": [
    "df_temp = df.copy().set_index(keys='COMPETÊNCIA')\n",
    "df_temp = df_temp.loc[(df_temp.index.year >= 2023) & (df_temp.index.month <= 10)]\n",
    "df_temp = df_temp[df_temp.ESFERA =='Estadual']\n",
    "df_temp = df_temp.groupby('UF').resample(rule='Y').sum(numeric_only=True).reset_index(level=0).sort_values(by='TOTAL LIQUIDO')\n",
    "display(df_temp.head())\n",
    "\n",
    "fig = px.bar(data_frame=df_temp, y='UF', x='TOTAL LIQUIDO')\n",
    "fig.update_traces(hovertemplate=None)\n",
    "fig.update_layout(hovermode='x unified', yaxis_tickformat=',.2f')\n",
    "fig.show()"
   ]
  },
  {
   "cell_type": "markdown",
   "metadata": {},
   "source": [
    "x - Ranking do valor total de repasses por fonte"
   ]
  },
  {
   "cell_type": "code",
   "execution_count": null,
   "metadata": {},
   "outputs": [],
   "source": [
    "df_temp = df_e.copy()\n",
    "filter = (df_temp.index.year == 2023) & (df_temp.index.month <= 10)\n",
    "df_temp = df_temp[filter].groupby('REPASSE').sum(numeric_only=True).loc[['COUN_VAAF', 'COUN_VAAR', 'COUN_VAAT', 'FPE', 'FPM', 'ICMS', 'IPI', 'IPVA', 'ITCMD', 'ITR'], :].sort_values(by='TOTAL LIQUIDO', ascending=False)\n",
    "\n",
    "fig = px.bar(data_frame=df_temp, x=df_temp.index.get_level_values(0), y='TOTAL LIQUIDO')\n",
    "fig.update_traces(hovertemplate=None)\n",
    "fig.update_layout(hovermode='x unified', yaxis_tickformat=',.2f')\n",
    "fig.show()"
   ]
  }
 ],
 "metadata": {
  "kernelspec": {
   "display_name": "base",
   "language": "python",
   "name": "python3"
  },
  "language_info": {
   "codemirror_mode": {
    "name": "ipython",
    "version": 3
   },
   "file_extension": ".py",
   "mimetype": "text/x-python",
   "name": "python",
   "nbconvert_exporter": "python",
   "pygments_lexer": "ipython3",
   "version": "3.11.8"
  }
 },
 "nbformat": 4,
 "nbformat_minor": 2
}
