{
 "cells": [
  {
   "cell_type": "code",
   "execution_count": 1,
   "metadata": {},
   "outputs": [
    {
     "name": "stderr",
     "output_type": "stream",
     "text": [
      "2024-04-11 08:44:01.009 WARNING streamlit.runtime.caching.cache_data_api: No runtime found, using MemoryCacheStorageManager\n",
      "2024-04-11 08:44:01.012 WARNING streamlit.runtime.caching.cache_data_api: No runtime found, using MemoryCacheStorageManager\n",
      "2024-04-11 08:44:01.013 WARNING streamlit.runtime.caching.cache_data_api: No runtime found, using MemoryCacheStorageManager\n",
      "2024-04-11 08:44:01.014 WARNING streamlit.runtime.caching.cache_data_api: No runtime found, using MemoryCacheStorageManager\n"
     ]
    }
   ],
   "source": [
    "import pandas as pd\n",
    "import numpy as np\n",
    "import matplotlib.pyplot as plt\n",
    "import seaborn as sns\n",
    "import plotly.express as px\n",
    "from PROJECT_LIBRARY.Data_extraction import *\n",
    "from PROJECT_LIBRARY.Data_transformation import *\n",
    "from PROJECT_LIBRARY.Project_functions import *"
   ]
  },
  {
   "cell_type": "code",
   "execution_count": 2,
   "metadata": {},
   "outputs": [
    {
     "data": {
      "text/html": [
       "<div>\n",
       "<style scoped>\n",
       "    .dataframe tbody tr th:only-of-type {\n",
       "        vertical-align: middle;\n",
       "    }\n",
       "\n",
       "    .dataframe tbody tr th {\n",
       "        vertical-align: top;\n",
       "    }\n",
       "\n",
       "    .dataframe thead th {\n",
       "        text-align: right;\n",
       "    }\n",
       "</style>\n",
       "<table border=\"1\" class=\"dataframe\">\n",
       "  <thead>\n",
       "    <tr style=\"text-align: right;\">\n",
       "      <th></th>\n",
       "      <th>COMPETÊNCIA</th>\n",
       "      <th>UF</th>\n",
       "      <th>AJUSTES</th>\n",
       "      <th>ESFERA</th>\n",
       "      <th>EC123</th>\n",
       "      <th>COUN</th>\n",
       "      <th>VAAF</th>\n",
       "      <th>VAAR</th>\n",
       "      <th>VAAT</th>\n",
       "      <th>FPE</th>\n",
       "      <th>FPM</th>\n",
       "      <th>ICMS</th>\n",
       "      <th>IPI</th>\n",
       "      <th>IPVA</th>\n",
       "      <th>ITCMD</th>\n",
       "      <th>ITR</th>\n",
       "      <th>LC8796</th>\n",
       "      <th>Ajuste</th>\n",
       "    </tr>\n",
       "  </thead>\n",
       "  <tbody>\n",
       "    <tr>\n",
       "      <th>0</th>\n",
       "      <td>2007-01-01</td>\n",
       "      <td>AC</td>\n",
       "      <td>False</td>\n",
       "      <td>ESTADUAL</td>\n",
       "      <td>NaN</td>\n",
       "      <td>NaN</td>\n",
       "      <td>NaN</td>\n",
       "      <td>NaN</td>\n",
       "      <td>NaN</td>\n",
       "      <td>NaN</td>\n",
       "      <td>NaN</td>\n",
       "      <td>NaN</td>\n",
       "      <td>NaN</td>\n",
       "      <td>NaN</td>\n",
       "      <td>NaN</td>\n",
       "      <td>NaN</td>\n",
       "      <td>0.0</td>\n",
       "      <td>NaN</td>\n",
       "    </tr>\n",
       "    <tr>\n",
       "      <th>1</th>\n",
       "      <td>2007-01-01</td>\n",
       "      <td>AC</td>\n",
       "      <td>False</td>\n",
       "      <td>ESTADUAL</td>\n",
       "      <td>NaN</td>\n",
       "      <td>NaN</td>\n",
       "      <td>NaN</td>\n",
       "      <td>NaN</td>\n",
       "      <td>NaN</td>\n",
       "      <td>NaN</td>\n",
       "      <td>NaN</td>\n",
       "      <td>NaN</td>\n",
       "      <td>NaN</td>\n",
       "      <td>NaN</td>\n",
       "      <td>NaN</td>\n",
       "      <td>0.0</td>\n",
       "      <td>NaN</td>\n",
       "      <td>NaN</td>\n",
       "    </tr>\n",
       "    <tr>\n",
       "      <th>2</th>\n",
       "      <td>2007-01-01</td>\n",
       "      <td>AC</td>\n",
       "      <td>False</td>\n",
       "      <td>ESTADUAL</td>\n",
       "      <td>NaN</td>\n",
       "      <td>NaN</td>\n",
       "      <td>NaN</td>\n",
       "      <td>NaN</td>\n",
       "      <td>NaN</td>\n",
       "      <td>NaN</td>\n",
       "      <td>NaN</td>\n",
       "      <td>NaN</td>\n",
       "      <td>NaN</td>\n",
       "      <td>NaN</td>\n",
       "      <td>0.0</td>\n",
       "      <td>NaN</td>\n",
       "      <td>NaN</td>\n",
       "      <td>NaN</td>\n",
       "    </tr>\n",
       "    <tr>\n",
       "      <th>3</th>\n",
       "      <td>2007-01-01</td>\n",
       "      <td>AC</td>\n",
       "      <td>False</td>\n",
       "      <td>ESTADUAL</td>\n",
       "      <td>NaN</td>\n",
       "      <td>NaN</td>\n",
       "      <td>NaN</td>\n",
       "      <td>NaN</td>\n",
       "      <td>NaN</td>\n",
       "      <td>NaN</td>\n",
       "      <td>NaN</td>\n",
       "      <td>NaN</td>\n",
       "      <td>NaN</td>\n",
       "      <td>0.0</td>\n",
       "      <td>NaN</td>\n",
       "      <td>NaN</td>\n",
       "      <td>NaN</td>\n",
       "      <td>NaN</td>\n",
       "    </tr>\n",
       "    <tr>\n",
       "      <th>4</th>\n",
       "      <td>2007-01-01</td>\n",
       "      <td>AC</td>\n",
       "      <td>False</td>\n",
       "      <td>ESTADUAL</td>\n",
       "      <td>NaN</td>\n",
       "      <td>NaN</td>\n",
       "      <td>NaN</td>\n",
       "      <td>NaN</td>\n",
       "      <td>NaN</td>\n",
       "      <td>NaN</td>\n",
       "      <td>NaN</td>\n",
       "      <td>NaN</td>\n",
       "      <td>3548.46</td>\n",
       "      <td>NaN</td>\n",
       "      <td>NaN</td>\n",
       "      <td>NaN</td>\n",
       "      <td>NaN</td>\n",
       "      <td>NaN</td>\n",
       "    </tr>\n",
       "  </tbody>\n",
       "</table>\n",
       "</div>"
      ],
      "text/plain": [
       "  COMPETÊNCIA  UF  AJUSTES    ESFERA  EC123  COUN  VAAF  VAAR  VAAT  FPE  FPM  \\\n",
       "0  2007-01-01  AC    False  ESTADUAL    NaN   NaN   NaN   NaN   NaN  NaN  NaN   \n",
       "1  2007-01-01  AC    False  ESTADUAL    NaN   NaN   NaN   NaN   NaN  NaN  NaN   \n",
       "2  2007-01-01  AC    False  ESTADUAL    NaN   NaN   NaN   NaN   NaN  NaN  NaN   \n",
       "3  2007-01-01  AC    False  ESTADUAL    NaN   NaN   NaN   NaN   NaN  NaN  NaN   \n",
       "4  2007-01-01  AC    False  ESTADUAL    NaN   NaN   NaN   NaN   NaN  NaN  NaN   \n",
       "\n",
       "   ICMS      IPI  IPVA  ITCMD  ITR  LC8796  Ajuste  \n",
       "0   NaN      NaN   NaN    NaN  NaN     0.0     NaN  \n",
       "1   NaN      NaN   NaN    NaN  0.0     NaN     NaN  \n",
       "2   NaN      NaN   NaN    0.0  NaN     NaN     NaN  \n",
       "3   NaN      NaN   0.0    NaN  NaN     NaN     NaN  \n",
       "4   NaN  3548.46   NaN    NaN  NaN     NaN     NaN  "
      ]
     },
     "execution_count": 2,
     "metadata": {},
     "output_type": "execute_result"
    }
   ],
   "source": [
    "df = pd.read_parquet('dataset.parquet')\n",
    "df.head()"
   ]
  },
  {
   "cell_type": "code",
   "execution_count": 3,
   "metadata": {},
   "outputs": [
    {
     "name": "stdout",
     "output_type": "stream",
     "text": [
      "<class 'pandas.core.frame.DataFrame'>\n",
      "RangeIndex: 239112 entries, 0 to 239111\n",
      "Data columns (total 18 columns):\n",
      " #   Column       Non-Null Count   Dtype         \n",
      "---  ------       --------------   -----         \n",
      " 0   COMPETÊNCIA  239112 non-null  datetime64[us]\n",
      " 1   UF           239112 non-null  object        \n",
      " 2   AJUSTES      239112 non-null  bool          \n",
      " 3   ESFERA       239112 non-null  object        \n",
      " 4   EC123        23328 non-null   float64       \n",
      " 5   COUN         23328 non-null   float64       \n",
      " 6   VAAF         23328 non-null   float64       \n",
      " 7   VAAR         23328 non-null   float64       \n",
      " 8   VAAT         23328 non-null   float64       \n",
      " 9   FPE          23328 non-null   float64       \n",
      " 10  FPM          23328 non-null   float64       \n",
      " 11  ICMS         23328 non-null   float64       \n",
      " 12  IPI          23328 non-null   float64       \n",
      " 13  IPVA         23328 non-null   float64       \n",
      " 14  ITCMD        23328 non-null   float64       \n",
      " 15  ITR          23328 non-null   float64       \n",
      " 16  LC8796       23328 non-null   float64       \n",
      " 17  Ajuste       11664 non-null   float64       \n",
      "dtypes: bool(1), datetime64[us](1), float64(14), object(2)\n",
      "memory usage: 31.2+ MB\n"
     ]
    }
   ],
   "source": [
    "df.info()"
   ]
  },
  {
   "cell_type": "code",
   "execution_count": 4,
   "metadata": {},
   "outputs": [],
   "source": [
    "df.fillna(0, inplace=True)"
   ]
  },
  {
   "cell_type": "code",
   "execution_count": 5,
   "metadata": {},
   "outputs": [
    {
     "name": "stdout",
     "output_type": "stream",
     "text": [
      "<class 'pandas.core.frame.DataFrame'>\n",
      "RangeIndex: 239112 entries, 0 to 239111\n",
      "Data columns (total 18 columns):\n",
      " #   Column       Non-Null Count   Dtype         \n",
      "---  ------       --------------   -----         \n",
      " 0   COMPETÊNCIA  239112 non-null  datetime64[us]\n",
      " 1   UF           239112 non-null  object        \n",
      " 2   AJUSTES      239112 non-null  bool          \n",
      " 3   ESFERA       239112 non-null  object        \n",
      " 4   EC123        239112 non-null  float64       \n",
      " 5   COUN         239112 non-null  float64       \n",
      " 6   VAAF         239112 non-null  float64       \n",
      " 7   VAAR         239112 non-null  float64       \n",
      " 8   VAAT         239112 non-null  float64       \n",
      " 9   FPE          239112 non-null  float64       \n",
      " 10  FPM          239112 non-null  float64       \n",
      " 11  ICMS         239112 non-null  float64       \n",
      " 12  IPI          239112 non-null  float64       \n",
      " 13  IPVA         239112 non-null  float64       \n",
      " 14  ITCMD        239112 non-null  float64       \n",
      " 15  ITR          239112 non-null  float64       \n",
      " 16  LC8796       239112 non-null  float64       \n",
      " 17  Ajuste       239112 non-null  float64       \n",
      "dtypes: bool(1), datetime64[us](1), float64(14), object(2)\n",
      "memory usage: 31.2+ MB\n"
     ]
    }
   ],
   "source": [
    "df.info()"
   ]
  },
  {
   "cell_type": "code",
   "execution_count": 7,
   "metadata": {},
   "outputs": [],
   "source": [
    "x = df.loc[(df['COMPETÊNCIA']>='2023-01-01') & (df['COMPETÊNCIA']<'2024-01-01') & (df.ESFERA=='ESTADUAL') & (df.AJUSTES==False) & (df.UF=='AP')]\n",
    "x.head(1)"
   ]
  },
  {
   "cell_type": "code",
   "execution_count": 18,
   "metadata": {},
   "outputs": [
    {
     "name": "stderr",
     "output_type": "stream",
     "text": [
      "C:\\Users\\adria\\AppData\\Local\\Temp\\ipykernel_12376\\192249167.py:1: SettingWithCopyWarning: \n",
      "A value is trying to be set on a copy of a slice from a DataFrame.\n",
      "Try using .loc[row_indexer,col_indexer] = value instead\n",
      "\n",
      "See the caveats in the documentation: https://pandas.pydata.org/pandas-docs/stable/user_guide/indexing.html#returning-a-view-versus-a-copy\n",
      "  x['TOTAL'] = x.sum(axis='columns', numeric_only=True)\n"
     ]
    },
    {
     "data": {
      "text/html": [
       "<div>\n",
       "<style scoped>\n",
       "    .dataframe tbody tr th:only-of-type {\n",
       "        vertical-align: middle;\n",
       "    }\n",
       "\n",
       "    .dataframe tbody tr th {\n",
       "        vertical-align: top;\n",
       "    }\n",
       "\n",
       "    .dataframe thead th {\n",
       "        text-align: right;\n",
       "    }\n",
       "</style>\n",
       "<table border=\"1\" class=\"dataframe\">\n",
       "  <thead>\n",
       "    <tr style=\"text-align: right;\">\n",
       "      <th></th>\n",
       "      <th>COMPETÊNCIA</th>\n",
       "      <th>UF</th>\n",
       "      <th>AJUSTES</th>\n",
       "      <th>ESFERA</th>\n",
       "      <th>EC123</th>\n",
       "      <th>COUN</th>\n",
       "      <th>VAAF</th>\n",
       "      <th>VAAR</th>\n",
       "      <th>VAAT</th>\n",
       "      <th>FPE</th>\n",
       "      <th>FPM</th>\n",
       "      <th>ICMS</th>\n",
       "      <th>IPI</th>\n",
       "      <th>IPVA</th>\n",
       "      <th>ITCMD</th>\n",
       "      <th>ITR</th>\n",
       "      <th>LC8796</th>\n",
       "      <th>Ajuste</th>\n",
       "      <th>TOTAL</th>\n",
       "    </tr>\n",
       "  </thead>\n",
       "  <tbody>\n",
       "    <tr>\n",
       "      <th>212667</th>\n",
       "      <td>2023-01-01</td>\n",
       "      <td>AP</td>\n",
       "      <td>False</td>\n",
       "      <td>ESTADUAL</td>\n",
       "      <td>0.0</td>\n",
       "      <td>0.0</td>\n",
       "      <td>0.0</td>\n",
       "      <td>0.0</td>\n",
       "      <td>0.0</td>\n",
       "      <td>0.0</td>\n",
       "      <td>0.0</td>\n",
       "      <td>0.0</td>\n",
       "      <td>0.0</td>\n",
       "      <td>0.0</td>\n",
       "      <td>0.0</td>\n",
       "      <td>0.0</td>\n",
       "      <td>0.0</td>\n",
       "      <td>0.0</td>\n",
       "      <td>0.0</td>\n",
       "    </tr>\n",
       "  </tbody>\n",
       "</table>\n",
       "</div>"
      ],
      "text/plain": [
       "       COMPETÊNCIA  UF  AJUSTES    ESFERA  EC123  COUN  VAAF  VAAR  VAAT  FPE  \\\n",
       "212667  2023-01-01  AP    False  ESTADUAL    0.0   0.0   0.0   0.0   0.0  0.0   \n",
       "\n",
       "        FPM  ICMS  IPI  IPVA  ITCMD  ITR  LC8796  Ajuste TOTAL  \n",
       "212667  0.0   0.0  0.0   0.0    0.0  0.0     0.0     0.0   0.0  "
      ]
     },
     "execution_count": 18,
     "metadata": {},
     "output_type": "execute_result"
    }
   ],
   "source": [
    "x['TOTAL'] = x.sum(axis='columns', numeric_only=True)\n",
    "x.head(1)"
   ]
  },
  {
   "cell_type": "code",
   "execution_count": 17,
   "metadata": {},
   "outputs": [
    {
     "data": {
      "text/plain": [
       "968996614.9000002"
      ]
     },
     "execution_count": 17,
     "metadata": {},
     "output_type": "execute_result"
    }
   ],
   "source": [
    "x.TOTAL.sum()"
   ]
  }
 ],
 "metadata": {
  "kernelspec": {
   "display_name": "base",
   "language": "python",
   "name": "python3"
  },
  "language_info": {
   "codemirror_mode": {
    "name": "ipython",
    "version": 3
   },
   "file_extension": ".py",
   "mimetype": "text/x-python",
   "name": "python",
   "nbconvert_exporter": "python",
   "pygments_lexer": "ipython3",
   "version": "3.11.8"
  }
 },
 "nbformat": 4,
 "nbformat_minor": 2
}
