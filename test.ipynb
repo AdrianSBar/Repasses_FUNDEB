{
 "cells": [
  {
   "cell_type": "code",
   "execution_count": 1,
   "metadata": {},
   "outputs": [
    {
     "name": "stderr",
     "output_type": "stream",
     "text": [
      "2024-03-15 01:54:04.025 WARNING streamlit.runtime.caching.cache_data_api: No runtime found, using MemoryCacheStorageManager\n",
      "2024-03-15 01:54:04.026 WARNING streamlit.runtime.caching.cache_data_api: No runtime found, using MemoryCacheStorageManager\n",
      "2024-03-15 01:54:04.027 WARNING streamlit.runtime.caching.cache_data_api: No runtime found, using MemoryCacheStorageManager\n",
      "2024-03-15 01:54:04.028 WARNING streamlit.runtime.caching.cache_data_api: No runtime found, using MemoryCacheStorageManager\n"
     ]
    }
   ],
   "source": [
    "import pandas as pd\n",
    "import numpy as np\n",
    "import plotly.express as px\n",
    "from PROJECT_LIBRARY.Data_extraction import *\n",
    "from PROJECT_LIBRARY.Data_transformation import *\n",
    "from PROJECT_LIBRARY.Project_functions import *"
   ]
  },
  {
   "cell_type": "code",
   "execution_count": 2,
   "metadata": {},
   "outputs": [
    {
     "name": "stderr",
     "output_type": "stream",
     "text": [
      "2024-03-15 01:54:05.701 \n",
      "  \u001b[33m\u001b[1mWarning:\u001b[0m to view this Streamlit app on a browser, run it with the following\n",
      "  command:\n",
      "\n",
      "    streamlit run c:\\Users\\adria\\anaconda3\\envs\\repasses_fundeb\\Lib\\site-packages\\ipykernel_launcher.py [ARGUMENTS]\n",
      "2024-03-15 01:54:05.702 No runtime found, using MemoryCacheStorageManager\n",
      "2024-03-15 01:54:05.748 No runtime found, using MemoryCacheStorageManager\n",
      "2024-03-15 01:54:05.781 No runtime found, using MemoryCacheStorageManager\n",
      "c:\\Users\\adria\\OneDrive\\Documentos\\3_PORTFOLIO\\Educação\\repasses_fundeb\\PROJECT_LIBRARY\\Project_functions.py:34: FutureWarning: 'Y' is deprecated and will be removed in a future version, please use 'YE' instead.\n",
      "  df_year = df.resample('Y').sum(numeric_only=True)\n"
     ]
    }
   ],
   "source": [
    "df = load_data(path='./DATASETS/summarized_data.parquet')\n",
    "df_month = load_data_month(df)\n",
    "df_year = load_data_year(df)"
   ]
  }
 ],
 "metadata": {
  "kernelspec": {
   "display_name": "base",
   "language": "python",
   "name": "python3"
  },
  "language_info": {
   "codemirror_mode": {
    "name": "ipython",
    "version": 3
   },
   "file_extension": ".py",
   "mimetype": "text/x-python",
   "name": "python",
   "nbconvert_exporter": "python",
   "pygments_lexer": "ipython3",
   "version": "3.11.8"
  }
 },
 "nbformat": 4,
 "nbformat_minor": 2
}
